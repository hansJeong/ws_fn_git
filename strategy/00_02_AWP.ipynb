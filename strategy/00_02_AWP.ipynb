{
 "cells": [
  {
   "cell_type": "code",
   "execution_count": 1,
   "metadata": {},
   "outputs": [],
   "source": [
    "## All-Weather"
   ]
  },
  {
   "cell_type": "code",
   "execution_count": 2,
   "metadata": {
    "ExecuteTime": {
     "end_time": "2023-02-20T12:28:55.898133Z",
     "start_time": "2023-02-20T12:28:55.091883Z"
    }
   },
   "outputs": [
    {
     "data": {
      "text/html": [
       "        <script type=\"text/javascript\">\n",
       "        window.PlotlyConfig = {MathJaxConfig: 'local'};\n",
       "        if (window.MathJax && window.MathJax.Hub && window.MathJax.Hub.Config) {window.MathJax.Hub.Config({SVG: {font: \"STIX-Web\"}});}\n",
       "        if (typeof require !== 'undefined') {\n",
       "        require.undef(\"plotly\");\n",
       "        requirejs.config({\n",
       "            paths: {\n",
       "                'plotly': ['https://cdn.plot.ly/plotly-2.12.1.min']\n",
       "            }\n",
       "        });\n",
       "        require(['plotly'], function(Plotly) {\n",
       "            window._Plotly = Plotly;\n",
       "        });\n",
       "        }\n",
       "        </script>\n",
       "        "
      ]
     },
     "metadata": {},
     "output_type": "display_data"
    }
   ],
   "source": [
    "import pandas as pd\n",
    "import warnings\n",
    "warnings.filterwarnings('ignore')\n",
    "import numpy as np\n",
    "import datetime as dt\n",
    "\n",
    "# 시각화 관련\n",
    "import plotly_express as px\n",
    "import plotly.figure_factory as ff\n",
    "import cufflinks as cf\n",
    "cf.go_offline(connected=True)\n",
    "## cf.getThemes()\n",
    "cf.set_config_file(theme='polar')\n",
    "import plotly.graph_objects as go\n",
    "%matplotlib inline\n",
    "import matplotlib.pyplot as plt\n",
    "import seaborn as sns\n",
    "sns.set_style('whitegrid')\n",
    "## plt.style.use(\"fivethirtyeight\")\n",
    "plt.rcParams['font.family'] = 'Malgun Gothic'\n",
    "plt.rcParams['axes.unicode_minus'] = False\n",
    "plt.rcParams[\"figure.figsize\"] = (10,6)\n",
    "\n",
    "\n",
    "## 퀀트함수 ## 절대경로 참조\n",
    "import sys, os\n",
    "sys.path.append(os.path.dirname(os.path.abspath(os.path.dirname('__file__'))))\n",
    "from library.quant_functions import anal_funcs, data_funcs"
   ]
  },
  {
   "attachments": {},
   "cell_type": "markdown",
   "metadata": {},
   "source": [
    "## Func"
   ]
  },
  {
   "cell_type": "code",
   "execution_count": 3,
   "metadata": {},
   "outputs": [],
   "source": [
    "## target_sum이 되는 0이상 k개 숫자의 모든 순열\n",
    "## n은 탐색 시작점\n",
    "def permutations_k_sum(n, k, target_sum, prefix=[]):\n",
    "    ## 종료조건\n",
    "    if k == 0:\n",
    "        if target_sum == 0:\n",
    "            return [prefix]\n",
    "        return []\n",
    "    if n < 0:\n",
    "        return []\n",
    "    if target_sum < 0:\n",
    "        return []\n",
    "    permutations = []\n",
    "    for i in range(n+1):\n",
    "        permutations += permutations_k_sum(n, k-1, target_sum-i, prefix+[i])\n",
    "    return permutations"
   ]
  },
  {
   "cell_type": "code",
   "execution_count": 4,
   "metadata": {
    "ExecuteTime": {
     "end_time": "2023-02-20T12:28:58.635164Z",
     "start_time": "2023-02-20T12:28:58.621134Z"
    },
    "code_folding": []
   },
   "outputs": [],
   "source": [
    "## 리벨런싱 로직\n",
    "def cal_rebalancing(df, ratio = [0.5, 0.5], rebalancing=None, unit = None):\n",
    "    new_df = df.copy()\n",
    "    ## rebalancing 'm'월, 'y'연, \n",
    "    df_dict = []\n",
    "    ## 데이터 분할\n",
    "    years = sorted(new_df.index.year.unique())\n",
    "    months = sorted(new_df.index.month.unique())\n",
    "    \n",
    "    ## 가치변화 계산용(월단위 집계데이터로 계산할 때 발생하는 에러보정)\n",
    "    if (rebalancing == 'm')&(unit == 'monthly'):\n",
    "        temp_df = new_df.copy()\n",
    "        temp_df.index = temp_df.index - dt.timedelta(days=1)\n",
    "        new_df = new_df.append(temp_df)\n",
    "        new_df = new_df.sort_index()\n",
    "        new_df = new_df.shift(-1).dropna()\n",
    "        \n",
    "    if rebalancing == 'm' :\n",
    "        for year in years:\n",
    "            for month in months:\n",
    "                temp = new_df[(new_df.index.year == year)&(new_df.index.month == month)]\n",
    "                if len(temp) > 0:\n",
    "                    df_dict.append(temp)\n",
    "                    \n",
    "    elif rebalancing == 'y':\n",
    "        for year in years:\n",
    "            temp = new_df[(new_df.index.year == year)]\n",
    "            if len(temp) > 0:\n",
    "                df_dict.append(temp)\n",
    "    else:\n",
    "        df_dict.append(new_df)\n",
    "    ## 리벨런싱 적용\n",
    "    prev_val = 1\n",
    "    temp_series = pd.Series()\n",
    "    for i in range(len(df_dict)):    \n",
    "        temp = df_dict[i]/(np.array(df_dict[i])[0])\n",
    "        temp_AWP = (temp * ratio).sum(axis=1)*prev_val\n",
    "        prev_val = temp_AWP[-1]\n",
    "        temp_series = temp_series.append(temp_AWP)\n",
    "    new_df['strategy'] = temp_series\n",
    "    \n",
    "    ## 가치변화 계산용 임시 데이터프레임을 원래 형태로 되돌림\n",
    "    if (rebalancing == 'm')&(unit == 'monthly'):\n",
    "        new_df['temp_y'] = new_df.index.year\n",
    "        new_df['temp_m'] = new_df.index.month\n",
    "        new_df = new_df.drop_duplicates(['temp_y', 'temp_m'])\n",
    "        new_df = new_df.drop(columns=['temp_y', 'temp_m'])\n",
    "        new_df.index = df.index\n",
    "    \n",
    "    return new_df"
   ]
  },
  {
   "cell_type": "code",
   "execution_count": 51,
   "metadata": {
    "ExecuteTime": {
     "end_time": "2023-02-20T12:28:58.650754Z",
     "start_time": "2023-02-20T12:28:58.636684Z"
    }
   },
   "outputs": [],
   "source": [
    "## Optimization\n",
    "def cal_optimal(df, unit='monthly', rebalancing = 'm', d = 10, min_edge = 50):\n",
    "    '''   \n",
    "    * df: 자산가치 시계열\n",
    "    * unit 데이터 집계주기 : daily, monthly\n",
    "    * rebalancing 리벨런싱 주기 : None, m, y\n",
    "    * d: 비중 시뮬레이션 범주단계 ex)10은 10%씩 변동\n",
    "    * min_edge : edge(1번) 자산의 최소 비중\n",
    "    '''\n",
    "\n",
    "    k = len(df.T)\n",
    "    combinations = permutations_k_sum(100//d, k, 100//d)\n",
    "    combinations = pd.DataFrame(combinations)*d\n",
    "    combinations = combinations[combinations[0] >= min_edge]\n",
    "\n",
    "    pyrr, pydd, pstn, pvol, psharp, pweight = [], [], [], [], [], []\n",
    "    print(f\"총 {len(combinations)}번 시행 예정\")\n",
    "    for p in range (len(combinations)):\n",
    "        if p==0:\n",
    "            print(f\"1번째 시행 중\")\n",
    "        if (p%100 == 99):\n",
    "            print(f\"{p+1}번째 시행 중\")\n",
    "        ## weights = np.random.random(k)   # 랜덤한 n개의 숫자를 생성함(n개의 자산에 대응)\n",
    "        weights = np.array(combinations)[p] \n",
    "        weights = weights/np.sum(weights) ## 비중 합계를 1로 조정\n",
    "\n",
    "        result_df = cal_rebalancing(df, weights, rebalancing=rebalancing, unit=unit)\n",
    "        sortino = anal_funcs.get_Vol_report(result_df, 'a', unit=unit)\n",
    "\n",
    "        pyrr.append(sortino['Return'][len(sortino)-1])\n",
    "        pydd.append(sortino['Volatility(Down)'][len(sortino)-1])\n",
    "        pstn.append(sortino['Sortino_Ratio'][len(sortino)-1])\n",
    "        pvol.append(sortino['Volatility'][len(sortino)-1])\n",
    "        psharp.append(sortino['Sharpe_Ratio'][len(sortino)-1])\n",
    "        pweight.append(weights)\n",
    "\n",
    "    pyrr = np.array(pyrr)\n",
    "    pydd = np.array(pydd)\n",
    "    pstn = np.array(pstn)\n",
    "    pvol = np.array(pvol)\n",
    "    psharp = np.array(psharp)\n",
    "    pweight = np.array(pweight)\n",
    "\n",
    "    process = pd.DataFrame(pweight, columns=df.columns)\n",
    "    process['Return'] = pyrr\n",
    "    process['Volatility'] = pvol\n",
    "    process['Volatility(Down)'] = pydd\n",
    "    process['Sharpe Ratio'] = psharp\n",
    "    process['Sortino Ratio'] = pstn\n",
    "    \n",
    "    obtimal = process[process['Sortino Ratio']==process['Sortino Ratio'].max()]\n",
    "    obtimal = obtimal.reset_index(drop=True)\n",
    "    min_risk = process[process['Volatility']==process['Volatility'].min()]\n",
    "    min_risk = min_risk.reset_index(drop=True)\n",
    "\n",
    "    return process, obtimal, min_risk"
   ]
  },
  {
   "attachments": {},
   "cell_type": "markdown",
   "metadata": {},
   "source": [
    "## Proc"
   ]
  },
  {
   "cell_type": "code",
   "execution_count": 90,
   "metadata": {
    "ExecuteTime": {
     "end_time": "2023-02-20T12:29:10.223429Z",
     "start_time": "2023-02-20T12:28:59.522993Z"
    }
   },
   "outputs": [
    {
     "name": "stdout",
     "output_type": "stream",
     "text": [
      "[*********************100%***********************]  11 of 11 completed\n"
     ]
    }
   ],
   "source": [
    "## 올웨더용 자산군 데이터\n",
    "AWP_df = data_funcs.get_merged_df('SPY', 'QQQ', 'IWM', 'VTI', 'VEA', 'VWO', 'TLT', 'IEF', 'SHY', 'GLD', 'DBC')\n",
    "AWP_df = AWP_df[['QQQ', 'IWM', 'TLT', 'IEF', 'GLD']].dropna()\n",
    "## 백태스트 기간정의\n",
    "## AWP_df = AWP_df['2007:']\n",
    "## 월단위 변환\n",
    "AWP_df = AWP_df.resample('M').last()[:-1]"
   ]
  },
  {
   "cell_type": "code",
   "execution_count": 93,
   "metadata": {
    "ExecuteTime": {
     "end_time": "2023-02-20T09:03:52.494185Z",
     "start_time": "2023-02-20T09:02:57.956086Z"
    },
    "scrolled": true
   },
   "outputs": [
    {
     "name": "stdout",
     "output_type": "stream",
     "text": [
      "총 17550번 시행 예정\n",
      "1번째 시행 중\n",
      "100번째 시행 중\n",
      "200번째 시행 중\n",
      "300번째 시행 중\n",
      "400번째 시행 중\n",
      "500번째 시행 중\n",
      "600번째 시행 중\n",
      "700번째 시행 중\n",
      "800번째 시행 중\n",
      "900번째 시행 중\n",
      "1000번째 시행 중\n",
      "1100번째 시행 중\n",
      "1200번째 시행 중\n",
      "1300번째 시행 중\n",
      "1400번째 시행 중\n",
      "1500번째 시행 중\n",
      "1600번째 시행 중\n",
      "1700번째 시행 중\n",
      "1800번째 시행 중\n",
      "1900번째 시행 중\n",
      "2000번째 시행 중\n",
      "2100번째 시행 중\n",
      "2200번째 시행 중\n",
      "2300번째 시행 중\n",
      "2400번째 시행 중\n",
      "2500번째 시행 중\n",
      "2600번째 시행 중\n",
      "2700번째 시행 중\n",
      "2800번째 시행 중\n",
      "2900번째 시행 중\n",
      "3000번째 시행 중\n",
      "3100번째 시행 중\n",
      "3200번째 시행 중\n",
      "3300번째 시행 중\n",
      "3400번째 시행 중\n",
      "3500번째 시행 중\n",
      "3600번째 시행 중\n",
      "3700번째 시행 중\n",
      "3800번째 시행 중\n",
      "3900번째 시행 중\n",
      "4000번째 시행 중\n",
      "4100번째 시행 중\n",
      "4200번째 시행 중\n",
      "4300번째 시행 중\n",
      "4400번째 시행 중\n",
      "4500번째 시행 중\n",
      "4600번째 시행 중\n",
      "4700번째 시행 중\n",
      "4800번째 시행 중\n",
      "4900번째 시행 중\n",
      "5000번째 시행 중\n",
      "5100번째 시행 중\n",
      "5200번째 시행 중\n",
      "5300번째 시행 중\n",
      "5400번째 시행 중\n",
      "5500번째 시행 중\n",
      "5600번째 시행 중\n",
      "5700번째 시행 중\n",
      "5800번째 시행 중\n",
      "5900번째 시행 중\n",
      "6000번째 시행 중\n",
      "6100번째 시행 중\n",
      "6200번째 시행 중\n",
      "6300번째 시행 중\n",
      "6400번째 시행 중\n",
      "6500번째 시행 중\n",
      "6600번째 시행 중\n",
      "6700번째 시행 중\n",
      "6800번째 시행 중\n",
      "6900번째 시행 중\n",
      "7000번째 시행 중\n",
      "7100번째 시행 중\n",
      "7200번째 시행 중\n",
      "7300번째 시행 중\n",
      "7400번째 시행 중\n",
      "7500번째 시행 중\n",
      "7600번째 시행 중\n",
      "7700번째 시행 중\n",
      "7800번째 시행 중\n",
      "7900번째 시행 중\n",
      "8000번째 시행 중\n",
      "8100번째 시행 중\n",
      "8200번째 시행 중\n",
      "8300번째 시행 중\n",
      "8400번째 시행 중\n",
      "8500번째 시행 중\n",
      "8600번째 시행 중\n",
      "8700번째 시행 중\n",
      "8800번째 시행 중\n",
      "8900번째 시행 중\n",
      "9000번째 시행 중\n",
      "9100번째 시행 중\n",
      "9200번째 시행 중\n",
      "9300번째 시행 중\n",
      "9400번째 시행 중\n",
      "9500번째 시행 중\n",
      "9600번째 시행 중\n",
      "9700번째 시행 중\n",
      "9800번째 시행 중\n",
      "9900번째 시행 중\n",
      "10000번째 시행 중\n",
      "10100번째 시행 중\n",
      "10200번째 시행 중\n",
      "10300번째 시행 중\n",
      "10400번째 시행 중\n",
      "10500번째 시행 중\n",
      "10600번째 시행 중\n",
      "10700번째 시행 중\n",
      "10800번째 시행 중\n",
      "10900번째 시행 중\n",
      "11000번째 시행 중\n",
      "11100번째 시행 중\n",
      "11200번째 시행 중\n",
      "11300번째 시행 중\n",
      "11400번째 시행 중\n",
      "11500번째 시행 중\n",
      "11600번째 시행 중\n",
      "11700번째 시행 중\n",
      "11800번째 시행 중\n",
      "11900번째 시행 중\n",
      "12000번째 시행 중\n",
      "12100번째 시행 중\n",
      "12200번째 시행 중\n",
      "12300번째 시행 중\n",
      "12400번째 시행 중\n",
      "12500번째 시행 중\n",
      "12600번째 시행 중\n",
      "12700번째 시행 중\n",
      "12800번째 시행 중\n"
     ]
    }
   ],
   "source": [
    "## trainset = AWP_df[AWP_df.index >= '2020-01-01']\n",
    "trainset = AWP_df.copy()\n",
    "process, obtimal, min_risk = cal_optimal(trainset, unit='monthly', rebalancing = 'm', d = 3, min_edge=30)"
   ]
  },
  {
   "cell_type": "code",
   "execution_count": null,
   "metadata": {
    "ExecuteTime": {
     "end_time": "2023-02-20T09:04:04.131777Z",
     "start_time": "2023-02-20T09:04:03.902223Z"
    }
   },
   "outputs": [
    {
     "data": {
      "image/png": "[encoded data removed]",
      "text/plain": [
       "<Figure size 720x432 with 2 Axes>"
      ]
     },
     "metadata": {},
     "output_type": "display_data"
    }
   ],
   "source": [
    "plt.scatter(process['Volatility'], process['Return'], c=process['Sharpe Ratio'], marker='o')\n",
    "plt.grid(True)\n",
    "plt.xlabel('Risk(Standard)')\n",
    "plt.ylabel('Return(Expected)')\n",
    "plt.colorbar(label='Sortino Ratio')\n",
    "\n",
    "plt.ylim([0, 20])\n",
    "plt.ylim([0, 20])\n",
    "\n",
    "plt.scatter(obtimal['Volatility'][0], obtimal['Return'][0], marker=\"*\", s=200, alpha=0.7)\n",
    "plt.scatter(min_risk['Volatility'][0], min_risk['Return'][0], marker=\"*\", s=200, alpha=0.7)\n",
    "\n",
    "plt.show()"
   ]
  },
  {
   "cell_type": "code",
   "execution_count": null,
   "metadata": {
    "ExecuteTime": {
     "end_time": "2022-07-06T00:53:27.165774Z",
     "start_time": "2022-07-06T00:53:27.157771Z"
    }
   },
   "outputs": [],
   "source": [
    "## ('VTI', 'VWO', 'TLT', 'SHY', 'IAU', 'DBC')\n",
    "## [0.5, 0.00, 0.15, 0.0, 0.35, 0.0]"
   ]
  },
  {
   "cell_type": "code",
   "execution_count": null,
   "metadata": {
    "ExecuteTime": {
     "end_time": "2022-07-06T00:53:31.010038Z",
     "start_time": "2022-07-06T00:53:30.993245Z"
    }
   },
   "outputs": [],
   "source": [
    "AWP_ratio = pd.DataFrame(list(obtimal.values[0][:-5]),\n",
    "             index=obtimal.columns[:-5], columns=['ratio'])\n",
    "AWP_ratio = AWP_ratio.apply(lambda x:x.round(2))"
   ]
  },
  {
   "cell_type": "code",
   "execution_count": null,
   "metadata": {
    "ExecuteTime": {
     "end_time": "2023-02-20T12:30:14.412764Z",
     "start_time": "2023-02-20T12:30:14.067538Z"
    }
   },
   "outputs": [],
   "source": [
    "## 올웨더 전략 실행\n",
    "## ratio = list(obtimal.values[0][:-3])\n",
    "ratio = list(AWP_ratio['ratio'])\n",
    "## ratio = [0.25, 0.2, 0.02, 0.02, 0.15, 0.15, 0.15, 0.05, 0.01]\n",
    "AWP_result = cal_rebalancing(AWP_df, ratio=ratio, rebalancing='m')"
   ]
  },
  {
   "attachments": {},
   "cell_type": "markdown",
   "metadata": {},
   "source": [
    "## Report"
   ]
  },
  {
   "cell_type": "code",
   "execution_count": null,
   "metadata": {},
   "outputs": [
    {
     "data": {
      "image/png": "[encoded data removed]",
      "text/plain": [
       "<Figure size 720x432 with 1 Axes>"
      ]
     },
     "metadata": {},
     "output_type": "display_data"
    }
   ],
   "source": [
    "(AWP_result/np.array(AWP_result)[0])[['VTI', 'TLT', 'strategy']].plot()\n",
    "plt.yscale('log')\n",
    "plt.show()"
   ]
  },
  {
   "cell_type": "code",
   "execution_count": null,
   "metadata": {},
   "outputs": [
    {
     "data": {
      "text/html": [
       "<div>\n",
       "<style scoped>\n",
       "    .dataframe tbody tr th:only-of-type {\n",
       "        vertical-align: middle;\n",
       "    }\n",
       "\n",
       "    .dataframe tbody tr th {\n",
       "        vertical-align: top;\n",
       "    }\n",
       "\n",
       "    .dataframe thead th {\n",
       "        text-align: right;\n",
       "    }\n",
       "</style>\n",
       "<table border=\"1\" class=\"dataframe\">\n",
       "  <thead>\n",
       "    <tr style=\"text-align: right;\">\n",
       "      <th></th>\n",
       "      <th>VTI</th>\n",
       "      <th>TLT</th>\n",
       "      <th>IAU</th>\n",
       "      <th>strategy</th>\n",
       "    </tr>\n",
       "    <tr>\n",
       "      <th>Date</th>\n",
       "      <th></th>\n",
       "      <th></th>\n",
       "      <th></th>\n",
       "      <th></th>\n",
       "    </tr>\n",
       "  </thead>\n",
       "  <tbody>\n",
       "    <tr>\n",
       "      <th>2006</th>\n",
       "      <td>14.58</td>\n",
       "      <td>0.71</td>\n",
       "      <td>20.11</td>\n",
       "      <td>12.01</td>\n",
       "    </tr>\n",
       "    <tr>\n",
       "      <th>2007</th>\n",
       "      <td>5.23</td>\n",
       "      <td>9.81</td>\n",
       "      <td>26.51</td>\n",
       "      <td>12.24</td>\n",
       "    </tr>\n",
       "    <tr>\n",
       "      <th>2008</th>\n",
       "      <td>-46.18</td>\n",
       "      <td>29.23</td>\n",
       "      <td>4.98</td>\n",
       "      <td>-9.06</td>\n",
       "    </tr>\n",
       "    <tr>\n",
       "      <th>2009</th>\n",
       "      <td>25.39</td>\n",
       "      <td>-24.60</td>\n",
       "      <td>21.43</td>\n",
       "      <td>20.41</td>\n",
       "    </tr>\n",
       "    <tr>\n",
       "      <th>2010</th>\n",
       "      <td>16.07</td>\n",
       "      <td>8.63</td>\n",
       "      <td>25.82</td>\n",
       "      <td>13.64</td>\n",
       "    </tr>\n",
       "    <tr>\n",
       "      <th>2011</th>\n",
       "      <td>0.96</td>\n",
       "      <td>29.27</td>\n",
       "      <td>9.14</td>\n",
       "      <td>10.72</td>\n",
       "    </tr>\n",
       "    <tr>\n",
       "      <th>2012</th>\n",
       "      <td>15.23</td>\n",
       "      <td>2.38</td>\n",
       "      <td>6.67</td>\n",
       "      <td>6.57</td>\n",
       "    </tr>\n",
       "    <tr>\n",
       "      <th>2013</th>\n",
       "      <td>28.86</td>\n",
       "      <td>-14.37</td>\n",
       "      <td>-33.21</td>\n",
       "      <td>-0.96</td>\n",
       "    </tr>\n",
       "    <tr>\n",
       "      <th>2014</th>\n",
       "      <td>11.82</td>\n",
       "      <td>24.14</td>\n",
       "      <td>-2.08</td>\n",
       "      <td>7.03</td>\n",
       "    </tr>\n",
       "    <tr>\n",
       "      <th>2015</th>\n",
       "      <td>0.35</td>\n",
       "      <td>-1.81</td>\n",
       "      <td>-11.18</td>\n",
       "      <td>-4.75</td>\n",
       "    </tr>\n",
       "    <tr>\n",
       "      <th>2016</th>\n",
       "      <td>12.06</td>\n",
       "      <td>1.16</td>\n",
       "      <td>7.98</td>\n",
       "      <td>8.51</td>\n",
       "    </tr>\n",
       "    <tr>\n",
       "      <th>2017</th>\n",
       "      <td>19.24</td>\n",
       "      <td>8.79</td>\n",
       "      <td>12.14</td>\n",
       "      <td>14.16</td>\n",
       "    </tr>\n",
       "    <tr>\n",
       "      <th>2018</th>\n",
       "      <td>-5.38</td>\n",
       "      <td>-1.62</td>\n",
       "      <td>-1.77</td>\n",
       "      <td>-3.48</td>\n",
       "    </tr>\n",
       "    <tr>\n",
       "      <th>2019</th>\n",
       "      <td>26.75</td>\n",
       "      <td>13.21</td>\n",
       "      <td>16.54</td>\n",
       "      <td>21.95</td>\n",
       "    </tr>\n",
       "    <tr>\n",
       "      <th>2020</th>\n",
       "      <td>19.12</td>\n",
       "      <td>16.68</td>\n",
       "      <td>22.34</td>\n",
       "      <td>16.80</td>\n",
       "    </tr>\n",
       "    <tr>\n",
       "      <th>2021</th>\n",
       "      <td>22.86</td>\n",
       "      <td>-4.71</td>\n",
       "      <td>-4.08</td>\n",
       "      <td>4.06</td>\n",
       "    </tr>\n",
       "    <tr>\n",
       "      <th>2022</th>\n",
       "      <td>-21.72</td>\n",
       "      <td>-37.45</td>\n",
       "      <td>-0.63</td>\n",
       "      <td>-17.11</td>\n",
       "    </tr>\n",
       "    <tr>\n",
       "      <th>MEAN</th>\n",
       "      <td>6.50</td>\n",
       "      <td>1.91</td>\n",
       "      <td>5.93</td>\n",
       "      <td>6.10</td>\n",
       "    </tr>\n",
       "  </tbody>\n",
       "</table>\n",
       "</div>"
      ],
      "text/plain": [
       "        VTI    TLT    IAU  strategy\n",
       "Date                               \n",
       "2006  14.58   0.71  20.11     12.01\n",
       "2007   5.23   9.81  26.51     12.24\n",
       "2008 -46.18  29.23   4.98     -9.06\n",
       "2009  25.39 -24.60  21.43     20.41\n",
       "2010  16.07   8.63  25.82     13.64\n",
       "2011   0.96  29.27   9.14     10.72\n",
       "2012  15.23   2.38   6.67      6.57\n",
       "2013  28.86 -14.37 -33.21     -0.96\n",
       "2014  11.82  24.14  -2.08      7.03\n",
       "2015   0.35  -1.81 -11.18     -4.75\n",
       "2016  12.06   1.16   7.98      8.51\n",
       "2017  19.24   8.79  12.14     14.16\n",
       "2018  -5.38  -1.62  -1.77     -3.48\n",
       "2019  26.75  13.21  16.54     21.95\n",
       "2020  19.12  16.68  22.34     16.80\n",
       "2021  22.86  -4.71  -4.08      4.06\n",
       "2022 -21.72 -37.45  -0.63    -17.11\n",
       "MEAN   6.50   1.91   5.93      6.10"
      ]
     },
     "execution_count": 38,
     "metadata": {},
     "output_type": "execute_result"
    }
   ],
   "source": [
    "## 연수익률\n",
    "anal_funcs.get_YTD_report(AWP_result, 'g')"
   ]
  },
  {
   "cell_type": "code",
   "execution_count": null,
   "metadata": {},
   "outputs": [
    {
     "data": {
      "text/html": [
       "<div>\n",
       "<style scoped>\n",
       "    .dataframe tbody tr th:only-of-type {\n",
       "        vertical-align: middle;\n",
       "    }\n",
       "\n",
       "    .dataframe tbody tr th {\n",
       "        vertical-align: top;\n",
       "    }\n",
       "\n",
       "    .dataframe thead th {\n",
       "        text-align: right;\n",
       "    }\n",
       "</style>\n",
       "<table border=\"1\" class=\"dataframe\">\n",
       "  <thead>\n",
       "    <tr style=\"text-align: right;\">\n",
       "      <th></th>\n",
       "      <th>MDD(%)</th>\n",
       "      <th>Date</th>\n",
       "    </tr>\n",
       "    <tr>\n",
       "      <th>Ticker</th>\n",
       "      <th></th>\n",
       "      <th></th>\n",
       "    </tr>\n",
       "  </thead>\n",
       "  <tbody>\n",
       "    <tr>\n",
       "      <th>VTI</th>\n",
       "      <td>-80.86</td>\n",
       "      <td>2009-03-09</td>\n",
       "    </tr>\n",
       "    <tr>\n",
       "      <th>TLT</th>\n",
       "      <td>-58.22</td>\n",
       "      <td>2022-10-24</td>\n",
       "    </tr>\n",
       "    <tr>\n",
       "      <th>IAU</th>\n",
       "      <td>-60.03</td>\n",
       "      <td>2015-12-02</td>\n",
       "    </tr>\n",
       "    <tr>\n",
       "      <th>strategy</th>\n",
       "      <td>-35.70</td>\n",
       "      <td>2008-11-20</td>\n",
       "    </tr>\n",
       "  </tbody>\n",
       "</table>\n",
       "</div>"
      ],
      "text/plain": [
       "          MDD(%)       Date\n",
       "Ticker                     \n",
       "VTI       -80.86 2009-03-09\n",
       "TLT       -58.22 2022-10-24\n",
       "IAU       -60.03 2015-12-02\n",
       "strategy  -35.70 2008-11-20"
      ]
     },
     "execution_count": 39,
     "metadata": {},
     "output_type": "execute_result"
    }
   ],
   "source": [
    "## 전고점대비 최대낙폭(MDD)\n",
    "MDD, HRR = anal_funcs.get_MDD_report(AWP_result, 'g')\n",
    "MDD"
   ]
  },
  {
   "cell_type": "code",
   "execution_count": null,
   "metadata": {},
   "outputs": [],
   "source": [
    "test_dfs = [AWP_result.reset_index().shift(i).set_index('Date')[-(len(AWP_result)+1 - int(len(AWP_result)/10)):]\n",
    "            for i in range(int(len(AWP_result)/10))]"
   ]
  },
  {
   "cell_type": "code",
   "execution_count": null,
   "metadata": {},
   "outputs": [],
   "source": [
    "## sortino ratio\n",
    "sort_df = anal_funcs.get_Vol_report(test_dfs[0], 'a', unit='daily', rf=1)\n",
    "## 모든 가능한 시작 시점에 대한 평가\n",
    "temp = ([anal_funcs.get_Vol_report(test_dfs[i], 'a', unit='daily', rf=1) for i in range(len(test_dfs))])\n",
    "sort_df_simulation = (sum(temp)/len(temp)).round(2)"
   ]
  },
  {
   "cell_type": "code",
   "execution_count": null,
   "metadata": {},
   "outputs": [
    {
     "data": {
      "text/html": [
       "<div>\n",
       "<style scoped>\n",
       "    .dataframe tbody tr th:only-of-type {\n",
       "        vertical-align: middle;\n",
       "    }\n",
       "\n",
       "    .dataframe tbody tr th {\n",
       "        vertical-align: top;\n",
       "    }\n",
       "\n",
       "    .dataframe thead th {\n",
       "        text-align: right;\n",
       "    }\n",
       "</style>\n",
       "<table border=\"1\" class=\"dataframe\">\n",
       "  <thead>\n",
       "    <tr style=\"text-align: right;\">\n",
       "      <th></th>\n",
       "      <th>Return</th>\n",
       "      <th>Volatility</th>\n",
       "      <th>Volatility(Down)</th>\n",
       "      <th>Residual</th>\n",
       "      <th>Beta</th>\n",
       "      <th>Sharpe_Ratio</th>\n",
       "      <th>Sortino_Ratio</th>\n",
       "      <th>Trainer_Ratio</th>\n",
       "      <th>Jensen_Alpha</th>\n",
       "      <th>Info_Ratio</th>\n",
       "    </tr>\n",
       "    <tr>\n",
       "      <th>Ticker</th>\n",
       "      <th></th>\n",
       "      <th></th>\n",
       "      <th></th>\n",
       "      <th></th>\n",
       "      <th></th>\n",
       "      <th></th>\n",
       "      <th></th>\n",
       "      <th></th>\n",
       "      <th></th>\n",
       "      <th></th>\n",
       "    </tr>\n",
       "  </thead>\n",
       "  <tbody>\n",
       "    <tr>\n",
       "      <th>VTI</th>\n",
       "      <td>9.71</td>\n",
       "      <td>4.54</td>\n",
       "      <td>3.53</td>\n",
       "      <td>0.00</td>\n",
       "      <td>1.00</td>\n",
       "      <td>1.93</td>\n",
       "      <td>2.47</td>\n",
       "      <td>8.71</td>\n",
       "      <td>0.00</td>\n",
       "      <td>NaN</td>\n",
       "    </tr>\n",
       "    <tr>\n",
       "      <th>TLT</th>\n",
       "      <td>4.94</td>\n",
       "      <td>3.92</td>\n",
       "      <td>2.14</td>\n",
       "      <td>6.71</td>\n",
       "      <td>-0.30</td>\n",
       "      <td>1.01</td>\n",
       "      <td>1.86</td>\n",
       "      <td>-13.10</td>\n",
       "      <td>6.60</td>\n",
       "      <td>-0.71</td>\n",
       "    </tr>\n",
       "    <tr>\n",
       "      <th>IAU</th>\n",
       "      <td>7.59</td>\n",
       "      <td>4.98</td>\n",
       "      <td>2.93</td>\n",
       "      <td>6.50</td>\n",
       "      <td>0.06</td>\n",
       "      <td>1.32</td>\n",
       "      <td>2.25</td>\n",
       "      <td>106.49</td>\n",
       "      <td>6.03</td>\n",
       "      <td>-0.33</td>\n",
       "    </tr>\n",
       "    <tr>\n",
       "      <th>strategy</th>\n",
       "      <td>7.62</td>\n",
       "      <td>3.27</td>\n",
       "      <td>2.26</td>\n",
       "      <td>3.23</td>\n",
       "      <td>0.97</td>\n",
       "      <td>2.03</td>\n",
       "      <td>2.94</td>\n",
       "      <td>6.83</td>\n",
       "      <td>-1.84</td>\n",
       "      <td>-0.65</td>\n",
       "    </tr>\n",
       "  </tbody>\n",
       "</table>\n",
       "</div>"
      ],
      "text/plain": [
       "          Return  Volatility  Volatility(Down)  Residual  Beta  Sharpe_Ratio  \\\n",
       "Ticker                                                                         \n",
       "VTI         9.71        4.54              3.53      0.00  1.00          1.93   \n",
       "TLT         4.94        3.92              2.14      6.71 -0.30          1.01   \n",
       "IAU         7.59        4.98              2.93      6.50  0.06          1.32   \n",
       "strategy    7.62        3.27              2.26      3.23  0.97          2.03   \n",
       "\n",
       "          Sortino_Ratio  Trainer_Ratio  Jensen_Alpha  Info_Ratio  \n",
       "Ticker                                                            \n",
       "VTI                2.47           8.71          0.00         NaN  \n",
       "TLT                1.86         -13.10          6.60       -0.71  \n",
       "IAU                2.25         106.49          6.03       -0.33  \n",
       "strategy           2.94           6.83         -1.84       -0.65  "
      ]
     },
     "execution_count": 42,
     "metadata": {},
     "output_type": "execute_result"
    }
   ],
   "source": [
    "sort_df_simulation"
   ]
  },
  {
   "cell_type": "code",
   "execution_count": null,
   "metadata": {},
   "outputs": [],
   "source": []
  },
  {
   "cell_type": "code",
   "execution_count": null,
   "metadata": {},
   "outputs": [],
   "source": []
  },
  {
   "cell_type": "code",
   "execution_count": null,
   "metadata": {},
   "outputs": [],
   "source": []
  },
  {
   "cell_type": "code",
   "execution_count": null,
   "metadata": {},
   "outputs": [],
   "source": []
  }
 ],
 "metadata": {
  "hide_input": false,
  "kernelspec": {
   "display_name": "Python 3 (ipykernel)",
   "language": "python",
   "name": "python3"
  },
  "language_info": {
   "codemirror_mode": {
    "name": "ipython",
    "version": 3
   },
   "file_extension": ".py",
   "mimetype": "text/x-python",
   "name": "python",
   "nbconvert_exporter": "python",
   "pygments_lexer": "ipython3",
   "version": "3.9.7"
  },
  "toc": {
   "base_numbering": 1,
   "nav_menu": {},
   "number_sections": true,
   "sideBar": true,
   "skip_h1_title": false,
   "title_cell": "Table of Contents",
   "title_sidebar": "Contents",
   "toc_cell": false,
   "toc_position": {},
   "toc_section_display": true,
   "toc_window_display": false
  },
  "varInspector": {
   "cols": {
    "lenName": 16,
    "lenType": 16,
    "lenVar": 40
   },
   "kernels_config": {
    "python": {
     "delete_cmd_postfix": "",
     "delete_cmd_prefix": "del ",
     "library": "var_list.py",
     "varRefreshCmd": "print(var_dic_list())"
    },
    "r": {
     "delete_cmd_postfix": ") ",
     "delete_cmd_prefix": "rm(",
     "library": "var_list.r",
     "varRefreshCmd": "cat(var_dic_list()) "
    }
   },
   "types_to_exclude": [
    "module",
    "function",
    "builtin_function_or_method",
    "instance",
    "_Feature"
   ],
   "window_display": false
  }
 },
 "nbformat": 4,
 "nbformat_minor": 4
}
