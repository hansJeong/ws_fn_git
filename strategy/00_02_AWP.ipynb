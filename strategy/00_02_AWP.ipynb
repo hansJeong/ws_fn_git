{
 "cells": [
  {
   "cell_type": "code",
   "execution_count": 3,
   "metadata": {
    "ExecuteTime": {
     "end_time": "2023-02-20T12:28:55.898133Z",
     "start_time": "2023-02-20T12:28:55.091883Z"
    }
   },
   "outputs": [],
   "source": [
    "import pandas as pd\n",
    "import warnings\n",
    "warnings.filterwarnings('ignore')\n",
    "\n",
    "import yfinance as yf\n",
    "import numpy as np"
   ]
  },
  {
   "cell_type": "code",
   "execution_count": 36,
   "metadata": {
    "ExecuteTime": {
     "end_time": "2023-02-20T12:32:46.785365Z",
     "start_time": "2023-02-20T12:32:46.764277Z"
    }
   },
   "outputs": [
    {
     "data": {
      "text/html": [
       "        <script type=\"text/javascript\">\n",
       "        window.PlotlyConfig = {MathJaxConfig: 'local'};\n",
       "        if (window.MathJax && window.MathJax.Hub && window.MathJax.Hub.Config) {window.MathJax.Hub.Config({SVG: {font: \"STIX-Web\"}});}\n",
       "        if (typeof require !== 'undefined') {\n",
       "        require.undef(\"plotly\");\n",
       "        requirejs.config({\n",
       "            paths: {\n",
       "                'plotly': ['https://cdn.plot.ly/plotly-2.12.1.min']\n",
       "            }\n",
       "        });\n",
       "        require(['plotly'], function(Plotly) {\n",
       "            window._Plotly = Plotly;\n",
       "        });\n",
       "        }\n",
       "        </script>\n",
       "        "
      ]
     },
     "metadata": {},
     "output_type": "display_data"
    }
   ],
   "source": [
    "# 시각화 관련\n",
    "import plotly_express as px\n",
    "import plotly.figure_factory as ff\n",
    "# px를 쉽고 빠르게 붙여주는 모듈 cufflinksget_rsi\n",
    "import cufflinks as cf\n",
    "cf.go_offline(connected=True)\n",
    "## cf.getThemes()\n",
    "cf.set_config_file(theme='polar')\n",
    "import plotly.graph_objects as go\n",
    "\n",
    "import matplotlib\n",
    "%matplotlib inline\n",
    "\n",
    "import matplotlib.pyplot as plt\n",
    "import seaborn as sns\n",
    "sns.set_style('whitegrid')\n",
    "## plt.style.use(\"fivethirtyeight\")\n",
    "plt.rcParams['font.family'] = 'Malgun Gothic'\n",
    "plt.rcParams['axes.unicode_minus'] = False\n",
    "plt.rcParams[\"figure.figsize\"] = (10,6)"
   ]
  },
  {
   "cell_type": "code",
   "execution_count": 5,
   "metadata": {
    "ExecuteTime": {
     "end_time": "2023-02-20T12:28:58.588999Z",
     "start_time": "2023-02-20T12:28:57.627794Z"
    }
   },
   "outputs": [],
   "source": [
    "%run ../library/QUANT_FUNCTIONS.ipynb\n",
    "Q = QUANT()\n",
    "D = DATA()"
   ]
  },
  {
   "cell_type": "markdown",
   "metadata": {},
   "source": [
    "###### 공통함수"
   ]
  },
  {
   "cell_type": "code",
   "execution_count": 6,
   "metadata": {
    "ExecuteTime": {
     "end_time": "2023-02-20T12:28:58.604093Z",
     "start_time": "2023-02-20T12:28:58.591050Z"
    }
   },
   "outputs": [],
   "source": [
    "## 수치형 데이터프레임을 시작점기준으로 지수화\n",
    "def index_values(df):\n",
    "    for i in df.columns:\n",
    "        if (df[i].dtype == float)|(df[i].dtype == int):\n",
    "            df[i] = df[i]/df[i][0]\n",
    "        else:\n",
    "            df[i] = df[i]\n",
    "    return df"
   ]
  },
  {
   "cell_type": "markdown",
   "metadata": {},
   "source": [
    "## 올웨더 전략"
   ]
  },
  {
   "cell_type": "markdown",
   "metadata": {},
   "source": [
    "### 데이터 불러오기"
   ]
  },
  {
   "cell_type": "code",
   "execution_count": 7,
   "metadata": {
    "ExecuteTime": {
     "end_time": "2023-02-20T12:28:58.619627Z",
     "start_time": "2023-02-20T12:28:58.606600Z"
    }
   },
   "outputs": [],
   "source": [
    "## 데이터 불러오기\n",
    "def get_AWP_df(first_ticker, second_ticker, fixed_ticker, gold_ticker, etc_ticker):\n",
    "    ## 주투자자산, 보조투자자산, 안전자산\n",
    "    first = yf.Ticker(first_ticker)\n",
    "    second= yf.Ticker(second_ticker)\n",
    "    fixed = yf.Ticker(fixed_ticker)\n",
    "    gold = yf.Ticker(gold_ticker)\n",
    "    etc = yf.Ticker(etc_ticker)\n",
    "\n",
    "    first_df = first.history(period=\"max\")\n",
    "    second_df = second.history(period=\"max\")\n",
    "    fixed_df = fixed.history(period=\"max\")\n",
    "    gold_df = gold.history(period=\"max\")\n",
    "    etc_df = etc.history(period=\"max\")\n",
    "    \n",
    "    df = pd.concat([first_df['Close'], second_df['Close'], fixed_df['Close'], gold_df['Close'], etc_df['Close']], axis = 1)\n",
    "    df.columns = [first_ticker, second_ticker, fixed_ticker, gold_ticker, etc_ticker]\n",
    "    df = df.dropna()\n",
    "    \n",
    "    return df"
   ]
  },
  {
   "cell_type": "markdown",
   "metadata": {},
   "source": [
    "### AWP전략 구현"
   ]
  },
  {
   "cell_type": "code",
   "execution_count": 8,
   "metadata": {
    "ExecuteTime": {
     "end_time": "2023-02-20T12:28:58.635164Z",
     "start_time": "2023-02-20T12:28:58.621134Z"
    },
    "code_folding": []
   },
   "outputs": [],
   "source": [
    "def cal_AWP(df, ratio = [0.5, 0.5], rebalancing=None, unit = None):\n",
    "    new_df = df.copy()\n",
    "    ## rebalancing 'm'월, 'y'연, \n",
    "    df_dict = []\n",
    "    ## 데이터 분할\n",
    "    years = sorted(new_df.index.year.unique())\n",
    "    months = sorted(new_df.index.month.unique())\n",
    "    \n",
    "    ## 가치변화 계산용(월단위 집계데이터로 계산할 때 발생하는 에러보정)\n",
    "    if (rebalancing == 'm')&(unit == 'monthly'):\n",
    "        temp_df = new_df.copy()\n",
    "        temp_df.index = temp_df.index - dt.timedelta(days=1)\n",
    "        new_df = new_df.append(temp_df)\n",
    "        new_df = new_df.sort_index()\n",
    "        new_df = new_df.shift(-1).dropna()\n",
    "        \n",
    "    if rebalancing == 'm' :\n",
    "        for year in years:\n",
    "            for month in months:\n",
    "                temp = new_df[(new_df.index.year == year)&(new_df.index.month == month)]\n",
    "                if len(temp) > 0:\n",
    "                    df_dict.append(temp)\n",
    "                    \n",
    "    elif rebalancing == 'y':\n",
    "        for year in years:\n",
    "            temp = new_df[(new_df.index.year == year)]\n",
    "            if len(temp) > 0:\n",
    "                df_dict.append(temp)\n",
    "    else:\n",
    "        df_dict.append(new_df)\n",
    "    ## 리벨런싱 적용\n",
    "    prev_val = 1\n",
    "    temp_series = pd.Series()\n",
    "    for i in range(len(df_dict)):    \n",
    "        temp = index_values(df_dict[i])\n",
    "        temp_AWP = (temp * ratio).sum(axis=1)*prev_val\n",
    "        prev_val = temp_AWP[-1]\n",
    "        temp_series = temp_series.append(temp_AWP)\n",
    "    new_df['strategy'] = temp_series\n",
    "    \n",
    "    ## 가치변화 계산용 임시 데이터프레임을 원래 형태로 되돌림\n",
    "    if (rebalancing == 'm')&(unit == 'monthly'):\n",
    "        new_df['temp_y'] = new_df.index.year\n",
    "        new_df['temp_m'] = new_df.index.month\n",
    "        new_df = new_df.drop_duplicates(['temp_y', 'temp_m'])\n",
    "        new_df = new_df.drop(columns=['temp_y', 'temp_m'])\n",
    "        new_df.index = df.index\n",
    "    \n",
    "    return new_df"
   ]
  },
  {
   "cell_type": "markdown",
   "metadata": {},
   "source": [
    "## 최적화"
   ]
  },
  {
   "cell_type": "code",
   "execution_count": 9,
   "metadata": {
    "ExecuteTime": {
     "end_time": "2023-02-20T12:28:58.650754Z",
     "start_time": "2023-02-20T12:28:58.636684Z"
    }
   },
   "outputs": [],
   "source": [
    "def cal_optimal(df, df_unit='monthly', rebalancing = 'm'):\n",
    "    ## df_unit 데이터 집계주기 : daily, monthly => 수익, 위험 연율화 계산에 사용\n",
    "    ## rebalancing 리벨런싱 주기 : None, m, y\n",
    "    pyrr = []     # 리스트 형태로 수익을 쌓을 장소\n",
    "    pydd = []     # 리스트 형태로 위험(표준편차)을 쌓을 장소\n",
    "    pstn = []\n",
    "    pstn = []\n",
    "    _vol = []\n",
    "    _sharp = []\n",
    "    weghs = []\n",
    "    for p in range (3000):\n",
    "        if p%10 == 0:\n",
    "            print(f\"{p}단계 진행중\")\n",
    "        weights = np.random.random(len(df.T))   # 랜덤한 n개의 숫자를 생성함(n개의 자산에 대응)\n",
    "        weights /= np.sum(weights)     # n개의 숫자의 합계가 1이 되도록 조정함(각 자산의 비중)\n",
    "\n",
    "        result_df = cal_AWP(df, weights, rebalancing=rebalancing, unit=df_unit)\n",
    "        sortino = Q.get_Vol_report(result_df, 'a', unit=df_unit)\n",
    "\n",
    "        pyrr.append(sortino['Return'][len(sortino)-1])\n",
    "        pydd.append(sortino['Volatility(Down)'][len(sortino)-1])\n",
    "        pstn.append(sortino['Sortino Ratio'][len(sortino)-1])\n",
    "        _vol.append(sortino['Volatility'][len(sortino)-1])\n",
    "        _sharp.append(sortino['Sharpe Ratio'][len(sortino)-1])\n",
    "        weghs.append(weights)\n",
    "\n",
    "    pyrr = np.array(pyrr)\n",
    "    pydd = np.array(pydd)\n",
    "    pstn = np.array(pstn)\n",
    "    _vol = np.array(_vol)\n",
    "    _sharp = np.array(_sharp)\n",
    "    weghs = np.array(weghs)\n",
    "\n",
    "    process = pd.DataFrame(weghs, columns=df.columns)\n",
    "    process['Return'] = pyrr\n",
    "    process['Volatility(Down)'] = pydd\n",
    "    process['Sortino Ratio'] = pstn\n",
    "    process['Volatility'] = _vol\n",
    "    process['Sharpe Ratio'] = _sharp\n",
    "    \n",
    "    obtimal = process[process['Sortino Ratio']==process['Sortino Ratio'].max()]\n",
    "    obtimal = obtimal.reset_index(drop=True)\n",
    "    min_risk = process[process['Return']==process['Return'].min()]\n",
    "    min_risk = min_risk.reset_index(drop=True)\n",
    "\n",
    "    return process, obtimal, min_risk"
   ]
  },
  {
   "cell_type": "markdown",
   "metadata": {},
   "source": [
    "## 활용"
   ]
  },
  {
   "cell_type": "code",
   "execution_count": 10,
   "metadata": {
    "ExecuteTime": {
     "end_time": "2023-02-20T12:29:10.223429Z",
     "start_time": "2023-02-20T12:28:59.522993Z"
    }
   },
   "outputs": [],
   "source": [
    "## 올웨더 최적화 ## TQQQ;*3 TYD;7~10,*3 ## TMF;20+,*3 ## IAU;금,*1 ## DBC;원자재*1\n",
    "AWP_df = D.get_merged_df('SPY', 'QQQ', 'VEA', 'VWO', 'TLT', 'IEF', 'SHY', 'IAU', 'DBC')\n",
    "AWP_df = AWP_df.dropna()\n",
    "## 백데이터 기간정의(10년 2600일)\n",
    "## AWP_df = AWP_df.iloc[-2515:]"
   ]
  },
  {
   "cell_type": "code",
   "execution_count": 29,
   "metadata": {
    "ExecuteTime": {
     "end_time": "2023-02-20T09:03:52.494185Z",
     "start_time": "2023-02-20T09:02:57.956086Z"
    },
    "scrolled": true
   },
   "outputs": [
    {
     "name": "stdout",
     "output_type": "stream",
     "text": [
      "0단계 진행중\n",
      "10단계 진행중\n",
      "20단계 진행중\n",
      "30단계 진행중\n",
      "40단계 진행중\n",
      "50단계 진행중\n",
      "60단계 진행중\n",
      "70단계 진행중\n",
      "80단계 진행중\n",
      "90단계 진행중\n",
      "100단계 진행중\n",
      "110단계 진행중\n",
      "120단계 진행중\n",
      "130단계 진행중\n",
      "140단계 진행중\n",
      "150단계 진행중\n",
      "160단계 진행중\n",
      "170단계 진행중\n",
      "180단계 진행중\n",
      "190단계 진행중\n",
      "200단계 진행중\n",
      "210단계 진행중\n",
      "220단계 진행중\n",
      "230단계 진행중\n",
      "240단계 진행중\n",
      "250단계 진행중\n",
      "260단계 진행중\n",
      "270단계 진행중\n",
      "280단계 진행중\n",
      "290단계 진행중\n",
      "300단계 진행중\n",
      "310단계 진행중\n",
      "320단계 진행중\n",
      "330단계 진행중\n",
      "340단계 진행중\n",
      "350단계 진행중\n",
      "360단계 진행중\n",
      "370단계 진행중\n",
      "380단계 진행중\n",
      "390단계 진행중\n",
      "400단계 진행중\n",
      "410단계 진행중\n",
      "420단계 진행중\n",
      "430단계 진행중\n",
      "440단계 진행중\n",
      "450단계 진행중\n",
      "460단계 진행중\n",
      "470단계 진행중\n",
      "480단계 진행중\n",
      "490단계 진행중\n",
      "500단계 진행중\n",
      "510단계 진행중\n",
      "520단계 진행중\n",
      "530단계 진행중\n",
      "540단계 진행중\n",
      "550단계 진행중\n",
      "560단계 진행중\n",
      "570단계 진행중\n",
      "580단계 진행중\n",
      "590단계 진행중\n",
      "600단계 진행중\n",
      "610단계 진행중\n",
      "620단계 진행중\n",
      "630단계 진행중\n",
      "640단계 진행중\n",
      "650단계 진행중\n",
      "660단계 진행중\n",
      "670단계 진행중\n",
      "680단계 진행중\n",
      "690단계 진행중\n",
      "700단계 진행중\n",
      "710단계 진행중\n",
      "720단계 진행중\n",
      "730단계 진행중\n",
      "740단계 진행중\n",
      "750단계 진행중\n",
      "760단계 진행중\n",
      "770단계 진행중\n",
      "780단계 진행중\n",
      "790단계 진행중\n",
      "800단계 진행중\n",
      "810단계 진행중\n",
      "820단계 진행중\n",
      "830단계 진행중\n",
      "840단계 진행중\n",
      "850단계 진행중\n",
      "860단계 진행중\n",
      "870단계 진행중\n",
      "880단계 진행중\n",
      "890단계 진행중\n",
      "900단계 진행중\n",
      "910단계 진행중\n",
      "920단계 진행중\n",
      "930단계 진행중\n",
      "940단계 진행중\n",
      "950단계 진행중\n",
      "960단계 진행중\n",
      "970단계 진행중\n",
      "980단계 진행중\n",
      "990단계 진행중\n",
      "1000단계 진행중\n",
      "1010단계 진행중\n",
      "1020단계 진행중\n",
      "1030단계 진행중\n",
      "1040단계 진행중\n",
      "1050단계 진행중\n",
      "1060단계 진행중\n",
      "1070단계 진행중\n",
      "1080단계 진행중\n",
      "1090단계 진행중\n",
      "1100단계 진행중\n",
      "1110단계 진행중\n",
      "1120단계 진행중\n",
      "1130단계 진행중\n",
      "1140단계 진행중\n",
      "1150단계 진행중\n",
      "1160단계 진행중\n",
      "1170단계 진행중\n",
      "1180단계 진행중\n",
      "1190단계 진행중\n",
      "1200단계 진행중\n",
      "1210단계 진행중\n",
      "1220단계 진행중\n",
      "1230단계 진행중\n",
      "1240단계 진행중\n",
      "1250단계 진행중\n",
      "1260단계 진행중\n",
      "1270단계 진행중\n",
      "1280단계 진행중\n",
      "1290단계 진행중\n",
      "1300단계 진행중\n",
      "1310단계 진행중\n",
      "1320단계 진행중\n",
      "1330단계 진행중\n",
      "1340단계 진행중\n",
      "1350단계 진행중\n",
      "1360단계 진행중\n",
      "1370단계 진행중\n",
      "1380단계 진행중\n",
      "1390단계 진행중\n",
      "1400단계 진행중\n",
      "1410단계 진행중\n",
      "1420단계 진행중\n",
      "1430단계 진행중\n",
      "1440단계 진행중\n",
      "1450단계 진행중\n",
      "1460단계 진행중\n",
      "1470단계 진행중\n",
      "1480단계 진행중\n",
      "1490단계 진행중\n",
      "1500단계 진행중\n",
      "1510단계 진행중\n",
      "1520단계 진행중\n",
      "1530단계 진행중\n",
      "1540단계 진행중\n",
      "1550단계 진행중\n",
      "1560단계 진행중\n",
      "1570단계 진행중\n",
      "1580단계 진행중\n",
      "1590단계 진행중\n",
      "1600단계 진행중\n",
      "1610단계 진행중\n",
      "1620단계 진행중\n",
      "1630단계 진행중\n",
      "1640단계 진행중\n",
      "1650단계 진행중\n",
      "1660단계 진행중\n",
      "1670단계 진행중\n",
      "1680단계 진행중\n",
      "1690단계 진행중\n",
      "1700단계 진행중\n",
      "1710단계 진행중\n",
      "1720단계 진행중\n",
      "1730단계 진행중\n",
      "1740단계 진행중\n",
      "1750단계 진행중\n",
      "1760단계 진행중\n",
      "1770단계 진행중\n",
      "1780단계 진행중\n",
      "1790단계 진행중\n",
      "1800단계 진행중\n",
      "1810단계 진행중\n",
      "1820단계 진행중\n",
      "1830단계 진행중\n",
      "1840단계 진행중\n",
      "1850단계 진행중\n",
      "1860단계 진행중\n",
      "1870단계 진행중\n",
      "1880단계 진행중\n",
      "1890단계 진행중\n",
      "1900단계 진행중\n",
      "1910단계 진행중\n",
      "1920단계 진행중\n",
      "1930단계 진행중\n",
      "1940단계 진행중\n",
      "1950단계 진행중\n",
      "1960단계 진행중\n",
      "1970단계 진행중\n",
      "1980단계 진행중\n",
      "1990단계 진행중\n",
      "2000단계 진행중\n",
      "2010단계 진행중\n",
      "2020단계 진행중\n",
      "2030단계 진행중\n",
      "2040단계 진행중\n",
      "2050단계 진행중\n",
      "2060단계 진행중\n",
      "2070단계 진행중\n",
      "2080단계 진행중\n",
      "2090단계 진행중\n",
      "2100단계 진행중\n",
      "2110단계 진행중\n",
      "2120단계 진행중\n",
      "2130단계 진행중\n",
      "2140단계 진행중\n",
      "2150단계 진행중\n",
      "2160단계 진행중\n",
      "2170단계 진행중\n",
      "2180단계 진행중\n",
      "2190단계 진행중\n",
      "2200단계 진행중\n",
      "2210단계 진행중\n",
      "2220단계 진행중\n",
      "2230단계 진행중\n",
      "2240단계 진행중\n",
      "2250단계 진행중\n",
      "2260단계 진행중\n",
      "2270단계 진행중\n",
      "2280단계 진행중\n",
      "2290단계 진행중\n",
      "2300단계 진행중\n",
      "2310단계 진행중\n",
      "2320단계 진행중\n",
      "2330단계 진행중\n",
      "2340단계 진행중\n",
      "2350단계 진행중\n",
      "2360단계 진행중\n",
      "2370단계 진행중\n",
      "2380단계 진행중\n",
      "2390단계 진행중\n",
      "2400단계 진행중\n",
      "2410단계 진행중\n",
      "2420단계 진행중\n",
      "2430단계 진행중\n",
      "2440단계 진행중\n",
      "2450단계 진행중\n",
      "2460단계 진행중\n",
      "2470단계 진행중\n",
      "2480단계 진행중\n",
      "2490단계 진행중\n",
      "2500단계 진행중\n",
      "2510단계 진행중\n",
      "2520단계 진행중\n",
      "2530단계 진행중\n",
      "2540단계 진행중\n",
      "2550단계 진행중\n",
      "2560단계 진행중\n",
      "2570단계 진행중\n",
      "2580단계 진행중\n",
      "2590단계 진행중\n",
      "2600단계 진행중\n",
      "2610단계 진행중\n",
      "2620단계 진행중\n",
      "2630단계 진행중\n",
      "2640단계 진행중\n",
      "2650단계 진행중\n",
      "2660단계 진행중\n",
      "2670단계 진행중\n",
      "2680단계 진행중\n",
      "2690단계 진행중\n",
      "2700단계 진행중\n",
      "2710단계 진행중\n",
      "2720단계 진행중\n",
      "2730단계 진행중\n",
      "2740단계 진행중\n",
      "2750단계 진행중\n",
      "2760단계 진행중\n",
      "2770단계 진행중\n",
      "2780단계 진행중\n",
      "2790단계 진행중\n",
      "2800단계 진행중\n",
      "2810단계 진행중\n",
      "2820단계 진행중\n",
      "2830단계 진행중\n",
      "2840단계 진행중\n",
      "2850단계 진행중\n",
      "2860단계 진행중\n",
      "2870단계 진행중\n",
      "2880단계 진행중\n",
      "2890단계 진행중\n",
      "2900단계 진행중\n",
      "2910단계 진행중\n",
      "2920단계 진행중\n",
      "2930단계 진행중\n",
      "2940단계 진행중\n",
      "2950단계 진행중\n",
      "2960단계 진행중\n",
      "2970단계 진행중\n",
      "2980단계 진행중\n",
      "2990단계 진행중\n"
     ]
    }
   ],
   "source": [
    "## trainset = AWP_df[AWP_df.index >= '2020-01-01']\n",
    "trainset = AWP_df.copy()\n",
    "process, obtimal, min_risk = cal_optimal(trainset, df_unit='daily', rebalancing = 'd')"
   ]
  },
  {
   "cell_type": "code",
   "execution_count": 30,
   "metadata": {
    "ExecuteTime": {
     "end_time": "2023-02-20T09:04:04.131777Z",
     "start_time": "2023-02-20T09:04:03.902223Z"
    }
   },
   "outputs": [
    {
     "data": {
      "image/png": "[encoded data removed]",
      "text/plain": [
       "<Figure size 432x288 with 2 Axes>"
      ]
     },
     "metadata": {
      "needs_background": "light"
     },
     "output_type": "display_data"
    }
   ],
   "source": [
    "plt.scatter(process['Volatility'], process['Return'], c=process['Sortino Ratio'], marker='o')\n",
    "plt.grid(True)\n",
    "plt.xlabel('expected volatility(downside risk)')\n",
    "plt.ylabel('expected return')\n",
    "plt.colorbar(label='Sortino Ratio')\n",
    "\n",
    "plt.scatter(obtimal['Volatility'][0], obtimal['Return'][0], marker=\"*\", s=200, alpha=0.7)\n",
    "plt.scatter(min_risk['Volatility'][0], min_risk['Return'][0], marker=\"*\", s=200, alpha=0.7)\n",
    "\n",
    "plt.show()"
   ]
  },
  {
   "cell_type": "code",
   "execution_count": 16,
   "metadata": {
    "ExecuteTime": {
     "end_time": "2022-07-06T00:53:27.165774Z",
     "start_time": "2022-07-06T00:53:27.157771Z"
    }
   },
   "outputs": [],
   "source": [
    "## ('UPRO', 'TQQQ', 'EURL', 'EDC', 'TMF', 'TYD', 'SHY', 'IAU', 'DBC')\n",
    "## [0.24, 0.03, 0.01, 0.04, 0.20, 0.09, 0.09 , 0.24, 0.06]"
   ]
  },
  {
   "cell_type": "code",
   "execution_count": 17,
   "metadata": {
    "ExecuteTime": {
     "end_time": "2022-07-06T00:53:27.459895Z",
     "start_time": "2022-07-06T00:53:27.446876Z"
    }
   },
   "outputs": [],
   "source": [
    "test = process[process['YRR']>=0.08]"
   ]
  },
  {
   "cell_type": "code",
   "execution_count": 18,
   "metadata": {
    "ExecuteTime": {
     "end_time": "2022-07-06T00:53:29.102939Z",
     "start_time": "2022-07-06T00:53:29.081239Z"
    }
   },
   "outputs": [],
   "source": [
    "obtimal = test[test['Sortino Ratio'] == test['Sortino Ratio'].max()]"
   ]
  },
  {
   "cell_type": "code",
   "execution_count": 19,
   "metadata": {
    "ExecuteTime": {
     "end_time": "2022-07-06T00:53:31.010038Z",
     "start_time": "2022-07-06T00:53:30.993245Z"
    }
   },
   "outputs": [],
   "source": [
    "AWP_ratio = pd.DataFrame(list(obtimal.values[0][:-3]),\n",
    "             index=['SPY', 'QQQ', 'VEA', 'VWO', 'TLT', 'IEF', 'SHY', 'IAU', 'DBC'], columns=['ratio'])\n",
    "AWP_ratio = AWP_ratio.apply(lambda x:x.round(2))"
   ]
  },
  {
   "cell_type": "code",
   "execution_count": null,
   "metadata": {},
   "outputs": [],
   "source": [
    "AWP_ratio"
   ]
  },
  {
   "cell_type": "code",
   "execution_count": 11,
   "metadata": {
    "ExecuteTime": {
     "end_time": "2023-02-20T12:29:34.473667Z",
     "start_time": "2023-02-20T12:29:34.459713Z"
    }
   },
   "outputs": [],
   "source": []
  },
  {
   "cell_type": "code",
   "execution_count": 14,
   "metadata": {
    "ExecuteTime": {
     "end_time": "2023-02-20T12:30:14.412764Z",
     "start_time": "2023-02-20T12:30:14.067538Z"
    }
   },
   "outputs": [],
   "source": [
    "## 올웨더 전략 실행\n",
    "## ratio = list(obtimal.values[0][:-3])\n",
    "ratio = [0.07, 0.28, 0.01, 0.10, 0.22, 0.24, 0.01, 0.06, 0.01]\n",
    "## ratio = [0.25, 0.2, 0.02, 0.02, 0.15, 0.15, 0.15, 0.05, 0.01]\n",
    "AWP_result = cal_AWP(AWP_df, ratio=ratio, rebalancing='m')\n",
    "## 듀올 전략 실행\n",
    "## dual_df = get_dual_df('TQQQ', 'UPRO', 'TMF')\n",
    "## dual_df_result = get_strategy_value(dual_df)"
   ]
  },
  {
   "cell_type": "code",
   "execution_count": 15,
   "metadata": {
    "ExecuteTime": {
     "end_time": "2023-02-20T12:30:16.433147Z",
     "start_time": "2023-02-20T12:30:16.419072Z"
    }
   },
   "outputs": [
    {
     "data": {
      "text/plain": [
       "\"## 수정 AWP\\nTAWP_df = D.get_merged_df('UPRO', 'TQQQ', 'TMF', 'TYD')\\nTAWP_df = TAWP_df.dropna()\\nAWP_result = cal_AWP(TAWP_df, ratio=[0.25, 0.25, 0.25, 0.25], rebalancing='m')\\n## 듀올 전략 실행\\n## dual_df = get_dual_df('TQQQ', 'UPRO', 'TMF')\\n## dual_df_result = get_strategy_value(dual_df)\""
      ]
     },
     "execution_count": 15,
     "metadata": {},
     "output_type": "execute_result"
    }
   ],
   "source": [
    "'''## 수정 AWP\n",
    "TAWP_df = D.get_merged_df('UPRO', 'TQQQ', 'TMF', 'TYD')\n",
    "TAWP_df = TAWP_df.dropna()\n",
    "AWP_result = cal_AWP(TAWP_df, ratio=[0.25, 0.25, 0.25, 0.25], rebalancing='m')\n",
    "## 듀올 전략 실행\n",
    "## dual_df = get_dual_df('TQQQ', 'UPRO', 'TMF')\n",
    "## dual_df_result = get_strategy_value(dual_df)'''"
   ]
  },
  {
   "cell_type": "code",
   "execution_count": 16,
   "metadata": {
    "ExecuteTime": {
     "end_time": "2023-02-20T12:30:17.323075Z",
     "start_time": "2023-02-20T12:30:17.307516Z"
    }
   },
   "outputs": [],
   "source": [
    "## 결과 통합\n",
    "result_df = AWP_result.copy()\n",
    "## result_df['Dual'] = dual_df_result['strategy']\n",
    "## result_df['signal'] = dual_df_result['signal']\n",
    "\n",
    "result_df = result_df.dropna()\n",
    "\n",
    "## 표준화\n",
    "result_df = index_values(result_df)"
   ]
  },
  {
   "cell_type": "code",
   "execution_count": 25,
   "metadata": {
    "ExecuteTime": {
     "end_time": "2022-07-06T00:54:24.832185Z",
     "start_time": "2022-07-06T00:54:24.814184Z"
    }
   },
   "outputs": [],
   "source": [
    "AWP_ratio.to_csv('result/AWP_ratio_2022.csv')"
   ]
  },
  {
   "cell_type": "code",
   "execution_count": 27,
   "metadata": {
    "ExecuteTime": {
     "end_time": "2022-07-06T00:54:34.718833Z",
     "start_time": "2022-07-06T00:54:34.654825Z"
    }
   },
   "outputs": [],
   "source": [
    "result_df.to_csv('result/AWP_result_2022.csv')"
   ]
  },
  {
   "cell_type": "markdown",
   "metadata": {},
   "source": [
    "###### 보고서"
   ]
  },
  {
   "cell_type": "code",
   "execution_count": 18,
   "metadata": {
    "ExecuteTime": {
     "end_time": "2023-02-20T12:30:24.649318Z",
     "start_time": "2023-02-20T12:30:24.636300Z"
    }
   },
   "outputs": [],
   "source": [
    "## 월단위 리벨런싱\n",
    "result_df['year'] = result_df.index.year\n",
    "result_df['month'] = result_df.index.month\n",
    "\n",
    "result_df = result_df.drop_duplicates(['year', 'month'], keep='last')\n",
    "result_df = result_df.drop(columns=['year', 'month'])"
   ]
  },
  {
   "cell_type": "code",
   "execution_count": 53,
   "metadata": {
    "ExecuteTime": {
     "end_time": "2023-02-20T12:37:12.839896Z",
     "start_time": "2023-02-20T12:37:12.819754Z"
    }
   },
   "outputs": [],
   "source": [
    "def get_INDI(df, seed, duration = 120, sts = 0):\n",
    "    '''\n",
    "    df: 종가데이터\n",
    "    sts: 초기투자금\n",
    "    seed: 월납입액\n",
    "    '''\n",
    "    tickers = list(df.columns)\n",
    "    df = df.dropna()\n",
    "    df = day_to_mth(df)\n",
    "    df = df.tail(duration)\n",
    "\n",
    "    for ticker in tickers:\n",
    "        df[f\"{ticker}_quant\"] = (float(seed)/df[ticker]).apply(lambda x:math.floor(x))\n",
    "        df[f\"{ticker}_cost\"] = df[ticker] * df[f\"{ticker}_quant\"]\n",
    "\n",
    "        df[f\"{ticker}_cquant\"] = df[f\"{ticker}_quant\"].cumsum()\n",
    "        df[f\"{ticker}_cquant\"] = df[f\"{ticker}_cquant\"] + math.floor(sts/df[ticker][0])\n",
    "        ## df[f\"{ticker}_ccost\"] = df[f\"{ticker}_cost\"].cumsum()\n",
    "        df[ticker] = df[ticker] * df[f\"{ticker}_cquant\"]\n",
    "\n",
    "    df = df[tickers]\n",
    "    df['seed'] = seed\n",
    "    df['seed'] = df['seed'].cumsum() + sts\n",
    "    return df"
   ]
  },
  {
   "cell_type": "code",
   "execution_count": 54,
   "metadata": {
    "ExecuteTime": {
     "end_time": "2023-02-20T12:37:13.112777Z",
     "start_time": "2023-02-20T12:37:13.099766Z"
    }
   },
   "outputs": [],
   "source": [
    "import math"
   ]
  },
  {
   "cell_type": "code",
   "execution_count": 55,
   "metadata": {
    "ExecuteTime": {
     "end_time": "2023-02-20T12:37:14.126133Z",
     "start_time": "2023-02-20T12:37:14.108090Z"
    }
   },
   "outputs": [],
   "source": [
    "## 월단위 변환 함수\n",
    "def day_to_mth(dataset):\n",
    "    df = dataset.copy()\n",
    "    df['year'] = df.index.year\n",
    "    df['month'] = df.index.month\n",
    "    df['day'] = df.index.day\n",
    "    ## df = df[df['day']>=24]\n",
    "\n",
    "    df = df.drop_duplicates(['year', 'month'], keep='last')\n",
    "    df = df.drop(columns=['year', 'month', 'day'])\n",
    "    return df"
   ]
  },
  {
   "cell_type": "code",
   "execution_count": 81,
   "metadata": {
    "ExecuteTime": {
     "end_time": "2023-02-20T12:44:41.245390Z",
     "start_time": "2023-02-20T12:44:41.204183Z"
    }
   },
   "outputs": [],
   "source": [
    "tt = result_df.copy()\n",
    "tt = get_INDI(tt, 100, duration = 12*15)\n",
    "tt = tt[['strategy', 'seed']]\n",
    "tt.columns = ['올웨더전략', 'seed']"
   ]
  },
  {
   "cell_type": "code",
   "execution_count": 82,
   "metadata": {
    "ExecuteTime": {
     "end_time": "2023-02-20T12:44:41.413411Z",
     "start_time": "2023-02-20T12:44:41.404400Z"
    }
   },
   "outputs": [
    {
     "data": {
      "text/html": [
       "<div>\n",
       "<style scoped>\n",
       "    .dataframe tbody tr th:only-of-type {\n",
       "        vertical-align: middle;\n",
       "    }\n",
       "\n",
       "    .dataframe tbody tr th {\n",
       "        vertical-align: top;\n",
       "    }\n",
       "\n",
       "    .dataframe thead th {\n",
       "        text-align: right;\n",
       "    }\n",
       "</style>\n",
       "<table border=\"1\" class=\"dataframe\">\n",
       "  <thead>\n",
       "    <tr style=\"text-align: right;\">\n",
       "      <th></th>\n",
       "      <th>올웨더전략</th>\n",
       "      <th>seed</th>\n",
       "    </tr>\n",
       "    <tr>\n",
       "      <th>Date</th>\n",
       "      <th></th>\n",
       "      <th></th>\n",
       "    </tr>\n",
       "  </thead>\n",
       "  <tbody>\n",
       "    <tr>\n",
       "      <th>2008-03-31</th>\n",
       "      <td>99</td>\n",
       "      <td>100</td>\n",
       "    </tr>\n",
       "    <tr>\n",
       "      <th>2008-04-30</th>\n",
       "      <td>200</td>\n",
       "      <td>200</td>\n",
       "    </tr>\n",
       "    <tr>\n",
       "      <th>2008-05-30</th>\n",
       "      <td>299</td>\n",
       "      <td>300</td>\n",
       "    </tr>\n",
       "    <tr>\n",
       "      <th>2008-06-30</th>\n",
       "      <td>390</td>\n",
       "      <td>400</td>\n",
       "    </tr>\n",
       "    <tr>\n",
       "      <th>2008-07-31</th>\n",
       "      <td>487</td>\n",
       "      <td>500</td>\n",
       "    </tr>\n",
       "    <tr>\n",
       "      <th>...</th>\n",
       "      <td>...</td>\n",
       "      <td>...</td>\n",
       "    </tr>\n",
       "    <tr>\n",
       "      <th>2022-10-31</th>\n",
       "      <td>25299</td>\n",
       "      <td>17600</td>\n",
       "    </tr>\n",
       "    <tr>\n",
       "      <th>2022-11-30</th>\n",
       "      <td>26997</td>\n",
       "      <td>17700</td>\n",
       "    </tr>\n",
       "    <tr>\n",
       "      <th>2022-12-30</th>\n",
       "      <td>25748</td>\n",
       "      <td>17800</td>\n",
       "    </tr>\n",
       "    <tr>\n",
       "      <th>2023-01-31</th>\n",
       "      <td>27573</td>\n",
       "      <td>17900</td>\n",
       "    </tr>\n",
       "    <tr>\n",
       "      <th>2023-02-17</th>\n",
       "      <td>26881</td>\n",
       "      <td>18000</td>\n",
       "    </tr>\n",
       "  </tbody>\n",
       "</table>\n",
       "<p>180 rows × 2 columns</p>\n",
       "</div>"
      ],
      "text/plain": [
       "            올웨더전략   seed\n",
       "Date                    \n",
       "2008-03-31     99    100\n",
       "2008-04-30    200    200\n",
       "2008-05-30    299    300\n",
       "2008-06-30    390    400\n",
       "2008-07-31    487    500\n",
       "...           ...    ...\n",
       "2022-10-31  25299  17600\n",
       "2022-11-30  26997  17700\n",
       "2022-12-30  25748  17800\n",
       "2023-01-31  27573  17900\n",
       "2023-02-17  26881  18000\n",
       "\n",
       "[180 rows x 2 columns]"
      ]
     },
     "execution_count": 82,
     "metadata": {},
     "output_type": "execute_result"
    }
   ],
   "source": [
    "tt[['올웨더전략', 'seed']].astype(int)"
   ]
  },
  {
   "cell_type": "code",
   "execution_count": 86,
   "metadata": {
    "ExecuteTime": {
     "end_time": "2023-02-20T12:47:44.564212Z",
     "start_time": "2023-02-20T12:47:44.549181Z"
    }
   },
   "outputs": [
    {
     "data": {
      "text/plain": [
       "0.4444444444444444"
      ]
     },
     "execution_count": 86,
     "metadata": {},
     "output_type": "execute_result"
    }
   ],
   "source": [
    "8000/18000"
   ]
  },
  {
   "cell_type": "code",
   "execution_count": 87,
   "metadata": {
    "ExecuteTime": {
     "end_time": "2023-02-20T12:48:16.238631Z",
     "start_time": "2023-02-20T12:48:16.157358Z"
    }
   },
   "outputs": [
    {
     "data": {
      "text/html": [
       "<div>\n",
       "<style scoped>\n",
       "    .dataframe tbody tr th:only-of-type {\n",
       "        vertical-align: middle;\n",
       "    }\n",
       "\n",
       "    .dataframe tbody tr th {\n",
       "        vertical-align: top;\n",
       "    }\n",
       "\n",
       "    .dataframe thead th {\n",
       "        text-align: right;\n",
       "    }\n",
       "</style>\n",
       "<table border=\"1\" class=\"dataframe\">\n",
       "  <thead>\n",
       "    <tr style=\"text-align: right;\">\n",
       "      <th></th>\n",
       "      <th>SPY</th>\n",
       "      <th>QQQ</th>\n",
       "      <th>VEA</th>\n",
       "      <th>VWO</th>\n",
       "      <th>TLT</th>\n",
       "      <th>IEF</th>\n",
       "      <th>SHY</th>\n",
       "      <th>IAU</th>\n",
       "      <th>DBC</th>\n",
       "      <th>strategy</th>\n",
       "    </tr>\n",
       "    <tr>\n",
       "      <th>Date</th>\n",
       "      <th></th>\n",
       "      <th></th>\n",
       "      <th></th>\n",
       "      <th></th>\n",
       "      <th></th>\n",
       "      <th></th>\n",
       "      <th></th>\n",
       "      <th></th>\n",
       "      <th></th>\n",
       "      <th></th>\n",
       "    </tr>\n",
       "  </thead>\n",
       "  <tbody>\n",
       "    <tr>\n",
       "      <th>2008</th>\n",
       "      <td>-36.79</td>\n",
       "      <td>-41.73</td>\n",
       "      <td>-40.62</td>\n",
       "      <td>-52.46</td>\n",
       "      <td>33.95</td>\n",
       "      <td>17.92</td>\n",
       "      <td>6.62</td>\n",
       "      <td>5.11</td>\n",
       "      <td>-31.80</td>\n",
       "      <td>-11.55</td>\n",
       "    </tr>\n",
       "    <tr>\n",
       "      <th>2009</th>\n",
       "      <td>26.35</td>\n",
       "      <td>54.68</td>\n",
       "      <td>27.51</td>\n",
       "      <td>76.31</td>\n",
       "      <td>-21.81</td>\n",
       "      <td>-6.59</td>\n",
       "      <td>0.35</td>\n",
       "      <td>23.90</td>\n",
       "      <td>16.19</td>\n",
       "      <td>14.77</td>\n",
       "    </tr>\n",
       "    <tr>\n",
       "      <th>2010</th>\n",
       "      <td>15.06</td>\n",
       "      <td>20.14</td>\n",
       "      <td>8.35</td>\n",
       "      <td>19.48</td>\n",
       "      <td>9.01</td>\n",
       "      <td>9.36</td>\n",
       "      <td>2.28</td>\n",
       "      <td>29.46</td>\n",
       "      <td>11.90</td>\n",
       "      <td>11.11</td>\n",
       "    </tr>\n",
       "    <tr>\n",
       "      <th>2011</th>\n",
       "      <td>1.89</td>\n",
       "      <td>3.48</td>\n",
       "      <td>-12.31</td>\n",
       "      <td>-18.75</td>\n",
       "      <td>34.00</td>\n",
       "      <td>15.65</td>\n",
       "      <td>1.44</td>\n",
       "      <td>9.57</td>\n",
       "      <td>-2.58</td>\n",
       "      <td>10.27</td>\n",
       "    </tr>\n",
       "    <tr>\n",
       "      <th>2012</th>\n",
       "      <td>15.99</td>\n",
       "      <td>18.11</td>\n",
       "      <td>18.56</td>\n",
       "      <td>19.21</td>\n",
       "      <td>2.41</td>\n",
       "      <td>3.66</td>\n",
       "      <td>0.25</td>\n",
       "      <td>6.89</td>\n",
       "      <td>3.50</td>\n",
       "      <td>8.52</td>\n",
       "    </tr>\n",
       "    <tr>\n",
       "      <th>2013</th>\n",
       "      <td>32.31</td>\n",
       "      <td>36.63</td>\n",
       "      <td>21.81</td>\n",
       "      <td>-4.94</td>\n",
       "      <td>-13.38</td>\n",
       "      <td>-6.09</td>\n",
       "      <td>0.21</td>\n",
       "      <td>-28.26</td>\n",
       "      <td>-7.63</td>\n",
       "      <td>3.16</td>\n",
       "    </tr>\n",
       "    <tr>\n",
       "      <th>2014</th>\n",
       "      <td>13.46</td>\n",
       "      <td>19.18</td>\n",
       "      <td>-5.97</td>\n",
       "      <td>-0.04</td>\n",
       "      <td>27.30</td>\n",
       "      <td>9.07</td>\n",
       "      <td>0.45</td>\n",
       "      <td>-2.05</td>\n",
       "      <td>-28.10</td>\n",
       "      <td>15.45</td>\n",
       "    </tr>\n",
       "    <tr>\n",
       "      <th>2015</th>\n",
       "      <td>1.23</td>\n",
       "      <td>9.44</td>\n",
       "      <td>-0.37</td>\n",
       "      <td>-15.82</td>\n",
       "      <td>-1.79</td>\n",
       "      <td>1.51</td>\n",
       "      <td>0.43</td>\n",
       "      <td>-10.58</td>\n",
       "      <td>-27.59</td>\n",
       "      <td>-0.05</td>\n",
       "    </tr>\n",
       "    <tr>\n",
       "      <th>2016</th>\n",
       "      <td>12.00</td>\n",
       "      <td>7.10</td>\n",
       "      <td>2.63</td>\n",
       "      <td>12.17</td>\n",
       "      <td>1.17</td>\n",
       "      <td>1.00</td>\n",
       "      <td>0.82</td>\n",
       "      <td>8.31</td>\n",
       "      <td>18.56</td>\n",
       "      <td>5.89</td>\n",
       "    </tr>\n",
       "    <tr>\n",
       "      <th>2017</th>\n",
       "      <td>21.71</td>\n",
       "      <td>32.66</td>\n",
       "      <td>26.42</td>\n",
       "      <td>31.49</td>\n",
       "      <td>9.18</td>\n",
       "      <td>2.55</td>\n",
       "      <td>0.26</td>\n",
       "      <td>12.91</td>\n",
       "      <td>4.86</td>\n",
       "      <td>15.61</td>\n",
       "    </tr>\n",
       "    <tr>\n",
       "      <th>2018</th>\n",
       "      <td>-4.57</td>\n",
       "      <td>-0.13</td>\n",
       "      <td>-14.75</td>\n",
       "      <td>-14.76</td>\n",
       "      <td>-1.61</td>\n",
       "      <td>0.99</td>\n",
       "      <td>1.46</td>\n",
       "      <td>-1.76</td>\n",
       "      <td>-11.63</td>\n",
       "      <td>-1.71</td>\n",
       "    </tr>\n",
       "    <tr>\n",
       "      <th>2019</th>\n",
       "      <td>31.22</td>\n",
       "      <td>38.96</td>\n",
       "      <td>22.62</td>\n",
       "      <td>20.75</td>\n",
       "      <td>14.12</td>\n",
       "      <td>8.03</td>\n",
       "      <td>3.38</td>\n",
       "      <td>17.98</td>\n",
       "      <td>11.84</td>\n",
       "      <td>22.40</td>\n",
       "    </tr>\n",
       "    <tr>\n",
       "      <th>2020</th>\n",
       "      <td>18.33</td>\n",
       "      <td>48.41</td>\n",
       "      <td>9.71</td>\n",
       "      <td>15.18</td>\n",
       "      <td>18.15</td>\n",
       "      <td>10.01</td>\n",
       "      <td>3.03</td>\n",
       "      <td>25.03</td>\n",
       "      <td>-7.84</td>\n",
       "      <td>19.94</td>\n",
       "    </tr>\n",
       "    <tr>\n",
       "      <th>2021</th>\n",
       "      <td>28.73</td>\n",
       "      <td>27.42</td>\n",
       "      <td>11.66</td>\n",
       "      <td>1.26</td>\n",
       "      <td>-4.60</td>\n",
       "      <td>-3.33</td>\n",
       "      <td>-0.72</td>\n",
       "      <td>-4.00</td>\n",
       "      <td>41.36</td>\n",
       "      <td>3.40</td>\n",
       "    </tr>\n",
       "    <tr>\n",
       "      <th>2022</th>\n",
       "      <td>-18.18</td>\n",
       "      <td>-32.58</td>\n",
       "      <td>-15.34</td>\n",
       "      <td>-17.98</td>\n",
       "      <td>-31.23</td>\n",
       "      <td>-15.16</td>\n",
       "      <td>-3.88</td>\n",
       "      <td>-0.63</td>\n",
       "      <td>19.34</td>\n",
       "      <td>-24.77</td>\n",
       "    </tr>\n",
       "    <tr>\n",
       "      <th>MEAN</th>\n",
       "      <td>8.73</td>\n",
       "      <td>12.60</td>\n",
       "      <td>2.12</td>\n",
       "      <td>0.80</td>\n",
       "      <td>3.32</td>\n",
       "      <td>2.88</td>\n",
       "      <td>1.07</td>\n",
       "      <td>5.06</td>\n",
       "      <td>-1.30</td>\n",
       "      <td>5.42</td>\n",
       "    </tr>\n",
       "  </tbody>\n",
       "</table>\n",
       "</div>"
      ],
      "text/plain": [
       "        SPY    QQQ    VEA    VWO    TLT    IEF   SHY    IAU    DBC  strategy\n",
       "Date                                                                        \n",
       "2008 -36.79 -41.73 -40.62 -52.46  33.95  17.92  6.62   5.11 -31.80    -11.55\n",
       "2009  26.35  54.68  27.51  76.31 -21.81  -6.59  0.35  23.90  16.19     14.77\n",
       "2010  15.06  20.14   8.35  19.48   9.01   9.36  2.28  29.46  11.90     11.11\n",
       "2011   1.89   3.48 -12.31 -18.75  34.00  15.65  1.44   9.57  -2.58     10.27\n",
       "2012  15.99  18.11  18.56  19.21   2.41   3.66  0.25   6.89   3.50      8.52\n",
       "2013  32.31  36.63  21.81  -4.94 -13.38  -6.09  0.21 -28.26  -7.63      3.16\n",
       "2014  13.46  19.18  -5.97  -0.04  27.30   9.07  0.45  -2.05 -28.10     15.45\n",
       "2015   1.23   9.44  -0.37 -15.82  -1.79   1.51  0.43 -10.58 -27.59     -0.05\n",
       "2016  12.00   7.10   2.63  12.17   1.17   1.00  0.82   8.31  18.56      5.89\n",
       "2017  21.71  32.66  26.42  31.49   9.18   2.55  0.26  12.91   4.86     15.61\n",
       "2018  -4.57  -0.13 -14.75 -14.76  -1.61   0.99  1.46  -1.76 -11.63     -1.71\n",
       "2019  31.22  38.96  22.62  20.75  14.12   8.03  3.38  17.98  11.84     22.40\n",
       "2020  18.33  48.41   9.71  15.18  18.15  10.01  3.03  25.03  -7.84     19.94\n",
       "2021  28.73  27.42  11.66   1.26  -4.60  -3.33 -0.72  -4.00  41.36      3.40\n",
       "2022 -18.18 -32.58 -15.34 -17.98 -31.23 -15.16 -3.88  -0.63  19.34    -24.77\n",
       "MEAN   8.73  12.60   2.12   0.80   3.32   2.88  1.07   5.06  -1.30      5.42"
      ]
     },
     "execution_count": 87,
     "metadata": {},
     "output_type": "execute_result"
    }
   ],
   "source": [
    "Q.get_YTD_report(result_df, 'a')"
   ]
  },
  {
   "cell_type": "code",
   "execution_count": 88,
   "metadata": {
    "ExecuteTime": {
     "end_time": "2023-02-20T12:48:20.425471Z",
     "start_time": "2023-02-20T12:48:20.157513Z"
    }
   },
   "outputs": [
    {
     "data": {
      "text/html": [
       "<div>\n",
       "<style scoped>\n",
       "    .dataframe tbody tr th:only-of-type {\n",
       "        vertical-align: middle;\n",
       "    }\n",
       "\n",
       "    .dataframe tbody tr th {\n",
       "        vertical-align: top;\n",
       "    }\n",
       "\n",
       "    .dataframe thead th {\n",
       "        text-align: right;\n",
       "    }\n",
       "</style>\n",
       "<table border=\"1\" class=\"dataframe\">\n",
       "  <thead>\n",
       "    <tr style=\"text-align: right;\">\n",
       "      <th></th>\n",
       "      <th>MDD(%)</th>\n",
       "      <th>Date</th>\n",
       "    </tr>\n",
       "    <tr>\n",
       "      <th>Ticker</th>\n",
       "      <th></th>\n",
       "      <th></th>\n",
       "    </tr>\n",
       "  </thead>\n",
       "  <tbody>\n",
       "    <tr>\n",
       "      <th>SPY</th>\n",
       "      <td>-50.78</td>\n",
       "      <td>2009-02-27</td>\n",
       "    </tr>\n",
       "    <tr>\n",
       "      <th>QQQ</th>\n",
       "      <td>-49.74</td>\n",
       "      <td>2009-02-27</td>\n",
       "    </tr>\n",
       "    <tr>\n",
       "      <th>VEA</th>\n",
       "      <td>-57.05</td>\n",
       "      <td>2009-02-27</td>\n",
       "    </tr>\n",
       "    <tr>\n",
       "      <th>VWO</th>\n",
       "      <td>-61.69</td>\n",
       "      <td>2009-02-27</td>\n",
       "    </tr>\n",
       "    <tr>\n",
       "      <th>TLT</th>\n",
       "      <td>-41.63</td>\n",
       "      <td>2022-10-31</td>\n",
       "    </tr>\n",
       "    <tr>\n",
       "      <th>IEF</th>\n",
       "      <td>-21.19</td>\n",
       "      <td>2022-10-31</td>\n",
       "    </tr>\n",
       "    <tr>\n",
       "      <th>SHY</th>\n",
       "      <td>-5.36</td>\n",
       "      <td>2022-10-31</td>\n",
       "    </tr>\n",
       "    <tr>\n",
       "      <th>IAU</th>\n",
       "      <td>-42.59</td>\n",
       "      <td>2015-12-31</td>\n",
       "    </tr>\n",
       "    <tr>\n",
       "      <th>DBC</th>\n",
       "      <td>-74.55</td>\n",
       "      <td>2020-04-30</td>\n",
       "    </tr>\n",
       "    <tr>\n",
       "      <th>strategy</th>\n",
       "      <td>-25.52</td>\n",
       "      <td>2022-10-31</td>\n",
       "    </tr>\n",
       "  </tbody>\n",
       "</table>\n",
       "</div>"
      ],
      "text/plain": [
       "          MDD(%)       Date\n",
       "Ticker                     \n",
       "SPY       -50.78 2009-02-27\n",
       "QQQ       -49.74 2009-02-27\n",
       "VEA       -57.05 2009-02-27\n",
       "VWO       -61.69 2009-02-27\n",
       "TLT       -41.63 2022-10-31\n",
       "IEF       -21.19 2022-10-31\n",
       "SHY        -5.36 2022-10-31\n",
       "IAU       -42.59 2015-12-31\n",
       "DBC       -74.55 2020-04-30\n",
       "strategy  -25.52 2022-10-31"
      ]
     },
     "execution_count": 88,
     "metadata": {},
     "output_type": "execute_result"
    }
   ],
   "source": [
    "MDD, HRR = Q.get_MDD_report(result_df, 'a')\n",
    "MDD"
   ]
  },
  {
   "cell_type": "code",
   "execution_count": 90,
   "metadata": {
    "ExecuteTime": {
     "end_time": "2023-02-20T12:48:39.982653Z",
     "start_time": "2023-02-20T12:48:39.956519Z"
    }
   },
   "outputs": [
    {
     "data": {
      "text/html": [
       "<div>\n",
       "<style scoped>\n",
       "    .dataframe tbody tr th:only-of-type {\n",
       "        vertical-align: middle;\n",
       "    }\n",
       "\n",
       "    .dataframe tbody tr th {\n",
       "        vertical-align: top;\n",
       "    }\n",
       "\n",
       "    .dataframe thead th {\n",
       "        text-align: right;\n",
       "    }\n",
       "</style>\n",
       "<table border=\"1\" class=\"dataframe\">\n",
       "  <thead>\n",
       "    <tr style=\"text-align: right;\">\n",
       "      <th></th>\n",
       "      <th>Return</th>\n",
       "      <th>Volatility</th>\n",
       "      <th>Sharpe Ratio</th>\n",
       "      <th>Volatility(Down)</th>\n",
       "      <th>Sortino Ratio</th>\n",
       "    </tr>\n",
       "    <tr>\n",
       "      <th>Ticker</th>\n",
       "      <th></th>\n",
       "      <th></th>\n",
       "      <th></th>\n",
       "      <th></th>\n",
       "      <th></th>\n",
       "    </tr>\n",
       "  </thead>\n",
       "  <tbody>\n",
       "    <tr>\n",
       "      <th>SPY</th>\n",
       "      <td>8.88</td>\n",
       "      <td>74.70</td>\n",
       "      <td>0.12</td>\n",
       "      <td>10.93</td>\n",
       "      <td>0.81</td>\n",
       "    </tr>\n",
       "    <tr>\n",
       "      <th>QQQ</th>\n",
       "      <td>13.47</td>\n",
       "      <td>81.70</td>\n",
       "      <td>0.16</td>\n",
       "      <td>12.43</td>\n",
       "      <td>1.08</td>\n",
       "    </tr>\n",
       "    <tr>\n",
       "      <th>VEA</th>\n",
       "      <td>2.67</td>\n",
       "      <td>80.29</td>\n",
       "      <td>0.03</td>\n",
       "      <td>13.15</td>\n",
       "      <td>0.20</td>\n",
       "    </tr>\n",
       "    <tr>\n",
       "      <th>VWO</th>\n",
       "      <td>1.80</td>\n",
       "      <td>86.91</td>\n",
       "      <td>0.02</td>\n",
       "      <td>15.01</td>\n",
       "      <td>0.12</td>\n",
       "    </tr>\n",
       "    <tr>\n",
       "      <th>TLT</th>\n",
       "      <td>3.93</td>\n",
       "      <td>70.39</td>\n",
       "      <td>0.06</td>\n",
       "      <td>8.65</td>\n",
       "      <td>0.45</td>\n",
       "    </tr>\n",
       "    <tr>\n",
       "      <th>IEF</th>\n",
       "      <td>3.30</td>\n",
       "      <td>48.24</td>\n",
       "      <td>0.07</td>\n",
       "      <td>4.06</td>\n",
       "      <td>0.81</td>\n",
       "    </tr>\n",
       "    <tr>\n",
       "      <th>SHY</th>\n",
       "      <td>1.30</td>\n",
       "      <td>22.20</td>\n",
       "      <td>0.06</td>\n",
       "      <td>0.75</td>\n",
       "      <td>1.73</td>\n",
       "    </tr>\n",
       "    <tr>\n",
       "      <th>IAU</th>\n",
       "      <td>6.42</td>\n",
       "      <td>77.64</td>\n",
       "      <td>0.08</td>\n",
       "      <td>10.83</td>\n",
       "      <td>0.59</td>\n",
       "    </tr>\n",
       "    <tr>\n",
       "      <th>DBC</th>\n",
       "      <td>-0.12</td>\n",
       "      <td>82.87</td>\n",
       "      <td>-0.00</td>\n",
       "      <td>14.64</td>\n",
       "      <td>-0.01</td>\n",
       "    </tr>\n",
       "    <tr>\n",
       "      <th>strategy</th>\n",
       "      <td>5.95</td>\n",
       "      <td>57.69</td>\n",
       "      <td>0.10</td>\n",
       "      <td>6.23</td>\n",
       "      <td>0.95</td>\n",
       "    </tr>\n",
       "  </tbody>\n",
       "</table>\n",
       "</div>"
      ],
      "text/plain": [
       "          Return  Volatility  Sharpe Ratio  Volatility(Down)  Sortino Ratio\n",
       "Ticker                                                                     \n",
       "SPY         8.88       74.70          0.12             10.93           0.81\n",
       "QQQ        13.47       81.70          0.16             12.43           1.08\n",
       "VEA         2.67       80.29          0.03             13.15           0.20\n",
       "VWO         1.80       86.91          0.02             15.01           0.12\n",
       "TLT         3.93       70.39          0.06              8.65           0.45\n",
       "IEF         3.30       48.24          0.07              4.06           0.81\n",
       "SHY         1.30       22.20          0.06              0.75           1.73\n",
       "IAU         6.42       77.64          0.08             10.83           0.59\n",
       "DBC        -0.12       82.87         -0.00             14.64          -0.01\n",
       "strategy    5.95       57.69          0.10              6.23           0.95"
      ]
     },
     "execution_count": 90,
     "metadata": {},
     "output_type": "execute_result"
    }
   ],
   "source": [
    "Q.get_Vol_report(result_df, 'a', unit='monthly')"
   ]
  },
  {
   "cell_type": "code",
   "execution_count": 35,
   "metadata": {
    "ExecuteTime": {
     "end_time": "2022-07-06T00:55:11.594088Z",
     "start_time": "2022-07-06T00:55:11.582968Z"
    }
   },
   "outputs": [],
   "source": [
    "result_df.to_csv('result/AWP_result.csv')"
   ]
  },
  {
   "cell_type": "code",
   "execution_count": 38,
   "metadata": {
    "ExecuteTime": {
     "end_time": "2022-07-06T00:55:40.342563Z",
     "start_time": "2022-07-06T00:55:40.294558Z"
    }
   },
   "outputs": [
    {
     "data": {
      "application/vnd.plotly.v1+json": {
       "config": {
        "linkText": "Export to plot.ly",
        "plotlyServerURL": "https://plot.ly",
        "showLink": true
       },
       "data": [
        {
         "line": {
          "color": "rgba(0, 128, 240, 1.0)",
          "dash": "solid",
          "shape": "linear",
          "width": 1.3
         },
         "mode": "lines",
         "name": "strategy",
         "text": "",
         "type": "scatter",
         "x": [
          "2007-07-31",
          "2007-08-31",
          "2007-09-28",
          "2007-10-31",
          "2007-11-30",
          "2007-12-31",
          "2008-01-31",
          "2008-02-29",
          "2008-03-31",
          "2008-04-30",
          "2008-05-30",
          "2008-06-30",
          "2008-07-31",
          "2008-08-29",
          "2008-09-30",
          "2008-10-31",
          "2008-11-28",
          "2008-12-31",
          "2009-01-30",
          "2009-02-27",
          "2009-03-31",
          "2009-04-30",
          "2009-05-29",
          "2009-06-30",
          "2009-07-31",
          "2009-08-31",
          "2009-09-30",
          "2009-10-30",
          "2009-11-30",
          "2009-12-31",
          "2010-01-29",
          "2010-02-26",
          "2010-03-31",
          "2010-04-30",
          "2010-05-28",
          "2010-06-30",
          "2010-07-30",
          "2010-08-31",
          "2010-09-30",
          "2010-10-29",
          "2010-11-30",
          "2010-12-31",
          "2011-01-31",
          "2011-02-28",
          "2011-03-31",
          "2011-04-29",
          "2011-05-31",
          "2011-06-30",
          "2011-07-29",
          "2011-08-31",
          "2011-09-30",
          "2011-10-31",
          "2011-11-30",
          "2011-12-30",
          "2012-01-31",
          "2012-02-29",
          "2012-03-30",
          "2012-04-30",
          "2012-05-31",
          "2012-06-29",
          "2012-07-31",
          "2012-08-31",
          "2012-09-28",
          "2012-10-31",
          "2012-11-30",
          "2012-12-31",
          "2013-01-31",
          "2013-02-28",
          "2013-03-28",
          "2013-04-30",
          "2013-05-31",
          "2013-06-28",
          "2013-07-31",
          "2013-08-30",
          "2013-09-30",
          "2013-10-31",
          "2013-11-29",
          "2013-12-31",
          "2014-01-31",
          "2014-02-28",
          "2014-03-31",
          "2014-04-30",
          "2014-05-30",
          "2014-06-30",
          "2014-07-31",
          "2014-08-29",
          "2014-09-30",
          "2014-10-31",
          "2014-11-28",
          "2014-12-31",
          "2015-01-30",
          "2015-02-27",
          "2015-03-31",
          "2015-04-30",
          "2015-05-29",
          "2015-06-30",
          "2015-07-31",
          "2015-08-31",
          "2015-09-30",
          "2015-10-30",
          "2015-11-30",
          "2015-12-31",
          "2016-01-29",
          "2016-02-29",
          "2016-03-31",
          "2016-04-29",
          "2016-05-31",
          "2016-06-30",
          "2016-07-29",
          "2016-08-31",
          "2016-09-30",
          "2016-10-31",
          "2016-11-30",
          "2016-12-30",
          "2017-01-31",
          "2017-02-28",
          "2017-03-31",
          "2017-04-28",
          "2017-05-31",
          "2017-06-30",
          "2017-07-31",
          "2017-08-31",
          "2017-09-29",
          "2017-10-31",
          "2017-11-30",
          "2017-12-29",
          "2018-01-31",
          "2018-02-28",
          "2018-03-29",
          "2018-04-30",
          "2018-05-31",
          "2018-06-29",
          "2018-07-31",
          "2018-08-31",
          "2018-09-28",
          "2018-10-31",
          "2018-11-30",
          "2018-12-31",
          "2019-01-31",
          "2019-02-28",
          "2019-03-29",
          "2019-04-30",
          "2019-05-31",
          "2019-06-28",
          "2019-07-31",
          "2019-08-30",
          "2019-09-30",
          "2019-10-31",
          "2019-11-29",
          "2019-12-31",
          "2020-01-31",
          "2020-02-28",
          "2020-03-31",
          "2020-04-30",
          "2020-05-29",
          "2020-06-30",
          "2020-07-31",
          "2020-08-31",
          "2020-09-30",
          "2020-10-30",
          "2020-11-30",
          "2020-12-31",
          "2021-01-29",
          "2021-02-26",
          "2021-03-31",
          "2021-04-30",
          "2021-05-28",
          "2021-06-30",
          "2021-07-30",
          "2021-08-31",
          "2021-09-30",
          "2021-10-29",
          "2021-11-30",
          "2021-12-31",
          "2022-01-31",
          "2022-02-28",
          "2022-03-31",
          "2022-04-29",
          "2022-05-31",
          "2022-06-30",
          "2022-07-05"
         ],
         "y": [
          0.9945855686667331,
          1.0134036302092129,
          1.0415506966194503,
          1.0783529273336243,
          1.0739382868062248,
          1.0742126077468084,
          1.0420268418638463,
          1.0286049194682463,
          1.03629800044828,
          1.047650058008188,
          1.0486142759100077,
          1.017589609512579,
          1.01174825915246,
          1.016609379975863,
          0.9586483268574688,
          0.8598295555903643,
          0.867825326255117,
          0.9502729687869045,
          0.8864432066514747,
          0.8539914410423048,
          0.9216119647747142,
          0.9445867501620389,
          0.9684372821231708,
          0.9683020270068383,
          1.0094409776221986,
          1.0184524960698995,
          1.0684425823284263,
          1.0610370610146531,
          1.1054279962874487,
          1.0903697596330901,
          1.059933289519798,
          1.0741572768741683,
          1.0959049290056642,
          1.1169692881548332,
          1.0927121994426807,
          1.0964672825693877,
          1.1367958711010855,
          1.141198748026016,
          1.191994557100674,
          1.2105738526593708,
          1.2007400591059745,
          1.211319200500891,
          1.2025074381610181,
          1.2162420623328911,
          1.2281091195453395,
          1.2596781994319317,
          1.2672468816413212,
          1.2526368621543567,
          1.2780783907914683,
          1.2912289526171197,
          1.2731346834097625,
          1.3368623731686977,
          1.335220502261154,
          1.335501545175898,
          1.3878374506394886,
          1.4086849222573596,
          1.4056424632837068,
          1.4106401691928794,
          1.3917409636127878,
          1.4183618658784647,
          1.435612491374971,
          1.4646559252894997,
          1.4759037640648636,
          1.4420296593984832,
          1.4517724058368964,
          1.4491399275325183,
          1.4373877803610375,
          1.4378093442182471,
          1.4483004450059285,
          1.4786021785970962,
          1.4510325615858768,
          1.3957236009744047,
          1.4197432405570227,
          1.408013342556695,
          1.4468661911478102,
          1.4815051697658121,
          1.4871485406160876,
          1.4957744875751902,
          1.5105570392575196,
          1.5628831881849705,
          1.5572433192304589,
          1.5631506759484526,
          1.5986190242360843,
          1.6291240504583573,
          1.629363309601466,
          1.6827212779252294,
          1.6546448682203985,
          1.6879437459984044,
          1.725589888248072,
          1.72631389697204,
          1.7716509989026175,
          1.7769057662746914,
          1.7705139048915177,
          1.7718128822628334,
          1.7662980950523306,
          1.7269794428863998,
          1.7588882688970653,
          1.701290511958315,
          1.7151717623713552,
          1.7831877523366835,
          1.7623253772759937,
          1.7262703914945245,
          1.7259423949167365,
          1.747926824537001,
          1.7966889730968698,
          1.7805893086363695,
          1.795561108702991,
          1.8421215328107696,
          1.8909871609517626,
          1.8903014332662273,
          1.8988351199941316,
          1.8629751085120687,
          1.806424067398599,
          1.827582142820151,
          1.8671670683645218,
          1.911882585854615,
          1.9249395720417684,
          1.9495728124776188,
          1.9865469135765095,
          1.969969910423829,
          2.0188805315172313,
          2.057516509752891,
          2.040604926768102,
          2.0756322195127814,
          2.0901370484926356,
          2.1120329070659554,
          2.1582715671776747,
          2.12610819660657,
          2.124433227893551,
          2.1278274117955194,
          2.170997309247412,
          2.1591239864495577,
          2.178163298456647,
          2.2240882198486904,
          2.212787717465036,
          2.1183924130721454,
          2.1236037840866064,
          2.076580471844896,
          2.164743693783513,
          2.1880858685388294,
          2.262188024843573,
          2.2924944641585765,
          2.2694335675309705,
          2.3715319015596017,
          2.376898134357233,
          2.431373262669441,
          2.4236397301408448,
          2.4727852725314605,
          2.487839761938135,
          2.5406778071435725,
          2.586082085020004,
          2.5599562160894442,
          2.4533847691272737,
          2.6606130838628483,
          2.759052697382356,
          2.830860338711778,
          2.965854117388463,
          3.028551536193498,
          2.934991590536132,
          2.855312619388669,
          2.985307990399901,
          3.0470004793094385,
          3.0301791681620074,
          2.9410100419181457,
          2.881619672296667,
          2.941190060493949,
          2.9551306355787363,
          3.0371767210363667,
          3.093077431845693,
          3.1262490523827062,
          3.012067953283899,
          3.0973568081857388,
          3.1230264647932953,
          3.1516336923243045,
          3.0353852415212677,
          2.9725741978947355,
          2.953042109008868,
          2.709136024925614,
          2.6911028348741897,
          2.58968006712113,
          2.6016964970202032
         ]
        },
        {
         "line": {
          "color": "rgba(238, 118, 0, 1.0)",
          "dash": "solid",
          "shape": "linear",
          "width": 1.3
         },
         "mode": "lines",
         "name": "SPY",
         "text": "",
         "type": "scatter",
         "x": [
          "2007-07-31",
          "2007-08-31",
          "2007-09-28",
          "2007-10-31",
          "2007-11-30",
          "2007-12-31",
          "2008-01-31",
          "2008-02-29",
          "2008-03-31",
          "2008-04-30",
          "2008-05-30",
          "2008-06-30",
          "2008-07-31",
          "2008-08-29",
          "2008-09-30",
          "2008-10-31",
          "2008-11-28",
          "2008-12-31",
          "2009-01-30",
          "2009-02-27",
          "2009-03-31",
          "2009-04-30",
          "2009-05-29",
          "2009-06-30",
          "2009-07-31",
          "2009-08-31",
          "2009-09-30",
          "2009-10-30",
          "2009-11-30",
          "2009-12-31",
          "2010-01-29",
          "2010-02-26",
          "2010-03-31",
          "2010-04-30",
          "2010-05-28",
          "2010-06-30",
          "2010-07-30",
          "2010-08-31",
          "2010-09-30",
          "2010-10-29",
          "2010-11-30",
          "2010-12-31",
          "2011-01-31",
          "2011-02-28",
          "2011-03-31",
          "2011-04-29",
          "2011-05-31",
          "2011-06-30",
          "2011-07-29",
          "2011-08-31",
          "2011-09-30",
          "2011-10-31",
          "2011-11-30",
          "2011-12-30",
          "2012-01-31",
          "2012-02-29",
          "2012-03-30",
          "2012-04-30",
          "2012-05-31",
          "2012-06-29",
          "2012-07-31",
          "2012-08-31",
          "2012-09-28",
          "2012-10-31",
          "2012-11-30",
          "2012-12-31",
          "2013-01-31",
          "2013-02-28",
          "2013-03-28",
          "2013-04-30",
          "2013-05-31",
          "2013-06-28",
          "2013-07-31",
          "2013-08-30",
          "2013-09-30",
          "2013-10-31",
          "2013-11-29",
          "2013-12-31",
          "2014-01-31",
          "2014-02-28",
          "2014-03-31",
          "2014-04-30",
          "2014-05-30",
          "2014-06-30",
          "2014-07-31",
          "2014-08-29",
          "2014-09-30",
          "2014-10-31",
          "2014-11-28",
          "2014-12-31",
          "2015-01-30",
          "2015-02-27",
          "2015-03-31",
          "2015-04-30",
          "2015-05-29",
          "2015-06-30",
          "2015-07-31",
          "2015-08-31",
          "2015-09-30",
          "2015-10-30",
          "2015-11-30",
          "2015-12-31",
          "2016-01-29",
          "2016-02-29",
          "2016-03-31",
          "2016-04-29",
          "2016-05-31",
          "2016-06-30",
          "2016-07-29",
          "2016-08-31",
          "2016-09-30",
          "2016-10-31",
          "2016-11-30",
          "2016-12-30",
          "2017-01-31",
          "2017-02-28",
          "2017-03-31",
          "2017-04-28",
          "2017-05-31",
          "2017-06-30",
          "2017-07-31",
          "2017-08-31",
          "2017-09-29",
          "2017-10-31",
          "2017-11-30",
          "2017-12-29",
          "2018-01-31",
          "2018-02-28",
          "2018-03-29",
          "2018-04-30",
          "2018-05-31",
          "2018-06-29",
          "2018-07-31",
          "2018-08-31",
          "2018-09-28",
          "2018-10-31",
          "2018-11-30",
          "2018-12-31",
          "2019-01-31",
          "2019-02-28",
          "2019-03-29",
          "2019-04-30",
          "2019-05-31",
          "2019-06-28",
          "2019-07-31",
          "2019-08-30",
          "2019-09-30",
          "2019-10-31",
          "2019-11-29",
          "2019-12-31",
          "2020-01-31",
          "2020-02-28",
          "2020-03-31",
          "2020-04-30",
          "2020-05-29",
          "2020-06-30",
          "2020-07-31",
          "2020-08-31",
          "2020-09-30",
          "2020-10-30",
          "2020-11-30",
          "2020-12-31",
          "2021-01-29",
          "2021-02-26",
          "2021-03-31",
          "2021-04-30",
          "2021-05-28",
          "2021-06-30",
          "2021-07-30",
          "2021-08-31",
          "2021-09-30",
          "2021-10-29",
          "2021-11-30",
          "2021-12-31",
          "2022-01-31",
          "2022-02-28",
          "2022-03-31",
          "2022-04-29",
          "2022-05-31",
          "2022-06-30",
          "2022-07-05"
         ],
         "y": [
          0.9844613147939172,
          0.9970948152394643,
          1.035696357821207,
          1.0497474609426558,
          1.009087692305667,
          0.9977249763507706,
          0.9374012710062076,
          0.9131764090128767,
          0.9050106434523489,
          0.9481456045621586,
          0.9624781496224888,
          0.8820380664426078,
          0.8741124480411551,
          0.887620760382398,
          0.8040303566517888,
          0.6712153975208027,
          0.6244941649298262,
          0.6306120974166027,
          0.5788296906972492,
          0.5166348676076195,
          0.5596762572407036,
          0.6152779460863392,
          0.651242858549374,
          0.6508166077349973,
          0.6993711622616707,
          0.7252057585154721,
          0.750919380464673,
          0.736482905589394,
          0.7818550598957916,
          0.7967890814385022,
          0.7678321563974656,
          0.7917843065563708,
          0.8399879940277771,
          0.8529827545100863,
          0.7852091521703629,
          0.744581809635638,
          0.7954375088383647,
          0.7596580764517419,
          0.8276891475863651,
          0.8593083387671305,
          0.8593083387671305,
          0.9167552668339105,
          0.9381156152676224,
          0.970703293750624,
          0.9708200415760831,
          0.9989365208469005,
          0.9877340646666551,
          0.9710710667224562,
          0.9516450600045715,
          0.8993278997440347,
          0.8368957356003336,
          0.9282406892569898,
          0.9244683834070646,
          0.9341276204084068,
          0.9774472301561088,
          1.019873944220314,
          1.052677034566433,
          1.0456494390526812,
          0.9828523426854231,
          1.0227373491952403,
          1.0348360268130607,
          1.0607613191520409,
          1.087653020196958,
          1.067859171220698,
          1.0739027592465145,
          1.0834979754818481,
          1.1389624769717512,
          1.15349408227098,
          1.1972933627579425,
          1.2202964951332786,
          1.2491075027141272,
          1.2324382689810311,
          1.29612687530092,
          1.2572536601829012,
          1.2970409033801231,
          1.3571030520237317,
          1.3973240289820068,
          1.4335517453037754,
          1.3830217621410983,
          1.4459708038978114,
          1.4579656902737699,
          1.4681013415468374,
          1.5021703663255759,
          1.5331826073870403,
          1.5125799765908485,
          1.572271857947066,
          1.550580319836384,
          1.5870977924822298,
          1.630698289876467,
          1.6265621603876776,
          1.578368380891963,
          1.6670799608974465,
          1.6408972690501098,
          1.6570339664114082,
          1.6783370841603549,
          1.6442464419801068,
          1.681388740673425,
          1.5789075687719174,
          1.5386203538782484,
          1.6694950126506836,
          1.6755966627997847,
          1.646638767747142,
          1.564658098277003,
          1.5633656270982996,
          1.6685270796407936,
          1.6751030654653212,
          1.7035990964203316,
          1.7095211558492012,
          1.771868928983164,
          1.7739911758044185,
          1.774093858461588,
          1.7433363147332914,
          1.8075580117173244,
          1.8442008930065419,
          1.8772020735799533,
          1.950959954664429,
          1.9533987024154744,
          1.9727885415577568,
          2.000630368970936,
          2.013384220142194,
          2.054767963870116,
          2.0607629127425366,
          2.1022859224224906,
          2.1518242765774693,
          2.2175968835467117,
          2.2444921182053372,
          2.3709896688913883,
          2.284779333099006,
          2.2221521966224613,
          2.2336368568935643,
          2.287934919427025,
          2.3010922954264577,
          2.3863399639862406,
          2.4625110953738276,
          2.477151896265296,
          2.3059704837939816,
          2.3487445312997455,
          2.141940828322011,
          2.3134365245537305,
          2.3884290918397983,
          2.4316608462505966,
          2.531000011986572,
          2.369595346494035,
          2.534486510845388,
          2.5728066807747925,
          2.5297290196362914,
          2.5789529514577785,
          2.6359594249688056,
          2.731376418061699,
          2.8107380561951283,
          2.809602865469714,
          2.5871783727320867,
          2.2641142058407584,
          2.5516196872724155,
          2.6731917961684126,
          2.720599589116941,
          2.880821671888447,
          3.081893437712125,
          2.966496145554953,
          2.8925308205598395,
          3.207171268089937,
          3.325991592632263,
          3.2920985556735043,
          3.3836371652186816,
          3.5372518060750027,
          3.724409171127161,
          3.748863995157702,
          3.8329409982819014,
          3.9265130292998243,
          4.04336533886628,
          3.854922292716661,
          4.125397557524633,
          4.0922508752102935,
          4.281507899670591,
          4.0556958492579795,
          3.935983945476479,
          4.083938984329947,
          3.725495584126093,
          3.733905030459404,
          3.426005609299972,
          3.4687795182326497
         ]
        },
        {
         "line": {
          "color": "rgba(48, 144, 84, 1.0)",
          "dash": "solid",
          "shape": "linear",
          "width": 1.3
         },
         "mode": "lines",
         "name": "QQQ",
         "text": "",
         "type": "scatter",
         "x": [
          "2007-07-31",
          "2007-08-31",
          "2007-09-28",
          "2007-10-31",
          "2007-11-30",
          "2007-12-31",
          "2008-01-31",
          "2008-02-29",
          "2008-03-31",
          "2008-04-30",
          "2008-05-30",
          "2008-06-30",
          "2008-07-31",
          "2008-08-29",
          "2008-09-30",
          "2008-10-31",
          "2008-11-28",
          "2008-12-31",
          "2009-01-30",
          "2009-02-27",
          "2009-03-31",
          "2009-04-30",
          "2009-05-29",
          "2009-06-30",
          "2009-07-31",
          "2009-08-31",
          "2009-09-30",
          "2009-10-30",
          "2009-11-30",
          "2009-12-31",
          "2010-01-29",
          "2010-02-26",
          "2010-03-31",
          "2010-04-30",
          "2010-05-28",
          "2010-06-30",
          "2010-07-30",
          "2010-08-31",
          "2010-09-30",
          "2010-10-29",
          "2010-11-30",
          "2010-12-31",
          "2011-01-31",
          "2011-02-28",
          "2011-03-31",
          "2011-04-29",
          "2011-05-31",
          "2011-06-30",
          "2011-07-29",
          "2011-08-31",
          "2011-09-30",
          "2011-10-31",
          "2011-11-30",
          "2011-12-30",
          "2012-01-31",
          "2012-02-29",
          "2012-03-30",
          "2012-04-30",
          "2012-05-31",
          "2012-06-29",
          "2012-07-31",
          "2012-08-31",
          "2012-09-28",
          "2012-10-31",
          "2012-11-30",
          "2012-12-31",
          "2013-01-31",
          "2013-02-28",
          "2013-03-28",
          "2013-04-30",
          "2013-05-31",
          "2013-06-28",
          "2013-07-31",
          "2013-08-30",
          "2013-09-30",
          "2013-10-31",
          "2013-11-29",
          "2013-12-31",
          "2014-01-31",
          "2014-02-28",
          "2014-03-31",
          "2014-04-30",
          "2014-05-30",
          "2014-06-30",
          "2014-07-31",
          "2014-08-29",
          "2014-09-30",
          "2014-10-31",
          "2014-11-28",
          "2014-12-31",
          "2015-01-30",
          "2015-02-27",
          "2015-03-31",
          "2015-04-30",
          "2015-05-29",
          "2015-06-30",
          "2015-07-31",
          "2015-08-31",
          "2015-09-30",
          "2015-10-30",
          "2015-11-30",
          "2015-12-31",
          "2016-01-29",
          "2016-02-29",
          "2016-03-31",
          "2016-04-29",
          "2016-05-31",
          "2016-06-30",
          "2016-07-29",
          "2016-08-31",
          "2016-09-30",
          "2016-10-31",
          "2016-11-30",
          "2016-12-30",
          "2017-01-31",
          "2017-02-28",
          "2017-03-31",
          "2017-04-28",
          "2017-05-31",
          "2017-06-30",
          "2017-07-31",
          "2017-08-31",
          "2017-09-29",
          "2017-10-31",
          "2017-11-30",
          "2017-12-29",
          "2018-01-31",
          "2018-02-28",
          "2018-03-29",
          "2018-04-30",
          "2018-05-31",
          "2018-06-29",
          "2018-07-31",
          "2018-08-31",
          "2018-09-28",
          "2018-10-31",
          "2018-11-30",
          "2018-12-31",
          "2019-01-31",
          "2019-02-28",
          "2019-03-29",
          "2019-04-30",
          "2019-05-31",
          "2019-06-28",
          "2019-07-31",
          "2019-08-30",
          "2019-09-30",
          "2019-10-31",
          "2019-11-29",
          "2019-12-31",
          "2020-01-31",
          "2020-02-28",
          "2020-03-31",
          "2020-04-30",
          "2020-05-29",
          "2020-06-30",
          "2020-07-31",
          "2020-08-31",
          "2020-09-30",
          "2020-10-30",
          "2020-11-30",
          "2020-12-31",
          "2021-01-29",
          "2021-02-26",
          "2021-03-31",
          "2021-04-30",
          "2021-05-28",
          "2021-06-30",
          "2021-07-30",
          "2021-08-31",
          "2021-09-30",
          "2021-10-29",
          "2021-11-30",
          "2021-12-31",
          "2022-01-31",
          "2022-02-28",
          "2022-03-31",
          "2022-04-29",
          "2022-05-31",
          "2022-06-30",
          "2022-07-05"
         ],
         "y": [
          0.9703964363480099,
          0.9977542435767653,
          1.0501581802515023,
          1.1241039590472415,
          1.048115326937603,
          1.0473672435523993,
          0.9228365677477091,
          0.8782590204387226,
          0.8947032099006085,
          0.9661237753268933,
          1.0234237906110795,
          0.9250212760301874,
          0.9309601348552543,
          0.9444761400563079,
          0.7973619051627323,
          0.6739972134048958,
          0.5967406583718576,
          0.6103308694043819,
          0.5963756099830102,
          0.5649765753233491,
          0.6232625756733349,
          0.7046651323411165,
          0.7272766902870105,
          0.7487527882564288,
          0.8119379683550894,
          0.823874962066422,
          0.8704074675432554,
          0.8438317676272076,
          0.8973948215405131,
          0.9440848648900092,
          0.8830029660181594,
          0.9236551798993016,
          0.9948775382270787,
          1.0171879312521737,
          0.9419938996161232,
          0.8857031722439179,
          0.949989699787572,
          0.9012563601042869,
          1.0199776274955865,
          1.0846222923178137,
          1.0827516851369041,
          1.1342593039714517,
          1.166333323734569,
          1.2031974517495962,
          1.197804216220287,
          1.2322179126231871,
          1.2172009560369212,
          1.1925469877970172,
          1.212405265734405,
          1.1509486606401194,
          1.0992617073543516,
          1.2136066470704203,
          1.180936588348134,
          1.1736833781152605,
          1.2724891293994645,
          1.3540560021442163,
          1.4224772343154346,
          1.4058414830533816,
          1.3068683588549708,
          1.3541956420133483,
          1.3677037614603709,
          1.4386213221042559,
          1.4514024459128092,
          1.37477905490567,
          1.3927711558610423,
          1.3862670922611071,
          1.42330240316139,
          1.4281981273549276,
          1.4713979714119265,
          1.5087313460937828,
          1.5627072945439886,
          1.5252756580506681,
          1.621581625307068,
          1.6151617354861147,
          1.6932092582296483,
          1.7771400851041208,
          1.8402487999698747,
          1.8941148794875147,
          1.8577227448626306,
          1.9534405589138923,
          1.9000417767755684,
          1.8939731131229136,
          1.9789297968532298,
          2.040748615009071,
          2.0648696303220535,
          2.168308749421305,
          2.15190248246195,
          2.208754870449909,
          2.3091729483195147,
          2.2574330098549775,
          2.2104259414726424,
          2.370031653771096,
          2.3141227209395567,
          2.358608474527464,
          2.411640436197383,
          2.3517326286363627,
          2.4589193415838406,
          2.291110673013665,
          2.2405395982252623,
          2.4952870215108307,
          2.5104785279335116,
          2.470442643322472,
          2.299724220118862,
          2.263725487155746,
          2.4188494330452968,
          2.341765389957182,
          2.444101566739839,
          2.3884244219144217,
          2.5592158547958013,
          2.586089618493422,
          2.6433341676874584,
          2.60481553759356,
          2.6161706689821838,
          2.6457916876178156,
          2.7817879839715403,
          2.903492458693933,
          2.9623425119670745,
          3.043126657171274,
          3.1617273345486847,
          3.088440149120495,
          3.2138707755284672,
          3.2805137258637225,
          3.2708289566660094,
          3.4214957680525067,
          3.4889581279751556,
          3.5100005094728726,
          3.8173733793778672,
          3.7680227357807228,
          3.6143316934213763,
          3.632614592632136,
          3.838690078791087,
          3.882644385719697,
          3.9912186369607063,
          4.221937370278239,
          4.2100481341109806,
          3.8481639705214565,
          3.8379663614997996,
          3.505570664995005,
          3.8214495167760556,
          3.9357564453856155,
          4.090219051184303,
          4.315151235914737,
          3.9602217757566227,
          4.260804745629055,
          4.360286102244561,
          4.277460521390108,
          4.316723424898161,
          4.505797934198256,
          4.689157841341287,
          4.871395313292591,
          5.0194093215814926,
          4.715362290590036,
          4.371808872359325,
          5.026432781699734,
          5.358221363748125,
          5.695075258003708,
          6.11346607685952,
          6.782567167352978,
          6.390628534468055,
          6.196039313584984,
          6.8915925900493304,
          7.2294494813344645,
          7.248343393576655,
          7.238666421528994,
          7.362938107906355,
          7.798073660917007,
          7.70440224433876,
          8.186861536348674,
          8.42108225328776,
          8.776340256995837,
          8.27756720057947,
          8.928514399253954,
          9.106804032367034,
          9.21174445726741,
          8.405991932607815,
          8.029742583293277,
          8.40456150998899,
          7.261899093359796,
          7.146682024689499,
          6.510063861317054,
          6.665220059054551
         ]
        }
       ],
       "layout": {
        "legend": {
         "bgcolor": "#F2F3F7",
         "font": {
          "color": "#505050"
         }
        },
        "paper_bgcolor": "#F2F3F7",
        "plot_bgcolor": "#F2F3F7",
        "template": {
         "data": {
          "bar": [
           {
            "error_x": {
             "color": "#2a3f5f"
            },
            "error_y": {
             "color": "#2a3f5f"
            },
            "marker": {
             "line": {
              "color": "#E5ECF6",
              "width": 0.5
             },
             "pattern": {
              "fillmode": "overlay",
              "size": 10,
              "solidity": 0.2
             }
            },
            "type": "bar"
           }
          ],
          "barpolar": [
           {
            "marker": {
             "line": {
              "color": "#E5ECF6",
              "width": 0.5
             },
             "pattern": {
              "fillmode": "overlay",
              "size": 10,
              "solidity": 0.2
             }
            },
            "type": "barpolar"
           }
          ],
          "carpet": [
           {
            "aaxis": {
             "endlinecolor": "#2a3f5f",
             "gridcolor": "white",
             "linecolor": "white",
             "minorgridcolor": "white",
             "startlinecolor": "#2a3f5f"
            },
            "baxis": {
             "endlinecolor": "#2a3f5f",
             "gridcolor": "white",
             "linecolor": "white",
             "minorgridcolor": "white",
             "startlinecolor": "#2a3f5f"
            },
            "type": "carpet"
           }
          ],
          "choropleth": [
           {
            "colorbar": {
             "outlinewidth": 0,
             "ticks": ""
            },
            "type": "choropleth"
           }
          ],
          "contour": [
           {
            "colorbar": {
             "outlinewidth": 0,
             "ticks": ""
            },
            "colorscale": [
             [
              0,
              "#0d0887"
             ],
             [
              0.1111111111111111,
              "#46039f"
             ],
             [
              0.2222222222222222,
              "#7201a8"
             ],
             [
              0.3333333333333333,
              "#9c179e"
             ],
             [
              0.4444444444444444,
              "#bd3786"
             ],
             [
              0.5555555555555556,
              "#d8576b"
             ],
             [
              0.6666666666666666,
              "#ed7953"
             ],
             [
              0.7777777777777778,
              "#fb9f3a"
             ],
             [
              0.8888888888888888,
              "#fdca26"
             ],
             [
              1,
              "#f0f921"
             ]
            ],
            "type": "contour"
           }
          ],
          "contourcarpet": [
           {
            "colorbar": {
             "outlinewidth": 0,
             "ticks": ""
            },
            "type": "contourcarpet"
           }
          ],
          "heatmap": [
           {
            "colorbar": {
             "outlinewidth": 0,
             "ticks": ""
            },
            "colorscale": [
             [
              0,
              "#0d0887"
             ],
             [
              0.1111111111111111,
              "#46039f"
             ],
             [
              0.2222222222222222,
              "#7201a8"
             ],
             [
              0.3333333333333333,
              "#9c179e"
             ],
             [
              0.4444444444444444,
              "#bd3786"
             ],
             [
              0.5555555555555556,
              "#d8576b"
             ],
             [
              0.6666666666666666,
              "#ed7953"
             ],
             [
              0.7777777777777778,
              "#fb9f3a"
             ],
             [
              0.8888888888888888,
              "#fdca26"
             ],
             [
              1,
              "#f0f921"
             ]
            ],
            "type": "heatmap"
           }
          ],
          "heatmapgl": [
           {
            "colorbar": {
             "outlinewidth": 0,
             "ticks": ""
            },
            "colorscale": [
             [
              0,
              "#0d0887"
             ],
             [
              0.1111111111111111,
              "#46039f"
             ],
             [
              0.2222222222222222,
              "#7201a8"
             ],
             [
              0.3333333333333333,
              "#9c179e"
             ],
             [
              0.4444444444444444,
              "#bd3786"
             ],
             [
              0.5555555555555556,
              "#d8576b"
             ],
             [
              0.6666666666666666,
              "#ed7953"
             ],
             [
              0.7777777777777778,
              "#fb9f3a"
             ],
             [
              0.8888888888888888,
              "#fdca26"
             ],
             [
              1,
              "#f0f921"
             ]
            ],
            "type": "heatmapgl"
           }
          ],
          "histogram": [
           {
            "marker": {
             "pattern": {
              "fillmode": "overlay",
              "size": 10,
              "solidity": 0.2
             }
            },
            "type": "histogram"
           }
          ],
          "histogram2d": [
           {
            "colorbar": {
             "outlinewidth": 0,
             "ticks": ""
            },
            "colorscale": [
             [
              0,
              "#0d0887"
             ],
             [
              0.1111111111111111,
              "#46039f"
             ],
             [
              0.2222222222222222,
              "#7201a8"
             ],
             [
              0.3333333333333333,
              "#9c179e"
             ],
             [
              0.4444444444444444,
              "#bd3786"
             ],
             [
              0.5555555555555556,
              "#d8576b"
             ],
             [
              0.6666666666666666,
              "#ed7953"
             ],
             [
              0.7777777777777778,
              "#fb9f3a"
             ],
             [
              0.8888888888888888,
              "#fdca26"
             ],
             [
              1,
              "#f0f921"
             ]
            ],
            "type": "histogram2d"
           }
          ],
          "histogram2dcontour": [
           {
            "colorbar": {
             "outlinewidth": 0,
             "ticks": ""
            },
            "colorscale": [
             [
              0,
              "#0d0887"
             ],
             [
              0.1111111111111111,
              "#46039f"
             ],
             [
              0.2222222222222222,
              "#7201a8"
             ],
             [
              0.3333333333333333,
              "#9c179e"
             ],
             [
              0.4444444444444444,
              "#bd3786"
             ],
             [
              0.5555555555555556,
              "#d8576b"
             ],
             [
              0.6666666666666666,
              "#ed7953"
             ],
             [
              0.7777777777777778,
              "#fb9f3a"
             ],
             [
              0.8888888888888888,
              "#fdca26"
             ],
             [
              1,
              "#f0f921"
             ]
            ],
            "type": "histogram2dcontour"
           }
          ],
          "mesh3d": [
           {
            "colorbar": {
             "outlinewidth": 0,
             "ticks": ""
            },
            "type": "mesh3d"
           }
          ],
          "parcoords": [
           {
            "line": {
             "colorbar": {
              "outlinewidth": 0,
              "ticks": ""
             }
            },
            "type": "parcoords"
           }
          ],
          "pie": [
           {
            "automargin": true,
            "type": "pie"
           }
          ],
          "scatter": [
           {
            "fillpattern": {
             "fillmode": "overlay",
             "size": 10,
             "solidity": 0.2
            },
            "type": "scatter"
           }
          ],
          "scatter3d": [
           {
            "line": {
             "colorbar": {
              "outlinewidth": 0,
              "ticks": ""
             }
            },
            "marker": {
             "colorbar": {
              "outlinewidth": 0,
              "ticks": ""
             }
            },
            "type": "scatter3d"
           }
          ],
          "scattercarpet": [
           {
            "marker": {
             "colorbar": {
              "outlinewidth": 0,
              "ticks": ""
             }
            },
            "type": "scattercarpet"
           }
          ],
          "scattergeo": [
           {
            "marker": {
             "colorbar": {
              "outlinewidth": 0,
              "ticks": ""
             }
            },
            "type": "scattergeo"
           }
          ],
          "scattergl": [
           {
            "marker": {
             "colorbar": {
              "outlinewidth": 0,
              "ticks": ""
             }
            },
            "type": "scattergl"
           }
          ],
          "scattermapbox": [
           {
            "marker": {
             "colorbar": {
              "outlinewidth": 0,
              "ticks": ""
             }
            },
            "type": "scattermapbox"
           }
          ],
          "scatterpolar": [
           {
            "marker": {
             "colorbar": {
              "outlinewidth": 0,
              "ticks": ""
             }
            },
            "type": "scatterpolar"
           }
          ],
          "scatterpolargl": [
           {
            "marker": {
             "colorbar": {
              "outlinewidth": 0,
              "ticks": ""
             }
            },
            "type": "scatterpolargl"
           }
          ],
          "scatterternary": [
           {
            "marker": {
             "colorbar": {
              "outlinewidth": 0,
              "ticks": ""
             }
            },
            "type": "scatterternary"
           }
          ],
          "surface": [
           {
            "colorbar": {
             "outlinewidth": 0,
             "ticks": ""
            },
            "colorscale": [
             [
              0,
              "#0d0887"
             ],
             [
              0.1111111111111111,
              "#46039f"
             ],
             [
              0.2222222222222222,
              "#7201a8"
             ],
             [
              0.3333333333333333,
              "#9c179e"
             ],
             [
              0.4444444444444444,
              "#bd3786"
             ],
             [
              0.5555555555555556,
              "#d8576b"
             ],
             [
              0.6666666666666666,
              "#ed7953"
             ],
             [
              0.7777777777777778,
              "#fb9f3a"
             ],
             [
              0.8888888888888888,
              "#fdca26"
             ],
             [
              1,
              "#f0f921"
             ]
            ],
            "type": "surface"
           }
          ],
          "table": [
           {
            "cells": {
             "fill": {
              "color": "#EBF0F8"
             },
             "line": {
              "color": "white"
             }
            },
            "header": {
             "fill": {
              "color": "#C8D4E3"
             },
             "line": {
              "color": "white"
             }
            },
            "type": "table"
           }
          ]
         },
         "layout": {
          "annotationdefaults": {
           "arrowcolor": "#2a3f5f",
           "arrowhead": 0,
           "arrowwidth": 1
          },
          "autotypenumbers": "strict",
          "coloraxis": {
           "colorbar": {
            "outlinewidth": 0,
            "ticks": ""
           }
          },
          "colorscale": {
           "diverging": [
            [
             0,
             "#8e0152"
            ],
            [
             0.1,
             "#c51b7d"
            ],
            [
             0.2,
             "#de77ae"
            ],
            [
             0.3,
             "#f1b6da"
            ],
            [
             0.4,
             "#fde0ef"
            ],
            [
             0.5,
             "#f7f7f7"
            ],
            [
             0.6,
             "#e6f5d0"
            ],
            [
             0.7,
             "#b8e186"
            ],
            [
             0.8,
             "#7fbc41"
            ],
            [
             0.9,
             "#4d9221"
            ],
            [
             1,
             "#276419"
            ]
           ],
           "sequential": [
            [
             0,
             "#0d0887"
            ],
            [
             0.1111111111111111,
             "#46039f"
            ],
            [
             0.2222222222222222,
             "#7201a8"
            ],
            [
             0.3333333333333333,
             "#9c179e"
            ],
            [
             0.4444444444444444,
             "#bd3786"
            ],
            [
             0.5555555555555556,
             "#d8576b"
            ],
            [
             0.6666666666666666,
             "#ed7953"
            ],
            [
             0.7777777777777778,
             "#fb9f3a"
            ],
            [
             0.8888888888888888,
             "#fdca26"
            ],
            [
             1,
             "#f0f921"
            ]
           ],
           "sequentialminus": [
            [
             0,
             "#0d0887"
            ],
            [
             0.1111111111111111,
             "#46039f"
            ],
            [
             0.2222222222222222,
             "#7201a8"
            ],
            [
             0.3333333333333333,
             "#9c179e"
            ],
            [
             0.4444444444444444,
             "#bd3786"
            ],
            [
             0.5555555555555556,
             "#d8576b"
            ],
            [
             0.6666666666666666,
             "#ed7953"
            ],
            [
             0.7777777777777778,
             "#fb9f3a"
            ],
            [
             0.8888888888888888,
             "#fdca26"
            ],
            [
             1,
             "#f0f921"
            ]
           ]
          },
          "colorway": [
           "#636efa",
           "#EF553B",
           "#00cc96",
           "#ab63fa",
           "#FFA15A",
           "#19d3f3",
           "#FF6692",
           "#B6E880",
           "#FF97FF",
           "#FECB52"
          ],
          "font": {
           "color": "#2a3f5f"
          },
          "geo": {
           "bgcolor": "white",
           "lakecolor": "white",
           "landcolor": "#E5ECF6",
           "showlakes": true,
           "showland": true,
           "subunitcolor": "white"
          },
          "hoverlabel": {
           "align": "left"
          },
          "hovermode": "closest",
          "mapbox": {
           "style": "light"
          },
          "paper_bgcolor": "white",
          "plot_bgcolor": "#E5ECF6",
          "polar": {
           "angularaxis": {
            "gridcolor": "white",
            "linecolor": "white",
            "ticks": ""
           },
           "bgcolor": "#E5ECF6",
           "radialaxis": {
            "gridcolor": "white",
            "linecolor": "white",
            "ticks": ""
           }
          },
          "scene": {
           "xaxis": {
            "backgroundcolor": "#E5ECF6",
            "gridcolor": "white",
            "gridwidth": 2,
            "linecolor": "white",
            "showbackground": true,
            "ticks": "",
            "zerolinecolor": "white"
           },
           "yaxis": {
            "backgroundcolor": "#E5ECF6",
            "gridcolor": "white",
            "gridwidth": 2,
            "linecolor": "white",
            "showbackground": true,
            "ticks": "",
            "zerolinecolor": "white"
           },
           "zaxis": {
            "backgroundcolor": "#E5ECF6",
            "gridcolor": "white",
            "gridwidth": 2,
            "linecolor": "white",
            "showbackground": true,
            "ticks": "",
            "zerolinecolor": "white"
           }
          },
          "shapedefaults": {
           "line": {
            "color": "#2a3f5f"
           }
          },
          "ternary": {
           "aaxis": {
            "gridcolor": "white",
            "linecolor": "white",
            "ticks": ""
           },
           "baxis": {
            "gridcolor": "white",
            "linecolor": "white",
            "ticks": ""
           },
           "bgcolor": "#E5ECF6",
           "caxis": {
            "gridcolor": "white",
            "linecolor": "white",
            "ticks": ""
           }
          },
          "title": {
           "x": 0.05
          },
          "xaxis": {
           "automargin": true,
           "gridcolor": "white",
           "linecolor": "white",
           "ticks": "",
           "title": {
            "standoff": 15
           },
           "zerolinecolor": "white",
           "zerolinewidth": 2
          },
          "yaxis": {
           "automargin": true,
           "gridcolor": "white",
           "linecolor": "white",
           "ticks": "",
           "title": {
            "standoff": 15
           },
           "zerolinecolor": "white",
           "zerolinewidth": 2
          }
         }
        },
        "title": {
         "font": {
          "color": "#484848"
         }
        },
        "xaxis": {
         "gridcolor": "#E1E5ED",
         "showgrid": true,
         "tickfont": {
          "color": "#505050"
         },
         "title": {
          "font": {
           "color": "#505050"
          },
          "text": ""
         },
         "zerolinecolor": "#E1E5ED"
        },
        "yaxis": {
         "gridcolor": "#E1E5ED",
         "showgrid": true,
         "tickfont": {
          "color": "#505050"
         },
         "title": {
          "font": {
           "color": "#505050"
          },
          "text": ""
         },
         "zerolinecolor": "#E1E5ED"
        }
       }
      },
      "text/html": [
       "<div>                            <div id=\"9a0b7ad9-04e7-4ad9-9d45-576f5a51e837\" class=\"plotly-graph-div\" style=\"height:525px; width:100%;\"></div>            <script type=\"text/javascript\">                require([\"plotly\"], function(Plotly) {                    window.PLOTLYENV=window.PLOTLYENV || {};\n",
       "                    window.PLOTLYENV.BASE_URL='https://plot.ly';                                    if (document.getElementById(\"9a0b7ad9-04e7-4ad9-9d45-576f5a51e837\")) {                    Plotly.newPlot(                        \"9a0b7ad9-04e7-4ad9-9d45-576f5a51e837\",                        [{\"line\":{\"color\":\"rgba(0, 128, 240, 1.0)\",\"dash\":\"solid\",\"shape\":\"linear\",\"width\":1.3},\"mode\":\"lines\",\"name\":\"strategy\",\"text\":\"\",\"x\":[\"2007-07-31\",\"2007-08-31\",\"2007-09-28\",\"2007-10-31\",\"2007-11-30\",\"2007-12-31\",\"2008-01-31\",\"2008-02-29\",\"2008-03-31\",\"2008-04-30\",\"2008-05-30\",\"2008-06-30\",\"2008-07-31\",\"2008-08-29\",\"2008-09-30\",\"2008-10-31\",\"2008-11-28\",\"2008-12-31\",\"2009-01-30\",\"2009-02-27\",\"2009-03-31\",\"2009-04-30\",\"2009-05-29\",\"2009-06-30\",\"2009-07-31\",\"2009-08-31\",\"2009-09-30\",\"2009-10-30\",\"2009-11-30\",\"2009-12-31\",\"2010-01-29\",\"2010-02-26\",\"2010-03-31\",\"2010-04-30\",\"2010-05-28\",\"2010-06-30\",\"2010-07-30\",\"2010-08-31\",\"2010-09-30\",\"2010-10-29\",\"2010-11-30\",\"2010-12-31\",\"2011-01-31\",\"2011-02-28\",\"2011-03-31\",\"2011-04-29\",\"2011-05-31\",\"2011-06-30\",\"2011-07-29\",\"2011-08-31\",\"2011-09-30\",\"2011-10-31\",\"2011-11-30\",\"2011-12-30\",\"2012-01-31\",\"2012-02-29\",\"2012-03-30\",\"2012-04-30\",\"2012-05-31\",\"2012-06-29\",\"2012-07-31\",\"2012-08-31\",\"2012-09-28\",\"2012-10-31\",\"2012-11-30\",\"2012-12-31\",\"2013-01-31\",\"2013-02-28\",\"2013-03-28\",\"2013-04-30\",\"2013-05-31\",\"2013-06-28\",\"2013-07-31\",\"2013-08-30\",\"2013-09-30\",\"2013-10-31\",\"2013-11-29\",\"2013-12-31\",\"2014-01-31\",\"2014-02-28\",\"2014-03-31\",\"2014-04-30\",\"2014-05-30\",\"2014-06-30\",\"2014-07-31\",\"2014-08-29\",\"2014-09-30\",\"2014-10-31\",\"2014-11-28\",\"2014-12-31\",\"2015-01-30\",\"2015-02-27\",\"2015-03-31\",\"2015-04-30\",\"2015-05-29\",\"2015-06-30\",\"2015-07-31\",\"2015-08-31\",\"2015-09-30\",\"2015-10-30\",\"2015-11-30\",\"2015-12-31\",\"2016-01-29\",\"2016-02-29\",\"2016-03-31\",\"2016-04-29\",\"2016-05-31\",\"2016-06-30\",\"2016-07-29\",\"2016-08-31\",\"2016-09-30\",\"2016-10-31\",\"2016-11-30\",\"2016-12-30\",\"2017-01-31\",\"2017-02-28\",\"2017-03-31\",\"2017-04-28\",\"2017-05-31\",\"2017-06-30\",\"2017-07-31\",\"2017-08-31\",\"2017-09-29\",\"2017-10-31\",\"2017-11-30\",\"2017-12-29\",\"2018-01-31\",\"2018-02-28\",\"2018-03-29\",\"2018-04-30\",\"2018-05-31\",\"2018-06-29\",\"2018-07-31\",\"2018-08-31\",\"2018-09-28\",\"2018-10-31\",\"2018-11-30\",\"2018-12-31\",\"2019-01-31\",\"2019-02-28\",\"2019-03-29\",\"2019-04-30\",\"2019-05-31\",\"2019-06-28\",\"2019-07-31\",\"2019-08-30\",\"2019-09-30\",\"2019-10-31\",\"2019-11-29\",\"2019-12-31\",\"2020-01-31\",\"2020-02-28\",\"2020-03-31\",\"2020-04-30\",\"2020-05-29\",\"2020-06-30\",\"2020-07-31\",\"2020-08-31\",\"2020-09-30\",\"2020-10-30\",\"2020-11-30\",\"2020-12-31\",\"2021-01-29\",\"2021-02-26\",\"2021-03-31\",\"2021-04-30\",\"2021-05-28\",\"2021-06-30\",\"2021-07-30\",\"2021-08-31\",\"2021-09-30\",\"2021-10-29\",\"2021-11-30\",\"2021-12-31\",\"2022-01-31\",\"2022-02-28\",\"2022-03-31\",\"2022-04-29\",\"2022-05-31\",\"2022-06-30\",\"2022-07-05\"],\"y\":[0.9945855686667331,1.0134036302092129,1.0415506966194503,1.0783529273336243,1.0739382868062248,1.0742126077468084,1.0420268418638463,1.0286049194682463,1.03629800044828,1.047650058008188,1.0486142759100077,1.017589609512579,1.01174825915246,1.016609379975863,0.9586483268574688,0.8598295555903643,0.867825326255117,0.9502729687869045,0.8864432066514747,0.8539914410423048,0.9216119647747142,0.9445867501620389,0.9684372821231708,0.9683020270068383,1.0094409776221986,1.0184524960698995,1.0684425823284263,1.0610370610146531,1.1054279962874487,1.0903697596330901,1.059933289519798,1.0741572768741683,1.0959049290056642,1.1169692881548332,1.0927121994426807,1.0964672825693877,1.1367958711010855,1.141198748026016,1.191994557100674,1.2105738526593708,1.2007400591059745,1.211319200500891,1.2025074381610181,1.2162420623328911,1.2281091195453395,1.2596781994319317,1.2672468816413212,1.2526368621543567,1.2780783907914683,1.2912289526171197,1.2731346834097625,1.3368623731686977,1.335220502261154,1.335501545175898,1.3878374506394886,1.4086849222573596,1.4056424632837068,1.4106401691928794,1.3917409636127878,1.4183618658784647,1.435612491374971,1.4646559252894997,1.4759037640648636,1.4420296593984832,1.4517724058368964,1.4491399275325183,1.4373877803610375,1.4378093442182471,1.4483004450059285,1.4786021785970962,1.4510325615858768,1.3957236009744047,1.4197432405570227,1.408013342556695,1.4468661911478102,1.4815051697658121,1.4871485406160876,1.4957744875751902,1.5105570392575196,1.5628831881849705,1.5572433192304589,1.5631506759484526,1.5986190242360843,1.6291240504583573,1.629363309601466,1.6827212779252294,1.6546448682203985,1.6879437459984044,1.725589888248072,1.72631389697204,1.7716509989026175,1.7769057662746914,1.7705139048915177,1.7718128822628334,1.7662980950523306,1.7269794428863998,1.7588882688970653,1.701290511958315,1.7151717623713552,1.7831877523366835,1.7623253772759937,1.7262703914945245,1.7259423949167365,1.747926824537001,1.7966889730968698,1.7805893086363695,1.795561108702991,1.8421215328107696,1.8909871609517626,1.8903014332662273,1.8988351199941316,1.8629751085120687,1.806424067398599,1.827582142820151,1.8671670683645218,1.911882585854615,1.9249395720417684,1.9495728124776188,1.9865469135765095,1.969969910423829,2.0188805315172313,2.057516509752891,2.040604926768102,2.0756322195127814,2.0901370484926356,2.1120329070659554,2.1582715671776747,2.12610819660657,2.124433227893551,2.1278274117955194,2.170997309247412,2.1591239864495577,2.178163298456647,2.2240882198486904,2.212787717465036,2.1183924130721454,2.1236037840866064,2.076580471844896,2.164743693783513,2.1880858685388294,2.262188024843573,2.2924944641585765,2.2694335675309705,2.3715319015596017,2.376898134357233,2.431373262669441,2.4236397301408448,2.4727852725314605,2.487839761938135,2.5406778071435725,2.586082085020004,2.5599562160894442,2.4533847691272737,2.6606130838628483,2.759052697382356,2.830860338711778,2.965854117388463,3.028551536193498,2.934991590536132,2.855312619388669,2.985307990399901,3.0470004793094385,3.0301791681620074,2.9410100419181457,2.881619672296667,2.941190060493949,2.9551306355787363,3.0371767210363667,3.093077431845693,3.1262490523827062,3.012067953283899,3.0973568081857388,3.1230264647932953,3.1516336923243045,3.0353852415212677,2.9725741978947355,2.953042109008868,2.709136024925614,2.6911028348741897,2.58968006712113,2.6016964970202032],\"type\":\"scatter\"},{\"line\":{\"color\":\"rgba(238, 118, 0, 1.0)\",\"dash\":\"solid\",\"shape\":\"linear\",\"width\":1.3},\"mode\":\"lines\",\"name\":\"SPY\",\"text\":\"\",\"x\":[\"2007-07-31\",\"2007-08-31\",\"2007-09-28\",\"2007-10-31\",\"2007-11-30\",\"2007-12-31\",\"2008-01-31\",\"2008-02-29\",\"2008-03-31\",\"2008-04-30\",\"2008-05-30\",\"2008-06-30\",\"2008-07-31\",\"2008-08-29\",\"2008-09-30\",\"2008-10-31\",\"2008-11-28\",\"2008-12-31\",\"2009-01-30\",\"2009-02-27\",\"2009-03-31\",\"2009-04-30\",\"2009-05-29\",\"2009-06-30\",\"2009-07-31\",\"2009-08-31\",\"2009-09-30\",\"2009-10-30\",\"2009-11-30\",\"2009-12-31\",\"2010-01-29\",\"2010-02-26\",\"2010-03-31\",\"2010-04-30\",\"2010-05-28\",\"2010-06-30\",\"2010-07-30\",\"2010-08-31\",\"2010-09-30\",\"2010-10-29\",\"2010-11-30\",\"2010-12-31\",\"2011-01-31\",\"2011-02-28\",\"2011-03-31\",\"2011-04-29\",\"2011-05-31\",\"2011-06-30\",\"2011-07-29\",\"2011-08-31\",\"2011-09-30\",\"2011-10-31\",\"2011-11-30\",\"2011-12-30\",\"2012-01-31\",\"2012-02-29\",\"2012-03-30\",\"2012-04-30\",\"2012-05-31\",\"2012-06-29\",\"2012-07-31\",\"2012-08-31\",\"2012-09-28\",\"2012-10-31\",\"2012-11-30\",\"2012-12-31\",\"2013-01-31\",\"2013-02-28\",\"2013-03-28\",\"2013-04-30\",\"2013-05-31\",\"2013-06-28\",\"2013-07-31\",\"2013-08-30\",\"2013-09-30\",\"2013-10-31\",\"2013-11-29\",\"2013-12-31\",\"2014-01-31\",\"2014-02-28\",\"2014-03-31\",\"2014-04-30\",\"2014-05-30\",\"2014-06-30\",\"2014-07-31\",\"2014-08-29\",\"2014-09-30\",\"2014-10-31\",\"2014-11-28\",\"2014-12-31\",\"2015-01-30\",\"2015-02-27\",\"2015-03-31\",\"2015-04-30\",\"2015-05-29\",\"2015-06-30\",\"2015-07-31\",\"2015-08-31\",\"2015-09-30\",\"2015-10-30\",\"2015-11-30\",\"2015-12-31\",\"2016-01-29\",\"2016-02-29\",\"2016-03-31\",\"2016-04-29\",\"2016-05-31\",\"2016-06-30\",\"2016-07-29\",\"2016-08-31\",\"2016-09-30\",\"2016-10-31\",\"2016-11-30\",\"2016-12-30\",\"2017-01-31\",\"2017-02-28\",\"2017-03-31\",\"2017-04-28\",\"2017-05-31\",\"2017-06-30\",\"2017-07-31\",\"2017-08-31\",\"2017-09-29\",\"2017-10-31\",\"2017-11-30\",\"2017-12-29\",\"2018-01-31\",\"2018-02-28\",\"2018-03-29\",\"2018-04-30\",\"2018-05-31\",\"2018-06-29\",\"2018-07-31\",\"2018-08-31\",\"2018-09-28\",\"2018-10-31\",\"2018-11-30\",\"2018-12-31\",\"2019-01-31\",\"2019-02-28\",\"2019-03-29\",\"2019-04-30\",\"2019-05-31\",\"2019-06-28\",\"2019-07-31\",\"2019-08-30\",\"2019-09-30\",\"2019-10-31\",\"2019-11-29\",\"2019-12-31\",\"2020-01-31\",\"2020-02-28\",\"2020-03-31\",\"2020-04-30\",\"2020-05-29\",\"2020-06-30\",\"2020-07-31\",\"2020-08-31\",\"2020-09-30\",\"2020-10-30\",\"2020-11-30\",\"2020-12-31\",\"2021-01-29\",\"2021-02-26\",\"2021-03-31\",\"2021-04-30\",\"2021-05-28\",\"2021-06-30\",\"2021-07-30\",\"2021-08-31\",\"2021-09-30\",\"2021-10-29\",\"2021-11-30\",\"2021-12-31\",\"2022-01-31\",\"2022-02-28\",\"2022-03-31\",\"2022-04-29\",\"2022-05-31\",\"2022-06-30\",\"2022-07-05\"],\"y\":[0.9844613147939172,0.9970948152394643,1.035696357821207,1.0497474609426558,1.009087692305667,0.9977249763507706,0.9374012710062076,0.9131764090128767,0.9050106434523489,0.9481456045621586,0.9624781496224888,0.8820380664426078,0.8741124480411551,0.887620760382398,0.8040303566517888,0.6712153975208027,0.6244941649298262,0.6306120974166027,0.5788296906972492,0.5166348676076195,0.5596762572407036,0.6152779460863392,0.651242858549374,0.6508166077349973,0.6993711622616707,0.7252057585154721,0.750919380464673,0.736482905589394,0.7818550598957916,0.7967890814385022,0.7678321563974656,0.7917843065563708,0.8399879940277771,0.8529827545100863,0.7852091521703629,0.744581809635638,0.7954375088383647,0.7596580764517419,0.8276891475863651,0.8593083387671305,0.8593083387671305,0.9167552668339105,0.9381156152676224,0.970703293750624,0.9708200415760831,0.9989365208469005,0.9877340646666551,0.9710710667224562,0.9516450600045715,0.8993278997440347,0.8368957356003336,0.9282406892569898,0.9244683834070646,0.9341276204084068,0.9774472301561088,1.019873944220314,1.052677034566433,1.0456494390526812,0.9828523426854231,1.0227373491952403,1.0348360268130607,1.0607613191520409,1.087653020196958,1.067859171220698,1.0739027592465145,1.0834979754818481,1.1389624769717512,1.15349408227098,1.1972933627579425,1.2202964951332786,1.2491075027141272,1.2324382689810311,1.29612687530092,1.2572536601829012,1.2970409033801231,1.3571030520237317,1.3973240289820068,1.4335517453037754,1.3830217621410983,1.4459708038978114,1.4579656902737699,1.4681013415468374,1.5021703663255759,1.5331826073870403,1.5125799765908485,1.572271857947066,1.550580319836384,1.5870977924822298,1.630698289876467,1.6265621603876776,1.578368380891963,1.6670799608974465,1.6408972690501098,1.6570339664114082,1.6783370841603549,1.6442464419801068,1.681388740673425,1.5789075687719174,1.5386203538782484,1.6694950126506836,1.6755966627997847,1.646638767747142,1.564658098277003,1.5633656270982996,1.6685270796407936,1.6751030654653212,1.7035990964203316,1.7095211558492012,1.771868928983164,1.7739911758044185,1.774093858461588,1.7433363147332914,1.8075580117173244,1.8442008930065419,1.8772020735799533,1.950959954664429,1.9533987024154744,1.9727885415577568,2.000630368970936,2.013384220142194,2.054767963870116,2.0607629127425366,2.1022859224224906,2.1518242765774693,2.2175968835467117,2.2444921182053372,2.3709896688913883,2.284779333099006,2.2221521966224613,2.2336368568935643,2.287934919427025,2.3010922954264577,2.3863399639862406,2.4625110953738276,2.477151896265296,2.3059704837939816,2.3487445312997455,2.141940828322011,2.3134365245537305,2.3884290918397983,2.4316608462505966,2.531000011986572,2.369595346494035,2.534486510845388,2.5728066807747925,2.5297290196362914,2.5789529514577785,2.6359594249688056,2.731376418061699,2.8107380561951283,2.809602865469714,2.5871783727320867,2.2641142058407584,2.5516196872724155,2.6731917961684126,2.720599589116941,2.880821671888447,3.081893437712125,2.966496145554953,2.8925308205598395,3.207171268089937,3.325991592632263,3.2920985556735043,3.3836371652186816,3.5372518060750027,3.724409171127161,3.748863995157702,3.8329409982819014,3.9265130292998243,4.04336533886628,3.854922292716661,4.125397557524633,4.0922508752102935,4.281507899670591,4.0556958492579795,3.935983945476479,4.083938984329947,3.725495584126093,3.733905030459404,3.426005609299972,3.4687795182326497],\"type\":\"scatter\"},{\"line\":{\"color\":\"rgba(48, 144, 84, 1.0)\",\"dash\":\"solid\",\"shape\":\"linear\",\"width\":1.3},\"mode\":\"lines\",\"name\":\"QQQ\",\"text\":\"\",\"x\":[\"2007-07-31\",\"2007-08-31\",\"2007-09-28\",\"2007-10-31\",\"2007-11-30\",\"2007-12-31\",\"2008-01-31\",\"2008-02-29\",\"2008-03-31\",\"2008-04-30\",\"2008-05-30\",\"2008-06-30\",\"2008-07-31\",\"2008-08-29\",\"2008-09-30\",\"2008-10-31\",\"2008-11-28\",\"2008-12-31\",\"2009-01-30\",\"2009-02-27\",\"2009-03-31\",\"2009-04-30\",\"2009-05-29\",\"2009-06-30\",\"2009-07-31\",\"2009-08-31\",\"2009-09-30\",\"2009-10-30\",\"2009-11-30\",\"2009-12-31\",\"2010-01-29\",\"2010-02-26\",\"2010-03-31\",\"2010-04-30\",\"2010-05-28\",\"2010-06-30\",\"2010-07-30\",\"2010-08-31\",\"2010-09-30\",\"2010-10-29\",\"2010-11-30\",\"2010-12-31\",\"2011-01-31\",\"2011-02-28\",\"2011-03-31\",\"2011-04-29\",\"2011-05-31\",\"2011-06-30\",\"2011-07-29\",\"2011-08-31\",\"2011-09-30\",\"2011-10-31\",\"2011-11-30\",\"2011-12-30\",\"2012-01-31\",\"2012-02-29\",\"2012-03-30\",\"2012-04-30\",\"2012-05-31\",\"2012-06-29\",\"2012-07-31\",\"2012-08-31\",\"2012-09-28\",\"2012-10-31\",\"2012-11-30\",\"2012-12-31\",\"2013-01-31\",\"2013-02-28\",\"2013-03-28\",\"2013-04-30\",\"2013-05-31\",\"2013-06-28\",\"2013-07-31\",\"2013-08-30\",\"2013-09-30\",\"2013-10-31\",\"2013-11-29\",\"2013-12-31\",\"2014-01-31\",\"2014-02-28\",\"2014-03-31\",\"2014-04-30\",\"2014-05-30\",\"2014-06-30\",\"2014-07-31\",\"2014-08-29\",\"2014-09-30\",\"2014-10-31\",\"2014-11-28\",\"2014-12-31\",\"2015-01-30\",\"2015-02-27\",\"2015-03-31\",\"2015-04-30\",\"2015-05-29\",\"2015-06-30\",\"2015-07-31\",\"2015-08-31\",\"2015-09-30\",\"2015-10-30\",\"2015-11-30\",\"2015-12-31\",\"2016-01-29\",\"2016-02-29\",\"2016-03-31\",\"2016-04-29\",\"2016-05-31\",\"2016-06-30\",\"2016-07-29\",\"2016-08-31\",\"2016-09-30\",\"2016-10-31\",\"2016-11-30\",\"2016-12-30\",\"2017-01-31\",\"2017-02-28\",\"2017-03-31\",\"2017-04-28\",\"2017-05-31\",\"2017-06-30\",\"2017-07-31\",\"2017-08-31\",\"2017-09-29\",\"2017-10-31\",\"2017-11-30\",\"2017-12-29\",\"2018-01-31\",\"2018-02-28\",\"2018-03-29\",\"2018-04-30\",\"2018-05-31\",\"2018-06-29\",\"2018-07-31\",\"2018-08-31\",\"2018-09-28\",\"2018-10-31\",\"2018-11-30\",\"2018-12-31\",\"2019-01-31\",\"2019-02-28\",\"2019-03-29\",\"2019-04-30\",\"2019-05-31\",\"2019-06-28\",\"2019-07-31\",\"2019-08-30\",\"2019-09-30\",\"2019-10-31\",\"2019-11-29\",\"2019-12-31\",\"2020-01-31\",\"2020-02-28\",\"2020-03-31\",\"2020-04-30\",\"2020-05-29\",\"2020-06-30\",\"2020-07-31\",\"2020-08-31\",\"2020-09-30\",\"2020-10-30\",\"2020-11-30\",\"2020-12-31\",\"2021-01-29\",\"2021-02-26\",\"2021-03-31\",\"2021-04-30\",\"2021-05-28\",\"2021-06-30\",\"2021-07-30\",\"2021-08-31\",\"2021-09-30\",\"2021-10-29\",\"2021-11-30\",\"2021-12-31\",\"2022-01-31\",\"2022-02-28\",\"2022-03-31\",\"2022-04-29\",\"2022-05-31\",\"2022-06-30\",\"2022-07-05\"],\"y\":[0.9703964363480099,0.9977542435767653,1.0501581802515023,1.1241039590472415,1.048115326937603,1.0473672435523993,0.9228365677477091,0.8782590204387226,0.8947032099006085,0.9661237753268933,1.0234237906110795,0.9250212760301874,0.9309601348552543,0.9444761400563079,0.7973619051627323,0.6739972134048958,0.5967406583718576,0.6103308694043819,0.5963756099830102,0.5649765753233491,0.6232625756733349,0.7046651323411165,0.7272766902870105,0.7487527882564288,0.8119379683550894,0.823874962066422,0.8704074675432554,0.8438317676272076,0.8973948215405131,0.9440848648900092,0.8830029660181594,0.9236551798993016,0.9948775382270787,1.0171879312521737,0.9419938996161232,0.8857031722439179,0.949989699787572,0.9012563601042869,1.0199776274955865,1.0846222923178137,1.0827516851369041,1.1342593039714517,1.166333323734569,1.2031974517495962,1.197804216220287,1.2322179126231871,1.2172009560369212,1.1925469877970172,1.212405265734405,1.1509486606401194,1.0992617073543516,1.2136066470704203,1.180936588348134,1.1736833781152605,1.2724891293994645,1.3540560021442163,1.4224772343154346,1.4058414830533816,1.3068683588549708,1.3541956420133483,1.3677037614603709,1.4386213221042559,1.4514024459128092,1.37477905490567,1.3927711558610423,1.3862670922611071,1.42330240316139,1.4281981273549276,1.4713979714119265,1.5087313460937828,1.5627072945439886,1.5252756580506681,1.621581625307068,1.6151617354861147,1.6932092582296483,1.7771400851041208,1.8402487999698747,1.8941148794875147,1.8577227448626306,1.9534405589138923,1.9000417767755684,1.8939731131229136,1.9789297968532298,2.040748615009071,2.0648696303220535,2.168308749421305,2.15190248246195,2.208754870449909,2.3091729483195147,2.2574330098549775,2.2104259414726424,2.370031653771096,2.3141227209395567,2.358608474527464,2.411640436197383,2.3517326286363627,2.4589193415838406,2.291110673013665,2.2405395982252623,2.4952870215108307,2.5104785279335116,2.470442643322472,2.299724220118862,2.263725487155746,2.4188494330452968,2.341765389957182,2.444101566739839,2.3884244219144217,2.5592158547958013,2.586089618493422,2.6433341676874584,2.60481553759356,2.6161706689821838,2.6457916876178156,2.7817879839715403,2.903492458693933,2.9623425119670745,3.043126657171274,3.1617273345486847,3.088440149120495,3.2138707755284672,3.2805137258637225,3.2708289566660094,3.4214957680525067,3.4889581279751556,3.5100005094728726,3.8173733793778672,3.7680227357807228,3.6143316934213763,3.632614592632136,3.838690078791087,3.882644385719697,3.9912186369607063,4.221937370278239,4.2100481341109806,3.8481639705214565,3.8379663614997996,3.505570664995005,3.8214495167760556,3.9357564453856155,4.090219051184303,4.315151235914737,3.9602217757566227,4.260804745629055,4.360286102244561,4.277460521390108,4.316723424898161,4.505797934198256,4.689157841341287,4.871395313292591,5.0194093215814926,4.715362290590036,4.371808872359325,5.026432781699734,5.358221363748125,5.695075258003708,6.11346607685952,6.782567167352978,6.390628534468055,6.196039313584984,6.8915925900493304,7.2294494813344645,7.248343393576655,7.238666421528994,7.362938107906355,7.798073660917007,7.70440224433876,8.186861536348674,8.42108225328776,8.776340256995837,8.27756720057947,8.928514399253954,9.106804032367034,9.21174445726741,8.405991932607815,8.029742583293277,8.40456150998899,7.261899093359796,7.146682024689499,6.510063861317054,6.665220059054551],\"type\":\"scatter\"}],                        {\"legend\":{\"bgcolor\":\"#F2F3F7\",\"font\":{\"color\":\"#505050\"}},\"paper_bgcolor\":\"#F2F3F7\",\"plot_bgcolor\":\"#F2F3F7\",\"template\":{\"data\":{\"barpolar\":[{\"marker\":{\"line\":{\"color\":\"#E5ECF6\",\"width\":0.5},\"pattern\":{\"fillmode\":\"overlay\",\"size\":10,\"solidity\":0.2}},\"type\":\"barpolar\"}],\"bar\":[{\"error_x\":{\"color\":\"#2a3f5f\"},\"error_y\":{\"color\":\"#2a3f5f\"},\"marker\":{\"line\":{\"color\":\"#E5ECF6\",\"width\":0.5},\"pattern\":{\"fillmode\":\"overlay\",\"size\":10,\"solidity\":0.2}},\"type\":\"bar\"}],\"carpet\":[{\"aaxis\":{\"endlinecolor\":\"#2a3f5f\",\"gridcolor\":\"white\",\"linecolor\":\"white\",\"minorgridcolor\":\"white\",\"startlinecolor\":\"#2a3f5f\"},\"baxis\":{\"endlinecolor\":\"#2a3f5f\",\"gridcolor\":\"white\",\"linecolor\":\"white\",\"minorgridcolor\":\"white\",\"startlinecolor\":\"#2a3f5f\"},\"type\":\"carpet\"}],\"choropleth\":[{\"colorbar\":{\"outlinewidth\":0,\"ticks\":\"\"},\"type\":\"choropleth\"}],\"contourcarpet\":[{\"colorbar\":{\"outlinewidth\":0,\"ticks\":\"\"},\"type\":\"contourcarpet\"}],\"contour\":[{\"colorbar\":{\"outlinewidth\":0,\"ticks\":\"\"},\"colorscale\":[[0.0,\"#0d0887\"],[0.1111111111111111,\"#46039f\"],[0.2222222222222222,\"#7201a8\"],[0.3333333333333333,\"#9c179e\"],[0.4444444444444444,\"#bd3786\"],[0.5555555555555556,\"#d8576b\"],[0.6666666666666666,\"#ed7953\"],[0.7777777777777778,\"#fb9f3a\"],[0.8888888888888888,\"#fdca26\"],[1.0,\"#f0f921\"]],\"type\":\"contour\"}],\"heatmapgl\":[{\"colorbar\":{\"outlinewidth\":0,\"ticks\":\"\"},\"colorscale\":[[0.0,\"#0d0887\"],[0.1111111111111111,\"#46039f\"],[0.2222222222222222,\"#7201a8\"],[0.3333333333333333,\"#9c179e\"],[0.4444444444444444,\"#bd3786\"],[0.5555555555555556,\"#d8576b\"],[0.6666666666666666,\"#ed7953\"],[0.7777777777777778,\"#fb9f3a\"],[0.8888888888888888,\"#fdca26\"],[1.0,\"#f0f921\"]],\"type\":\"heatmapgl\"}],\"heatmap\":[{\"colorbar\":{\"outlinewidth\":0,\"ticks\":\"\"},\"colorscale\":[[0.0,\"#0d0887\"],[0.1111111111111111,\"#46039f\"],[0.2222222222222222,\"#7201a8\"],[0.3333333333333333,\"#9c179e\"],[0.4444444444444444,\"#bd3786\"],[0.5555555555555556,\"#d8576b\"],[0.6666666666666666,\"#ed7953\"],[0.7777777777777778,\"#fb9f3a\"],[0.8888888888888888,\"#fdca26\"],[1.0,\"#f0f921\"]],\"type\":\"heatmap\"}],\"histogram2dcontour\":[{\"colorbar\":{\"outlinewidth\":0,\"ticks\":\"\"},\"colorscale\":[[0.0,\"#0d0887\"],[0.1111111111111111,\"#46039f\"],[0.2222222222222222,\"#7201a8\"],[0.3333333333333333,\"#9c179e\"],[0.4444444444444444,\"#bd3786\"],[0.5555555555555556,\"#d8576b\"],[0.6666666666666666,\"#ed7953\"],[0.7777777777777778,\"#fb9f3a\"],[0.8888888888888888,\"#fdca26\"],[1.0,\"#f0f921\"]],\"type\":\"histogram2dcontour\"}],\"histogram2d\":[{\"colorbar\":{\"outlinewidth\":0,\"ticks\":\"\"},\"colorscale\":[[0.0,\"#0d0887\"],[0.1111111111111111,\"#46039f\"],[0.2222222222222222,\"#7201a8\"],[0.3333333333333333,\"#9c179e\"],[0.4444444444444444,\"#bd3786\"],[0.5555555555555556,\"#d8576b\"],[0.6666666666666666,\"#ed7953\"],[0.7777777777777778,\"#fb9f3a\"],[0.8888888888888888,\"#fdca26\"],[1.0,\"#f0f921\"]],\"type\":\"histogram2d\"}],\"histogram\":[{\"marker\":{\"pattern\":{\"fillmode\":\"overlay\",\"size\":10,\"solidity\":0.2}},\"type\":\"histogram\"}],\"mesh3d\":[{\"colorbar\":{\"outlinewidth\":0,\"ticks\":\"\"},\"type\":\"mesh3d\"}],\"parcoords\":[{\"line\":{\"colorbar\":{\"outlinewidth\":0,\"ticks\":\"\"}},\"type\":\"parcoords\"}],\"pie\":[{\"automargin\":true,\"type\":\"pie\"}],\"scatter3d\":[{\"line\":{\"colorbar\":{\"outlinewidth\":0,\"ticks\":\"\"}},\"marker\":{\"colorbar\":{\"outlinewidth\":0,\"ticks\":\"\"}},\"type\":\"scatter3d\"}],\"scattercarpet\":[{\"marker\":{\"colorbar\":{\"outlinewidth\":0,\"ticks\":\"\"}},\"type\":\"scattercarpet\"}],\"scattergeo\":[{\"marker\":{\"colorbar\":{\"outlinewidth\":0,\"ticks\":\"\"}},\"type\":\"scattergeo\"}],\"scattergl\":[{\"marker\":{\"colorbar\":{\"outlinewidth\":0,\"ticks\":\"\"}},\"type\":\"scattergl\"}],\"scattermapbox\":[{\"marker\":{\"colorbar\":{\"outlinewidth\":0,\"ticks\":\"\"}},\"type\":\"scattermapbox\"}],\"scatterpolargl\":[{\"marker\":{\"colorbar\":{\"outlinewidth\":0,\"ticks\":\"\"}},\"type\":\"scatterpolargl\"}],\"scatterpolar\":[{\"marker\":{\"colorbar\":{\"outlinewidth\":0,\"ticks\":\"\"}},\"type\":\"scatterpolar\"}],\"scatter\":[{\"fillpattern\":{\"fillmode\":\"overlay\",\"size\":10,\"solidity\":0.2},\"type\":\"scatter\"}],\"scatterternary\":[{\"marker\":{\"colorbar\":{\"outlinewidth\":0,\"ticks\":\"\"}},\"type\":\"scatterternary\"}],\"surface\":[{\"colorbar\":{\"outlinewidth\":0,\"ticks\":\"\"},\"colorscale\":[[0.0,\"#0d0887\"],[0.1111111111111111,\"#46039f\"],[0.2222222222222222,\"#7201a8\"],[0.3333333333333333,\"#9c179e\"],[0.4444444444444444,\"#bd3786\"],[0.5555555555555556,\"#d8576b\"],[0.6666666666666666,\"#ed7953\"],[0.7777777777777778,\"#fb9f3a\"],[0.8888888888888888,\"#fdca26\"],[1.0,\"#f0f921\"]],\"type\":\"surface\"}],\"table\":[{\"cells\":{\"fill\":{\"color\":\"#EBF0F8\"},\"line\":{\"color\":\"white\"}},\"header\":{\"fill\":{\"color\":\"#C8D4E3\"},\"line\":{\"color\":\"white\"}},\"type\":\"table\"}]},\"layout\":{\"annotationdefaults\":{\"arrowcolor\":\"#2a3f5f\",\"arrowhead\":0,\"arrowwidth\":1},\"autotypenumbers\":\"strict\",\"coloraxis\":{\"colorbar\":{\"outlinewidth\":0,\"ticks\":\"\"}},\"colorscale\":{\"diverging\":[[0,\"#8e0152\"],[0.1,\"#c51b7d\"],[0.2,\"#de77ae\"],[0.3,\"#f1b6da\"],[0.4,\"#fde0ef\"],[0.5,\"#f7f7f7\"],[0.6,\"#e6f5d0\"],[0.7,\"#b8e186\"],[0.8,\"#7fbc41\"],[0.9,\"#4d9221\"],[1,\"#276419\"]],\"sequential\":[[0.0,\"#0d0887\"],[0.1111111111111111,\"#46039f\"],[0.2222222222222222,\"#7201a8\"],[0.3333333333333333,\"#9c179e\"],[0.4444444444444444,\"#bd3786\"],[0.5555555555555556,\"#d8576b\"],[0.6666666666666666,\"#ed7953\"],[0.7777777777777778,\"#fb9f3a\"],[0.8888888888888888,\"#fdca26\"],[1.0,\"#f0f921\"]],\"sequentialminus\":[[0.0,\"#0d0887\"],[0.1111111111111111,\"#46039f\"],[0.2222222222222222,\"#7201a8\"],[0.3333333333333333,\"#9c179e\"],[0.4444444444444444,\"#bd3786\"],[0.5555555555555556,\"#d8576b\"],[0.6666666666666666,\"#ed7953\"],[0.7777777777777778,\"#fb9f3a\"],[0.8888888888888888,\"#fdca26\"],[1.0,\"#f0f921\"]]},\"colorway\":[\"#636efa\",\"#EF553B\",\"#00cc96\",\"#ab63fa\",\"#FFA15A\",\"#19d3f3\",\"#FF6692\",\"#B6E880\",\"#FF97FF\",\"#FECB52\"],\"font\":{\"color\":\"#2a3f5f\"},\"geo\":{\"bgcolor\":\"white\",\"lakecolor\":\"white\",\"landcolor\":\"#E5ECF6\",\"showlakes\":true,\"showland\":true,\"subunitcolor\":\"white\"},\"hoverlabel\":{\"align\":\"left\"},\"hovermode\":\"closest\",\"mapbox\":{\"style\":\"light\"},\"paper_bgcolor\":\"white\",\"plot_bgcolor\":\"#E5ECF6\",\"polar\":{\"angularaxis\":{\"gridcolor\":\"white\",\"linecolor\":\"white\",\"ticks\":\"\"},\"bgcolor\":\"#E5ECF6\",\"radialaxis\":{\"gridcolor\":\"white\",\"linecolor\":\"white\",\"ticks\":\"\"}},\"scene\":{\"xaxis\":{\"backgroundcolor\":\"#E5ECF6\",\"gridcolor\":\"white\",\"gridwidth\":2,\"linecolor\":\"white\",\"showbackground\":true,\"ticks\":\"\",\"zerolinecolor\":\"white\"},\"yaxis\":{\"backgroundcolor\":\"#E5ECF6\",\"gridcolor\":\"white\",\"gridwidth\":2,\"linecolor\":\"white\",\"showbackground\":true,\"ticks\":\"\",\"zerolinecolor\":\"white\"},\"zaxis\":{\"backgroundcolor\":\"#E5ECF6\",\"gridcolor\":\"white\",\"gridwidth\":2,\"linecolor\":\"white\",\"showbackground\":true,\"ticks\":\"\",\"zerolinecolor\":\"white\"}},\"shapedefaults\":{\"line\":{\"color\":\"#2a3f5f\"}},\"ternary\":{\"aaxis\":{\"gridcolor\":\"white\",\"linecolor\":\"white\",\"ticks\":\"\"},\"baxis\":{\"gridcolor\":\"white\",\"linecolor\":\"white\",\"ticks\":\"\"},\"bgcolor\":\"#E5ECF6\",\"caxis\":{\"gridcolor\":\"white\",\"linecolor\":\"white\",\"ticks\":\"\"}},\"title\":{\"x\":0.05},\"xaxis\":{\"automargin\":true,\"gridcolor\":\"white\",\"linecolor\":\"white\",\"ticks\":\"\",\"title\":{\"standoff\":15},\"zerolinecolor\":\"white\",\"zerolinewidth\":2},\"yaxis\":{\"automargin\":true,\"gridcolor\":\"white\",\"linecolor\":\"white\",\"ticks\":\"\",\"title\":{\"standoff\":15},\"zerolinecolor\":\"white\",\"zerolinewidth\":2}}},\"title\":{\"font\":{\"color\":\"#484848\"}},\"xaxis\":{\"gridcolor\":\"#E1E5ED\",\"showgrid\":true,\"tickfont\":{\"color\":\"#505050\"},\"title\":{\"font\":{\"color\":\"#505050\"},\"text\":\"\"},\"zerolinecolor\":\"#E1E5ED\"},\"yaxis\":{\"gridcolor\":\"#E1E5ED\",\"showgrid\":true,\"tickfont\":{\"color\":\"#505050\"},\"title\":{\"font\":{\"color\":\"#505050\"},\"text\":\"\"},\"zerolinecolor\":\"#E1E5ED\"}},                        {\"showLink\": true, \"linkText\": \"Export to plot.ly\", \"plotlyServerURL\": \"https://plot.ly\", \"responsive\": true}                    ).then(function(){\n",
       "                            \n",
       "var gd = document.getElementById('9a0b7ad9-04e7-4ad9-9d45-576f5a51e837');\n",
       "var x = new MutationObserver(function (mutations, observer) {{\n",
       "        var display = window.getComputedStyle(gd).display;\n",
       "        if (!display || display === 'none') {{\n",
       "            console.log([gd, 'removed!']);\n",
       "            Plotly.purge(gd);\n",
       "            observer.disconnect();\n",
       "        }}\n",
       "}});\n",
       "\n",
       "// Listen for the removal of the full notebook cells\n",
       "var notebookContainer = gd.closest('#notebook-container');\n",
       "if (notebookContainer) {{\n",
       "    x.observe(notebookContainer, {childList: true});\n",
       "}}\n",
       "\n",
       "// Listen for the clearing of the current output cell\n",
       "var outputEl = gd.closest('.output');\n",
       "if (outputEl) {{\n",
       "    x.observe(outputEl, {childList: true});\n",
       "}}\n",
       "\n",
       "                        })                };                });            </script>        </div>"
      ]
     },
     "metadata": {},
     "output_type": "display_data"
    }
   ],
   "source": [
    "result_df[['strategy', 'SPY', 'QQQ']].iplot()"
   ]
  },
  {
   "cell_type": "code",
   "execution_count": null,
   "metadata": {},
   "outputs": [],
   "source": []
  }
 ],
 "metadata": {
  "hide_input": false,
  "kernelspec": {
   "display_name": "Python 3 (ipykernel)",
   "language": "python",
   "name": "python3"
  },
  "language_info": {
   "codemirror_mode": {
    "name": "ipython",
    "version": 3
   },
   "file_extension": ".py",
   "mimetype": "text/x-python",
   "name": "python",
   "nbconvert_exporter": "python",
   "pygments_lexer": "ipython3",
   "version": "3.9.7"
  },
  "toc": {
   "base_numbering": 1,
   "nav_menu": {},
   "number_sections": true,
   "sideBar": true,
   "skip_h1_title": false,
   "title_cell": "Table of Contents",
   "title_sidebar": "Contents",
   "toc_cell": false,
   "toc_position": {},
   "toc_section_display": true,
   "toc_window_display": false
  },
  "varInspector": {
   "cols": {
    "lenName": 16,
    "lenType": 16,
    "lenVar": 40
   },
   "kernels_config": {
    "python": {
     "delete_cmd_postfix": "",
     "delete_cmd_prefix": "del ",
     "library": "var_list.py",
     "varRefreshCmd": "print(var_dic_list())"
    },
    "r": {
     "delete_cmd_postfix": ") ",
     "delete_cmd_prefix": "rm(",
     "library": "var_list.r",
     "varRefreshCmd": "cat(var_dic_list()) "
    }
   },
   "types_to_exclude": [
    "module",
    "function",
    "builtin_function_or_method",
    "instance",
    "_Feature"
   ],
   "window_display": false
  }
 },
 "nbformat": 4,
 "nbformat_minor": 4
}
