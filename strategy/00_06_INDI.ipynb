{
 "cells": [
  {
   "cell_type": "code",
   "execution_count": 1,
   "metadata": {
    "ExecuteTime": {
     "end_time": "2023-05-15T06:49:19.825174Z",
     "start_time": "2023-05-15T06:49:19.815185Z"
    }
   },
   "outputs": [],
   "source": [
    "import pandas as pd\n",
    "import warnings\n",
    "warnings.filterwarnings('ignore')\n",
    "\n",
    "import yfinance as yf\n",
    "import numpy as np\n",
    "\n",
    "import datetime as dt"
   ]
  },
  {
   "cell_type": "code",
   "execution_count": 2,
   "metadata": {
    "ExecuteTime": {
     "end_time": "2023-05-15T06:48:27.322796Z",
     "start_time": "2023-05-15T06:48:26.047728Z"
    }
   },
   "outputs": [
    {
     "data": {
      "text/html": [
       "        <script type=\"text/javascript\">\n",
       "        window.PlotlyConfig = {MathJaxConfig: 'local'};\n",
       "        if (window.MathJax && window.MathJax.Hub && window.MathJax.Hub.Config) {window.MathJax.Hub.Config({SVG: {font: \"STIX-Web\"}});}\n",
       "        if (typeof require !== 'undefined') {\n",
       "        require.undef(\"plotly\");\n",
       "        requirejs.config({\n",
       "            paths: {\n",
       "                'plotly': ['https://cdn.plot.ly/plotly-2.12.1.min']\n",
       "            }\n",
       "        });\n",
       "        require(['plotly'], function(Plotly) {\n",
       "            window._Plotly = Plotly;\n",
       "        });\n",
       "        }\n",
       "        </script>\n",
       "        "
      ]
     },
     "metadata": {},
     "output_type": "display_data"
    }
   ],
   "source": [
    "# 시각화 관련 ##\n",
    "import plotly_express as px\n",
    "import plotly.figure_factory as ff\n",
    "import cufflinks as cf\n",
    "cf.go_offline(connected=True)\n",
    "## cf.getThemes()\n",
    "cf.set_config_file(theme='polar')\n",
    "import plotly.graph_objects as go\n",
    "\n",
    "import matplotlib\n",
    "%matplotlib inline\n",
    "\n",
    "import matplotlib.pyplot as plt\n",
    "import seaborn as sns\n",
    "sns.set_style('whitegrid')\n",
    "## plt.style.use(\"fivethirtyeight\")\n",
    "plt.rcParams['font.family'] = 'Malgun Gothic'\n",
    "plt.rcParams['axes.unicode_minus'] = False\n",
    "plt.rcParams[\"figure.figsize\"] = (10,6)"
   ]
  },
  {
   "cell_type": "code",
   "execution_count": 3,
   "metadata": {
    "ExecuteTime": {
     "end_time": "2023-05-15T06:48:27.908369Z",
     "start_time": "2023-05-15T06:48:27.323805Z"
    }
   },
   "outputs": [],
   "source": [
    "##절대경로 참조\n",
    "import sys, os\n",
    "sys.path.append(os.path.dirname(os.path.abspath(os.path.dirname('__file__'))))\n",
    "\n",
    "from library.quant_functions import anal_funcs, data_funcs"
   ]
  },
  {
   "cell_type": "code",
   "execution_count": 4,
   "metadata": {
    "ExecuteTime": {
     "end_time": "2023-05-15T06:48:27.923372Z",
     "start_time": "2023-05-15T06:48:27.909373Z"
    }
   },
   "outputs": [],
   "source": [
    "## 조건1. 판단기준 -> 1개월*12, 3개월*4, 6개월*2 평균, 12개월*1\n",
    "## 조건2. 공격자산 중 하나라도 (-)진입시 수비자산 전환\n",
    "## 조건3. 모든 포지션에서 판단기준값이 가장 높은 자산 투자\n",
    "## 조건4. 월단위 리벨런싱"
   ]
  },
  {
   "attachments": {},
   "cell_type": "markdown",
   "metadata": {},
   "source": [
    "## Func"
   ]
  },
  {
   "cell_type": "code",
   "execution_count": 5,
   "metadata": {
    "ExecuteTime": {
     "end_time": "2023-05-15T06:48:29.874269Z",
     "start_time": "2023-05-15T06:48:29.854262Z"
    }
   },
   "outputs": [],
   "source": [
    "### 1개월 수익률, 3개월 수익률, 6개월 수익률의 가중평균 산출함수\n",
    "def get_wapr(close):\n",
    "    ## 월단위 데이터를 기준으로함\n",
    "    ## get_signal()로 이어짐\n",
    "    df_cls = close.copy()\n",
    "    pr1 = np.log(df_cls/df_cls.shift(1))\n",
    "    pr3 = np.log(df_cls/df_cls.shift(3))\n",
    "    pr6 = np.log(df_cls/df_cls.shift(6))\n",
    "    pr12 = np.log(df_cls/df_cls.shift(12))\n",
    "    df_pr = pd.concat([pr1, pr3*(4/12), pr6*(2/12), pr12*(1/12)], axis = 1)\n",
    "    mpr = df_pr.mean(axis=1)\n",
    "    \n",
    "    return mpr\n",
    "\n",
    "def get_signal(df):\n",
    "    ## 금리2% 1개월 무위험수익률 ## 향후 기준금리 데이터 반영 가능\n",
    "    nrr = (1.02**(1/12))-1\n",
    "    ## get_strategy_value()로 이어짐\n",
    "\n",
    "    signal_df = df.copy()\n",
    "    for cols in signal_df.columns:\n",
    "        signal_df[cols] = get_wapr(signal_df[cols])\n",
    "    signal_df = signal_df.dropna()\n",
    "\n",
    "    atks= signal_df[signal_df.columns[:4]].T\n",
    "    dfcs= signal_df[signal_df.columns[4:]].T\n",
    "    \n",
    "    ## 판단로직\n",
    "    signal_df['diretion'] = 'bear'\n",
    "    signal_df['diretion'][(signal_df[signal_df.columns[0]] > nrr)&(signal_df[signal_df.columns[1]] > nrr)&\n",
    "                       (signal_df[signal_df.columns[2]] > nrr)&(signal_df[signal_df.columns[3]] > nrr)] = 'bull'\n",
    "\n",
    "    optimal_ticker = []\n",
    "    for i in range(len(signal_df)):\n",
    "        if signal_df['diretion'][i] == 'bull':\n",
    "            optimal_ticker.append(atks[atks[atks.columns[i]] == atks[atks.columns[i]].max()].index.values[0])\n",
    "        elif signal_df['diretion'][i] == 'bear':\n",
    "            optimal_ticker.append(dfcs[dfcs[dfcs.columns[i]] == dfcs[dfcs.columns[i]].max()].index.values[0])\n",
    "\n",
    "    signal_df['signal'] = optimal_ticker\n",
    "    ### 여기\n",
    "    \n",
    "    new_df = df.copy()\n",
    "    new_df['signal'] = signal_df['signal']\n",
    "    new_df['prev'] = new_df['signal'].shift(1)\n",
    "    \n",
    "    new_df['change'] = 0\n",
    "    new_df['change'][new_df['signal'] != new_df['prev']] = 1\n",
    "    new_df = new_df.dropna()\n",
    "    \n",
    "    return new_df, signal_df\n",
    "\n",
    "\n",
    "\n",
    "def get_strategy_value(df):\n",
    "    new_df, _ = get_signal(df)\n",
    "    \n",
    "    ## 시그널발생시 자산 교환 비율 산출\n",
    "    new_df['exchange_rate'] = 1.0\n",
    "    for i in range(len(new_df)):\n",
    "        if (new_df['change'][i] == 1)&(type(new_df['prev'][i]) == str):\n",
    "            new_df['exchange_rate'][i] = new_df[new_df['prev'][i]][i]/new_df[new_df['signal'][i]][i]         \n",
    "    ## 누적 교환비 산출\n",
    "    new_df['cum_exchange_rate'] = new_df['exchange_rate']\n",
    "    for i in range(len(new_df)):\n",
    "        new_df['cum_exchange_rate'][i] = new_df['exchange_rate'][:i+1].product()\n",
    "    ## 자산추이\n",
    "    new_df['strategy'] = 1.0\n",
    "    for i in range(len(new_df)):\n",
    "        new_df['strategy'][i] = new_df[new_df['signal'][i]][i]*new_df['cum_exchange_rate'][i]\n",
    "        \n",
    "    result = new_df.drop(columns=['change', 'exchange_rate', 'cum_exchange_rate'])\n",
    "        \n",
    "    return result"
   ]
  },
  {
   "attachments": {},
   "cell_type": "markdown",
   "metadata": {},
   "source": [
    "## Proc"
   ]
  },
  {
   "cell_type": "code",
   "execution_count": 6,
   "metadata": {
    "ExecuteTime": {
     "end_time": "2023-05-15T06:48:39.072309Z",
     "start_time": "2023-05-15T06:48:30.582274Z"
    }
   },
   "outputs": [
    {
     "name": "stdout",
     "output_type": "stream",
     "text": [
      "[*********************100%***********************]  7 of 7 completed\n"
     ]
    }
   ],
   "source": [
    "## X3 VAA전략 ## 확정전\n",
    "## df = get_merged_df('TQQQ', 'UPRO', 'EURL', 'EDC', 'TMF', 'TYD', 'BNKU')\n",
    "## df['CASH'] = 1 ## SHY 대용 CASH\n",
    "df = data_funcs.get_merged_df('SPY', 'QQQ', 'VEA', 'VWO', 'TLT', 'IEF', 'SHY')\n",
    "df = df[['SPY', 'QQQ', 'VEA', 'VWO', 'TLT', 'IEF', 'SHY']]\n",
    "\n",
    "dataset = df.dropna()\n",
    "## dataset = dataset[dataset.index >= '2010-10-01']"
   ]
  },
  {
   "cell_type": "code",
   "execution_count": 7,
   "metadata": {
    "ExecuteTime": {
     "end_time": "2023-05-15T06:48:39.102317Z",
     "start_time": "2023-05-15T06:48:39.088320Z"
    }
   },
   "outputs": [],
   "source": [
    "df = dataset.resample('M').last()\n",
    "df = df[:].copy()"
   ]
  },
  {
   "cell_type": "code",
   "execution_count": 8,
   "metadata": {},
   "outputs": [],
   "source": [
    "strategy_df_result = get_strategy_value(df)\n",
    "\n",
    "result_df = strategy_df_result.copy()\n",
    "temp = result_df[['IEF', 'QQQ', 'SHY', 'SPY', 'TLT', 'VEA', 'VWO', 'strategy']]\n",
    "result_df[['IEF', 'QQQ', 'SHY', 'SPY', 'TLT', 'VEA', 'VWO', 'strategy']] = temp/np.array(temp)[0]\n",
    "\n",
    "_, signal_df = get_signal(df)"
   ]
  },
  {
   "attachments": {},
   "cell_type": "markdown",
   "metadata": {},
   "source": [
    "## Report"
   ]
  },
  {
   "cell_type": "code",
   "execution_count": 9,
   "metadata": {
    "ExecuteTime": {
     "end_time": "2023-05-15T06:48:39.447318Z",
     "start_time": "2023-05-15T06:48:39.418311Z"
    }
   },
   "outputs": [
    {
     "data": {
      "text/html": [
       "<div>\n",
       "<style scoped>\n",
       "    .dataframe tbody tr th:only-of-type {\n",
       "        vertical-align: middle;\n",
       "    }\n",
       "\n",
       "    .dataframe tbody tr th {\n",
       "        vertical-align: top;\n",
       "    }\n",
       "\n",
       "    .dataframe thead th {\n",
       "        text-align: right;\n",
       "    }\n",
       "</style>\n",
       "<table border=\"1\" class=\"dataframe\">\n",
       "  <thead>\n",
       "    <tr style=\"text-align: right;\">\n",
       "      <th></th>\n",
       "      <th>SPY</th>\n",
       "      <th>QQQ</th>\n",
       "      <th>VEA</th>\n",
       "      <th>VWO</th>\n",
       "      <th>TLT</th>\n",
       "      <th>IEF</th>\n",
       "      <th>SHY</th>\n",
       "    </tr>\n",
       "    <tr>\n",
       "      <th>Date</th>\n",
       "      <th></th>\n",
       "      <th></th>\n",
       "      <th></th>\n",
       "      <th></th>\n",
       "      <th></th>\n",
       "      <th></th>\n",
       "      <th></th>\n",
       "    </tr>\n",
       "  </thead>\n",
       "  <tbody>\n",
       "    <tr>\n",
       "      <th>2022-12-31</th>\n",
       "      <td>-0.063937</td>\n",
       "      <td>-0.096852</td>\n",
       "      <td>-0.033735</td>\n",
       "      <td>-0.038747</td>\n",
       "      <td>-0.031344</td>\n",
       "      <td>-0.018926</td>\n",
       "      <td>-0.003075</td>\n",
       "    </tr>\n",
       "    <tr>\n",
       "      <th>2023-01-31</th>\n",
       "      <td>0.060989</td>\n",
       "      <td>0.101138</td>\n",
       "      <td>0.086455</td>\n",
       "      <td>0.080082</td>\n",
       "      <td>0.073656</td>\n",
       "      <td>0.035185</td>\n",
       "      <td>0.007732</td>\n",
       "    </tr>\n",
       "    <tr>\n",
       "      <th>2023-02-28</th>\n",
       "      <td>-0.025464</td>\n",
       "      <td>-0.003604</td>\n",
       "      <td>-0.035365</td>\n",
       "      <td>-0.068858</td>\n",
       "      <td>-0.052291</td>\n",
       "      <td>-0.035394</td>\n",
       "      <td>-0.009952</td>\n",
       "    </tr>\n",
       "    <tr>\n",
       "      <th>2023-03-31</th>\n",
       "      <td>0.032598</td>\n",
       "      <td>0.089141</td>\n",
       "      <td>0.022387</td>\n",
       "      <td>0.024557</td>\n",
       "      <td>0.044798</td>\n",
       "      <td>0.034486</td>\n",
       "      <td>0.014343</td>\n",
       "    </tr>\n",
       "    <tr>\n",
       "      <th>2023-04-30</th>\n",
       "      <td>0.015849</td>\n",
       "      <td>0.005066</td>\n",
       "      <td>0.026004</td>\n",
       "      <td>-0.003968</td>\n",
       "      <td>0.000846</td>\n",
       "      <td>0.006135</td>\n",
       "      <td>0.000243</td>\n",
       "    </tr>\n",
       "    <tr>\n",
       "      <th>2023-05-31</th>\n",
       "      <td>0.006853</td>\n",
       "      <td>0.045691</td>\n",
       "      <td>0.001724</td>\n",
       "      <td>-0.002239</td>\n",
       "      <td>-0.055226</td>\n",
       "      <td>-0.023127</td>\n",
       "      <td>-0.005246</td>\n",
       "    </tr>\n",
       "  </tbody>\n",
       "</table>\n",
       "</div>"
      ],
      "text/plain": [
       "                 SPY       QQQ       VEA       VWO       TLT       IEF  \\\n",
       "Date                                                                     \n",
       "2022-12-31 -0.063937 -0.096852 -0.033735 -0.038747 -0.031344 -0.018926   \n",
       "2023-01-31  0.060989  0.101138  0.086455  0.080082  0.073656  0.035185   \n",
       "2023-02-28 -0.025464 -0.003604 -0.035365 -0.068858 -0.052291 -0.035394   \n",
       "2023-03-31  0.032598  0.089141  0.022387  0.024557  0.044798  0.034486   \n",
       "2023-04-30  0.015849  0.005066  0.026004 -0.003968  0.000846  0.006135   \n",
       "2023-05-31  0.006853  0.045691  0.001724 -0.002239 -0.055226 -0.023127   \n",
       "\n",
       "                 SHY  \n",
       "Date                  \n",
       "2022-12-31 -0.003075  \n",
       "2023-01-31  0.007732  \n",
       "2023-02-28 -0.009952  \n",
       "2023-03-31  0.014343  \n",
       "2023-04-30  0.000243  \n",
       "2023-05-31 -0.005246  "
      ]
     },
     "execution_count": 9,
     "metadata": {},
     "output_type": "execute_result"
    }
   ],
   "source": [
    "## 기하수익률\n",
    "np.log(strategy_df_result[strategy_df_result.columns[:-3]]/strategy_df_result[strategy_df_result.columns[:-3]].shift(1)).tail(6)"
   ]
  },
  {
   "cell_type": "code",
   "execution_count": 10,
   "metadata": {
    "ExecuteTime": {
     "end_time": "2023-05-15T06:48:39.462321Z",
     "start_time": "2023-05-15T06:48:39.449309Z"
    }
   },
   "outputs": [
    {
     "data": {
      "text/html": [
       "<div>\n",
       "<style scoped>\n",
       "    .dataframe tbody tr th:only-of-type {\n",
       "        vertical-align: middle;\n",
       "    }\n",
       "\n",
       "    .dataframe tbody tr th {\n",
       "        vertical-align: top;\n",
       "    }\n",
       "\n",
       "    .dataframe thead th {\n",
       "        text-align: right;\n",
       "    }\n",
       "</style>\n",
       "<table border=\"1\" class=\"dataframe\">\n",
       "  <thead>\n",
       "    <tr style=\"text-align: right;\">\n",
       "      <th></th>\n",
       "      <th>SPY</th>\n",
       "      <th>QQQ</th>\n",
       "      <th>VEA</th>\n",
       "      <th>VWO</th>\n",
       "      <th>TLT</th>\n",
       "      <th>IEF</th>\n",
       "      <th>SHY</th>\n",
       "      <th>signal</th>\n",
       "      <th>prev</th>\n",
       "      <th>strategy</th>\n",
       "    </tr>\n",
       "    <tr>\n",
       "      <th>Date</th>\n",
       "      <th></th>\n",
       "      <th></th>\n",
       "      <th></th>\n",
       "      <th></th>\n",
       "      <th></th>\n",
       "      <th></th>\n",
       "      <th></th>\n",
       "      <th></th>\n",
       "      <th></th>\n",
       "      <th></th>\n",
       "    </tr>\n",
       "  </thead>\n",
       "  <tbody>\n",
       "    <tr>\n",
       "      <th>2022-12-31</th>\n",
       "      <td>382.429993</td>\n",
       "      <td>266.279999</td>\n",
       "      <td>41.970001</td>\n",
       "      <td>38.980000</td>\n",
       "      <td>99.559998</td>\n",
       "      <td>95.779999</td>\n",
       "      <td>81.169998</td>\n",
       "      <td>SHY</td>\n",
       "      <td>VEA</td>\n",
       "      <td>332.085704</td>\n",
       "    </tr>\n",
       "    <tr>\n",
       "      <th>2023-01-31</th>\n",
       "      <td>406.480011</td>\n",
       "      <td>294.619995</td>\n",
       "      <td>45.759998</td>\n",
       "      <td>42.230000</td>\n",
       "      <td>107.169998</td>\n",
       "      <td>99.209999</td>\n",
       "      <td>81.800003</td>\n",
       "      <td>VEA</td>\n",
       "      <td>SHY</td>\n",
       "      <td>334.663203</td>\n",
       "    </tr>\n",
       "    <tr>\n",
       "      <th>2023-02-28</th>\n",
       "      <td>396.260010</td>\n",
       "      <td>293.559998</td>\n",
       "      <td>44.169998</td>\n",
       "      <td>39.419998</td>\n",
       "      <td>101.709999</td>\n",
       "      <td>95.760002</td>\n",
       "      <td>80.989998</td>\n",
       "      <td>SHY</td>\n",
       "      <td>VEA</td>\n",
       "      <td>323.034825</td>\n",
       "    </tr>\n",
       "    <tr>\n",
       "      <th>2023-03-31</th>\n",
       "      <td>409.390015</td>\n",
       "      <td>320.929993</td>\n",
       "      <td>45.169998</td>\n",
       "      <td>40.400002</td>\n",
       "      <td>106.370003</td>\n",
       "      <td>99.120003</td>\n",
       "      <td>82.160004</td>\n",
       "      <td>QQQ</td>\n",
       "      <td>SHY</td>\n",
       "      <td>327.701483</td>\n",
       "    </tr>\n",
       "    <tr>\n",
       "      <th>2023-04-30</th>\n",
       "      <td>415.929993</td>\n",
       "      <td>322.559998</td>\n",
       "      <td>46.360001</td>\n",
       "      <td>40.240002</td>\n",
       "      <td>106.459999</td>\n",
       "      <td>99.730003</td>\n",
       "      <td>82.180000</td>\n",
       "      <td>IEF</td>\n",
       "      <td>QQQ</td>\n",
       "      <td>329.365881</td>\n",
       "    </tr>\n",
       "    <tr>\n",
       "      <th>2023-05-31</th>\n",
       "      <td>418.790009</td>\n",
       "      <td>337.640015</td>\n",
       "      <td>46.439999</td>\n",
       "      <td>40.150002</td>\n",
       "      <td>100.739998</td>\n",
       "      <td>97.449997</td>\n",
       "      <td>81.750000</td>\n",
       "      <td>SHY</td>\n",
       "      <td>IEF</td>\n",
       "      <td>321.835987</td>\n",
       "    </tr>\n",
       "  </tbody>\n",
       "</table>\n",
       "</div>"
      ],
      "text/plain": [
       "                   SPY         QQQ        VEA        VWO         TLT  \\\n",
       "Date                                                                   \n",
       "2022-12-31  382.429993  266.279999  41.970001  38.980000   99.559998   \n",
       "2023-01-31  406.480011  294.619995  45.759998  42.230000  107.169998   \n",
       "2023-02-28  396.260010  293.559998  44.169998  39.419998  101.709999   \n",
       "2023-03-31  409.390015  320.929993  45.169998  40.400002  106.370003   \n",
       "2023-04-30  415.929993  322.559998  46.360001  40.240002  106.459999   \n",
       "2023-05-31  418.790009  337.640015  46.439999  40.150002  100.739998   \n",
       "\n",
       "                  IEF        SHY signal prev    strategy  \n",
       "Date                                                      \n",
       "2022-12-31  95.779999  81.169998    SHY  VEA  332.085704  \n",
       "2023-01-31  99.209999  81.800003    VEA  SHY  334.663203  \n",
       "2023-02-28  95.760002  80.989998    SHY  VEA  323.034825  \n",
       "2023-03-31  99.120003  82.160004    QQQ  SHY  327.701483  \n",
       "2023-04-30  99.730003  82.180000    IEF  QQQ  329.365881  \n",
       "2023-05-31  97.449997  81.750000    SHY  IEF  321.835987  "
      ]
     },
     "execution_count": 10,
     "metadata": {},
     "output_type": "execute_result"
    }
   ],
   "source": [
    "## 최근 상대 수준\n",
    "strategy_df_result.tail(6)"
   ]
  },
  {
   "cell_type": "code",
   "execution_count": 11,
   "metadata": {
    "ExecuteTime": {
     "end_time": "2023-05-15T06:48:39.477317Z",
     "start_time": "2023-05-15T06:48:39.463311Z"
    },
    "scrolled": true
   },
   "outputs": [
    {
     "data": {
      "text/html": [
       "<div>\n",
       "<style scoped>\n",
       "    .dataframe tbody tr th:only-of-type {\n",
       "        vertical-align: middle;\n",
       "    }\n",
       "\n",
       "    .dataframe tbody tr th {\n",
       "        vertical-align: top;\n",
       "    }\n",
       "\n",
       "    .dataframe thead th {\n",
       "        text-align: right;\n",
       "    }\n",
       "</style>\n",
       "<table border=\"1\" class=\"dataframe\">\n",
       "  <thead>\n",
       "    <tr style=\"text-align: right;\">\n",
       "      <th></th>\n",
       "      <th>SPY</th>\n",
       "      <th>QQQ</th>\n",
       "      <th>VEA</th>\n",
       "      <th>VWO</th>\n",
       "      <th>TLT</th>\n",
       "      <th>IEF</th>\n",
       "      <th>SHY</th>\n",
       "      <th>diretion</th>\n",
       "      <th>signal</th>\n",
       "    </tr>\n",
       "    <tr>\n",
       "      <th>Date</th>\n",
       "      <th></th>\n",
       "      <th></th>\n",
       "      <th></th>\n",
       "      <th></th>\n",
       "      <th></th>\n",
       "      <th></th>\n",
       "      <th></th>\n",
       "      <th></th>\n",
       "      <th></th>\n",
       "    </tr>\n",
       "  </thead>\n",
       "  <tbody>\n",
       "    <tr>\n",
       "      <th>2022-12-31</th>\n",
       "      <td>-0.014238</td>\n",
       "      <td>-0.035019</td>\n",
       "      <td>0.000617</td>\n",
       "      <td>-0.011907</td>\n",
       "      <td>-0.024467</td>\n",
       "      <td>-0.011468</td>\n",
       "      <td>-0.002726</td>\n",
       "      <td>bear</td>\n",
       "      <td>SHY</td>\n",
       "    </tr>\n",
       "    <tr>\n",
       "      <th>2023-01-31</th>\n",
       "      <td>0.016834</td>\n",
       "      <td>0.022939</td>\n",
       "      <td>0.037026</td>\n",
       "      <td>0.032132</td>\n",
       "      <td>0.017762</td>\n",
       "      <td>0.007866</td>\n",
       "      <td>0.001333</td>\n",
       "      <td>bull</td>\n",
       "      <td>VEA</td>\n",
       "    </tr>\n",
       "    <tr>\n",
       "      <th>2023-02-28</th>\n",
       "      <td>-0.010641</td>\n",
       "      <td>-0.005119</td>\n",
       "      <td>-0.005380</td>\n",
       "      <td>-0.025302</td>\n",
       "      <td>-0.024512</td>\n",
       "      <td>-0.015924</td>\n",
       "      <td>-0.004491</td>\n",
       "      <td>bear</td>\n",
       "      <td>SHY</td>\n",
       "    </tr>\n",
       "    <tr>\n",
       "      <th>2023-03-31</th>\n",
       "      <td>0.017465</td>\n",
       "      <td>0.042927</td>\n",
       "      <td>0.019481</td>\n",
       "      <td>0.010599</td>\n",
       "      <td>0.013768</td>\n",
       "      <td>0.011130</td>\n",
       "      <td>0.004781</td>\n",
       "      <td>bull</td>\n",
       "      <td>QQQ</td>\n",
       "    </tr>\n",
       "    <tr>\n",
       "      <th>2023-04-30</th>\n",
       "      <td>0.009164</td>\n",
       "      <td>0.015629</td>\n",
       "      <td>0.015979</td>\n",
       "      <td>-0.001328</td>\n",
       "      <td>0.001520</td>\n",
       "      <td>0.003620</td>\n",
       "      <td>0.000868</td>\n",
       "      <td>bear</td>\n",
       "      <td>IEF</td>\n",
       "    </tr>\n",
       "    <tr>\n",
       "      <th>2023-05-31</th>\n",
       "      <td>0.007735</td>\n",
       "      <td>0.030834</td>\n",
       "      <td>0.007840</td>\n",
       "      <td>-0.001149</td>\n",
       "      <td>-0.018459</td>\n",
       "      <td>-0.005611</td>\n",
       "      <td>-0.000768</td>\n",
       "      <td>bear</td>\n",
       "      <td>SHY</td>\n",
       "    </tr>\n",
       "  </tbody>\n",
       "</table>\n",
       "</div>"
      ],
      "text/plain": [
       "                 SPY       QQQ       VEA       VWO       TLT       IEF  \\\n",
       "Date                                                                     \n",
       "2022-12-31 -0.014238 -0.035019  0.000617 -0.011907 -0.024467 -0.011468   \n",
       "2023-01-31  0.016834  0.022939  0.037026  0.032132  0.017762  0.007866   \n",
       "2023-02-28 -0.010641 -0.005119 -0.005380 -0.025302 -0.024512 -0.015924   \n",
       "2023-03-31  0.017465  0.042927  0.019481  0.010599  0.013768  0.011130   \n",
       "2023-04-30  0.009164  0.015629  0.015979 -0.001328  0.001520  0.003620   \n",
       "2023-05-31  0.007735  0.030834  0.007840 -0.001149 -0.018459 -0.005611   \n",
       "\n",
       "                 SHY diretion signal  \n",
       "Date                                  \n",
       "2022-12-31 -0.002726     bear    SHY  \n",
       "2023-01-31  0.001333     bull    VEA  \n",
       "2023-02-28 -0.004491     bear    SHY  \n",
       "2023-03-31  0.004781     bull    QQQ  \n",
       "2023-04-30  0.000868     bear    IEF  \n",
       "2023-05-31 -0.000768     bear    SHY  "
      ]
     },
     "execution_count": 11,
     "metadata": {},
     "output_type": "execute_result"
    }
   ],
   "source": [
    "## 시그널 근거\n",
    "signal_df.tail(6)"
   ]
  },
  {
   "cell_type": "code",
   "execution_count": 12,
   "metadata": {
    "ExecuteTime": {
     "end_time": "2023-05-15T06:48:39.507350Z",
     "start_time": "2023-05-15T06:48:39.479309Z"
    }
   },
   "outputs": [],
   "source": [
    "test_dfs = [result_df.reset_index().shift(i).set_index('Date')[-(len(result_df)+1 - int(len(result_df)/10)):]\n",
    "            for i in range(int(len(result_df)/10))]"
   ]
  },
  {
   "cell_type": "code",
   "execution_count": 13,
   "metadata": {
    "ExecuteTime": {
     "end_time": "2023-05-15T06:48:39.522309Z",
     "start_time": "2023-05-15T06:48:39.508357Z"
    }
   },
   "outputs": [
    {
     "name": "stdout",
     "output_type": "stream",
     "text": [
      "적립식 수행시, 누적 시뮬레이션 수익률: 99.37%\n"
     ]
    }
   ],
   "source": [
    "CAGR = np.mean([anal_funcs.get_ACI_CAGR(test_dfs[i]['strategy']) for i in range(len(test_dfs))])\n",
    "print(f'적립식 수행시, 누적 시뮬레이션 수익률: {CAGR.round(2)}%')"
   ]
  },
  {
   "cell_type": "code",
   "execution_count": 14,
   "metadata": {
    "ExecuteTime": {
     "end_time": "2023-05-15T06:48:39.537317Z",
     "start_time": "2023-05-15T06:48:39.523321Z"
    }
   },
   "outputs": [
    {
     "name": "stdout",
     "output_type": "stream",
     "text": [
      "적립식 수행시, 월평균 시뮬레이션 수익률: 0.8%\n"
     ]
    }
   ],
   "source": [
    "RPP = np.mean([anal_funcs.get_ACI_RPP(test_dfs[i]['strategy']) for i in range(len(test_dfs))])\n",
    "print(f'적립식 수행시, 월평균 시뮬레이션 수익률: {RPP.round(2)}%')"
   ]
  },
  {
   "cell_type": "code",
   "execution_count": 15,
   "metadata": {
    "ExecuteTime": {
     "end_time": "2023-05-15T06:48:39.612308Z",
     "start_time": "2023-05-15T06:48:39.538312Z"
    },
    "scrolled": false
   },
   "outputs": [
    {
     "data": {
      "text/html": [
       "<div>\n",
       "<style scoped>\n",
       "    .dataframe tbody tr th:only-of-type {\n",
       "        vertical-align: middle;\n",
       "    }\n",
       "\n",
       "    .dataframe tbody tr th {\n",
       "        vertical-align: top;\n",
       "    }\n",
       "\n",
       "    .dataframe thead th {\n",
       "        text-align: right;\n",
       "    }\n",
       "</style>\n",
       "<table border=\"1\" class=\"dataframe\">\n",
       "  <thead>\n",
       "    <tr style=\"text-align: right;\">\n",
       "      <th></th>\n",
       "      <th>SPY</th>\n",
       "      <th>QQQ</th>\n",
       "      <th>VEA</th>\n",
       "      <th>VWO</th>\n",
       "      <th>TLT</th>\n",
       "      <th>IEF</th>\n",
       "      <th>SHY</th>\n",
       "      <th>strategy</th>\n",
       "    </tr>\n",
       "    <tr>\n",
       "      <th>Date</th>\n",
       "      <th></th>\n",
       "      <th></th>\n",
       "      <th></th>\n",
       "      <th></th>\n",
       "      <th></th>\n",
       "      <th></th>\n",
       "      <th></th>\n",
       "      <th></th>\n",
       "    </tr>\n",
       "  </thead>\n",
       "  <tbody>\n",
       "    <tr>\n",
       "      <th>2008</th>\n",
       "      <td>-38.28</td>\n",
       "      <td>-41.94</td>\n",
       "      <td>-42.68</td>\n",
       "      <td>-54.80</td>\n",
       "      <td>28.28</td>\n",
       "      <td>13.24</td>\n",
       "      <td>3.01</td>\n",
       "      <td>6.44</td>\n",
       "    </tr>\n",
       "    <tr>\n",
       "      <th>2009</th>\n",
       "      <td>23.49</td>\n",
       "      <td>53.83</td>\n",
       "      <td>24.50</td>\n",
       "      <td>73.95</td>\n",
       "      <td>-24.68</td>\n",
       "      <td>-10.08</td>\n",
       "      <td>-2.01</td>\n",
       "      <td>17.75</td>\n",
       "    </tr>\n",
       "    <tr>\n",
       "      <th>2010</th>\n",
       "      <td>12.84</td>\n",
       "      <td>19.04</td>\n",
       "      <td>5.70</td>\n",
       "      <td>17.44</td>\n",
       "      <td>4.71</td>\n",
       "      <td>5.89</td>\n",
       "      <td>1.23</td>\n",
       "      <td>-5.91</td>\n",
       "    </tr>\n",
       "    <tr>\n",
       "      <th>2011</th>\n",
       "      <td>-0.20</td>\n",
       "      <td>2.52</td>\n",
       "      <td>-15.27</td>\n",
       "      <td>-20.64</td>\n",
       "      <td>28.82</td>\n",
       "      <td>12.52</td>\n",
       "      <td>0.62</td>\n",
       "      <td>18.34</td>\n",
       "    </tr>\n",
       "    <tr>\n",
       "      <th>2012</th>\n",
       "      <td>13.47</td>\n",
       "      <td>16.66</td>\n",
       "      <td>15.02</td>\n",
       "      <td>16.54</td>\n",
       "      <td>-0.06</td>\n",
       "      <td>1.82</td>\n",
       "      <td>-0.09</td>\n",
       "      <td>15.03</td>\n",
       "    </tr>\n",
       "    <tr>\n",
       "      <th>2013</th>\n",
       "      <td>29.69</td>\n",
       "      <td>35.05</td>\n",
       "      <td>18.31</td>\n",
       "      <td>-7.61</td>\n",
       "      <td>-15.94</td>\n",
       "      <td>-7.68</td>\n",
       "      <td>-0.05</td>\n",
       "      <td>6.94</td>\n",
       "    </tr>\n",
       "    <tr>\n",
       "      <th>2014</th>\n",
       "      <td>11.29</td>\n",
       "      <td>17.38</td>\n",
       "      <td>-9.12</td>\n",
       "      <td>-2.72</td>\n",
       "      <td>23.62</td>\n",
       "      <td>6.80</td>\n",
       "      <td>0.08</td>\n",
       "      <td>20.94</td>\n",
       "    </tr>\n",
       "    <tr>\n",
       "      <th>2015</th>\n",
       "      <td>-0.81</td>\n",
       "      <td>8.34</td>\n",
       "      <td>-3.06</td>\n",
       "      <td>-18.27</td>\n",
       "      <td>-4.24</td>\n",
       "      <td>-0.38</td>\n",
       "      <td>-0.11</td>\n",
       "      <td>-8.56</td>\n",
       "    </tr>\n",
       "    <tr>\n",
       "      <th>2016</th>\n",
       "      <td>9.64</td>\n",
       "      <td>5.92</td>\n",
       "      <td>-0.49</td>\n",
       "      <td>9.39</td>\n",
       "      <td>-1.20</td>\n",
       "      <td>-0.73</td>\n",
       "      <td>0.11</td>\n",
       "      <td>13.89</td>\n",
       "    </tr>\n",
       "    <tr>\n",
       "      <th>2017</th>\n",
       "      <td>19.38</td>\n",
       "      <td>31.47</td>\n",
       "      <td>22.77</td>\n",
       "      <td>28.31</td>\n",
       "      <td>6.49</td>\n",
       "      <td>0.72</td>\n",
       "      <td>-0.71</td>\n",
       "      <td>23.35</td>\n",
       "    </tr>\n",
       "    <tr>\n",
       "      <th>2018</th>\n",
       "      <td>-6.35</td>\n",
       "      <td>-0.96</td>\n",
       "      <td>-17.30</td>\n",
       "      <td>-17.01</td>\n",
       "      <td>-4.22</td>\n",
       "      <td>-1.30</td>\n",
       "      <td>-0.27</td>\n",
       "      <td>4.86</td>\n",
       "    </tr>\n",
       "    <tr>\n",
       "      <th>2019</th>\n",
       "      <td>28.79</td>\n",
       "      <td>37.83</td>\n",
       "      <td>18.76</td>\n",
       "      <td>16.72</td>\n",
       "      <td>11.50</td>\n",
       "      <td>5.78</td>\n",
       "      <td>1.21</td>\n",
       "      <td>17.26</td>\n",
       "    </tr>\n",
       "    <tr>\n",
       "      <th>2020</th>\n",
       "      <td>16.16</td>\n",
       "      <td>47.57</td>\n",
       "      <td>7.15</td>\n",
       "      <td>12.68</td>\n",
       "      <td>16.42</td>\n",
       "      <td>8.83</td>\n",
       "      <td>2.07</td>\n",
       "      <td>31.85</td>\n",
       "    </tr>\n",
       "    <tr>\n",
       "      <th>2021</th>\n",
       "      <td>27.04</td>\n",
       "      <td>26.81</td>\n",
       "      <td>8.16</td>\n",
       "      <td>-1.30</td>\n",
       "      <td>-6.05</td>\n",
       "      <td>-4.13</td>\n",
       "      <td>-0.97</td>\n",
       "      <td>0.81</td>\n",
       "    </tr>\n",
       "    <tr>\n",
       "      <th>2022</th>\n",
       "      <td>-19.48</td>\n",
       "      <td>-33.07</td>\n",
       "      <td>-17.80</td>\n",
       "      <td>-21.19</td>\n",
       "      <td>-32.82</td>\n",
       "      <td>-16.71</td>\n",
       "      <td>-5.11</td>\n",
       "      <td>-10.86</td>\n",
       "    </tr>\n",
       "    <tr>\n",
       "      <th>MEAN</th>\n",
       "      <td>6.62</td>\n",
       "      <td>11.62</td>\n",
       "      <td>-0.88</td>\n",
       "      <td>-1.92</td>\n",
       "      <td>0.45</td>\n",
       "      <td>0.64</td>\n",
       "      <td>-0.08</td>\n",
       "      <td>9.47</td>\n",
       "    </tr>\n",
       "  </tbody>\n",
       "</table>\n",
       "</div>"
      ],
      "text/plain": [
       "        SPY    QQQ    VEA    VWO    TLT    IEF   SHY  strategy\n",
       "Date                                                          \n",
       "2008 -38.28 -41.94 -42.68 -54.80  28.28  13.24  3.01      6.44\n",
       "2009  23.49  53.83  24.50  73.95 -24.68 -10.08 -2.01     17.75\n",
       "2010  12.84  19.04   5.70  17.44   4.71   5.89  1.23     -5.91\n",
       "2011  -0.20   2.52 -15.27 -20.64  28.82  12.52  0.62     18.34\n",
       "2012  13.47  16.66  15.02  16.54  -0.06   1.82 -0.09     15.03\n",
       "2013  29.69  35.05  18.31  -7.61 -15.94  -7.68 -0.05      6.94\n",
       "2014  11.29  17.38  -9.12  -2.72  23.62   6.80  0.08     20.94\n",
       "2015  -0.81   8.34  -3.06 -18.27  -4.24  -0.38 -0.11     -8.56\n",
       "2016   9.64   5.92  -0.49   9.39  -1.20  -0.73  0.11     13.89\n",
       "2017  19.38  31.47  22.77  28.31   6.49   0.72 -0.71     23.35\n",
       "2018  -6.35  -0.96 -17.30 -17.01  -4.22  -1.30 -0.27      4.86\n",
       "2019  28.79  37.83  18.76  16.72  11.50   5.78  1.21     17.26\n",
       "2020  16.16  47.57   7.15  12.68  16.42   8.83  2.07     31.85\n",
       "2021  27.04  26.81   8.16  -1.30  -6.05  -4.13 -0.97      0.81\n",
       "2022 -19.48 -33.07 -17.80 -21.19 -32.82 -16.71 -5.11    -10.86\n",
       "MEAN   6.62  11.62  -0.88  -1.92   0.45   0.64 -0.08      9.47"
      ]
     },
     "execution_count": 15,
     "metadata": {},
     "output_type": "execute_result"
    }
   ],
   "source": [
    "## 연수익률\n",
    "anal_funcs.get_YTD_report(result_df, 'a')"
   ]
  },
  {
   "cell_type": "code",
   "execution_count": 16,
   "metadata": {
    "ExecuteTime": {
     "end_time": "2023-05-15T06:48:39.792334Z",
     "start_time": "2023-05-15T06:48:39.613310Z"
    }
   },
   "outputs": [
    {
     "data": {
      "text/html": [
       "<div>\n",
       "<style scoped>\n",
       "    .dataframe tbody tr th:only-of-type {\n",
       "        vertical-align: middle;\n",
       "    }\n",
       "\n",
       "    .dataframe tbody tr th {\n",
       "        vertical-align: top;\n",
       "    }\n",
       "\n",
       "    .dataframe thead th {\n",
       "        text-align: right;\n",
       "    }\n",
       "</style>\n",
       "<table border=\"1\" class=\"dataframe\">\n",
       "  <thead>\n",
       "    <tr style=\"text-align: right;\">\n",
       "      <th></th>\n",
       "      <th>MDD(%)</th>\n",
       "      <th>Date</th>\n",
       "    </tr>\n",
       "    <tr>\n",
       "      <th>Ticker</th>\n",
       "      <th></th>\n",
       "      <th></th>\n",
       "    </tr>\n",
       "  </thead>\n",
       "  <tbody>\n",
       "    <tr>\n",
       "      <th>SPY</th>\n",
       "      <td>-52.20</td>\n",
       "      <td>2009-02-28</td>\n",
       "    </tr>\n",
       "    <tr>\n",
       "      <th>QQQ</th>\n",
       "      <td>-49.97</td>\n",
       "      <td>2009-02-28</td>\n",
       "    </tr>\n",
       "    <tr>\n",
       "      <th>VEA</th>\n",
       "      <td>-59.43</td>\n",
       "      <td>2009-02-28</td>\n",
       "    </tr>\n",
       "    <tr>\n",
       "      <th>VWO</th>\n",
       "      <td>-64.26</td>\n",
       "      <td>2009-02-28</td>\n",
       "    </tr>\n",
       "    <tr>\n",
       "      <th>TLT</th>\n",
       "      <td>-43.80</td>\n",
       "      <td>2022-10-31</td>\n",
       "    </tr>\n",
       "    <tr>\n",
       "      <th>IEF</th>\n",
       "      <td>-23.12</td>\n",
       "      <td>2022-10-31</td>\n",
       "    </tr>\n",
       "    <tr>\n",
       "      <th>SHY</th>\n",
       "      <td>-6.69</td>\n",
       "      <td>2023-02-28</td>\n",
       "    </tr>\n",
       "    <tr>\n",
       "      <th>strategy</th>\n",
       "      <td>-19.50</td>\n",
       "      <td>2023-05-31</td>\n",
       "    </tr>\n",
       "  </tbody>\n",
       "</table>\n",
       "</div>"
      ],
      "text/plain": [
       "          MDD(%)       Date\n",
       "Ticker                     \n",
       "SPY       -52.20 2009-02-28\n",
       "QQQ       -49.97 2009-02-28\n",
       "VEA       -59.43 2009-02-28\n",
       "VWO       -64.26 2009-02-28\n",
       "TLT       -43.80 2022-10-31\n",
       "IEF       -23.12 2022-10-31\n",
       "SHY        -6.69 2023-02-28\n",
       "strategy  -19.50 2023-05-31"
      ]
     },
     "execution_count": 16,
     "metadata": {},
     "output_type": "execute_result"
    }
   ],
   "source": [
    "## 전고점대비 최대낙폭(MDD)\n",
    "MDD, HRR = anal_funcs.get_MDD_report(result_df, 'a')\n",
    "MDD"
   ]
  },
  {
   "cell_type": "code",
   "execution_count": 17,
   "metadata": {
    "ExecuteTime": {
     "end_time": "2023-05-15T06:48:54.314855Z",
     "start_time": "2023-05-15T06:48:53.670860Z"
    }
   },
   "outputs": [],
   "source": [
    "## sortino ratio\n",
    "sort_df = anal_funcs.get_Vol_report(test_dfs[0], 'g', unit='monthly', rf=3)\n",
    "## 모든 가능한 시작 시점에 대한 평가\n",
    "temp = ([anal_funcs.get_Vol_report(test_dfs[i], 'g', unit='monthly', rf=3) for i in range(len(test_dfs))])\n",
    "sort_df_simulation = (sum(temp)/len(temp)).round(2)"
   ]
  },
  {
   "attachments": {},
   "cell_type": "markdown",
   "metadata": {},
   "source": [
    "## INDI"
   ]
  },
  {
   "attachments": {},
   "cell_type": "markdown",
   "metadata": {},
   "source": [
    "### 함수정의"
   ]
  },
  {
   "cell_type": "code",
   "execution_count": 345,
   "metadata": {
    "ExecuteTime": {
     "end_time": "2023-05-15T08:21:03.667999Z",
     "start_time": "2023-05-15T08:21:03.645999Z"
    }
   },
   "outputs": [],
   "source": [
    "def get_INDI(df_ori, seed, duration = 120, sts = 0, fx= 1300):\n",
    "    '''\n",
    "    df: 종가데이터\n",
    "    sts: 초기투자금\n",
    "    seed: 월납입액\n",
    "    fx: 달러원환율\n",
    "    '''\n",
    "    seed = seed*fx\n",
    "    sts = sts*fx\n",
    "    tickers = list(df_ori.columns)\n",
    "    df_clean = df_ori.dropna()\n",
    "    df_clean = day_to_mth(df_clean)\n",
    "    dfs = [df_clean[i:i+duration] for i in range(len(df_clean)-duration+1)]\n",
    "    _ls = []\n",
    "    ## 역사적 시뮬레이션\n",
    "    for df in dfs:\n",
    "        for ticker in tickers:\n",
    "            df[f\"{ticker}_quant\"] = (float(seed)/df[ticker]).apply(lambda x:math.floor(x))\n",
    "            df[f\"{ticker}_cost\"] = df[ticker] * df[f\"{ticker}_quant\"]\n",
    "            df[f\"{ticker}_cquant\"] = df[f\"{ticker}_quant\"].cumsum()\n",
    "            df[f\"{ticker}_cquant\"] = df[f\"{ticker}_cquant\"] + math.floor(sts/df[ticker][0])\n",
    "            df[ticker] = df[ticker] * df[f\"{ticker}_cquant\"]\n",
    "        df = df[tickers]\n",
    "\n",
    "        _ls.append(df.reset_index(drop=True))\n",
    "    result = pd.concat(_ls, axis=1)\n",
    "    \n",
    "    ## 통계량 도출: 몬테카를로에 적용할 수 있음\n",
    "    _stats = []\n",
    "    for ticker in tickers:\n",
    "        stat = pd.concat([result[ticker].mean(axis=1), result[ticker].min(axis=1), result[ticker].max(axis=1), result[ticker].std(axis=1)], axis=1)\n",
    "        stat.columns = ['mean', 'min', 'max', 'std']\n",
    "        \n",
    "        stat['s2+'] = stat['mean'] + 2*stat['std']\n",
    "        stat['s2-'] = stat['mean'] - 2*stat['std']\n",
    "        stat['s3+'] = stat['mean'] + 3*stat['std']\n",
    "        stat['s3-'] = stat['mean'] - 3*stat['std']\n",
    "        \n",
    "        _stats.append(stat.drop(columns='std'))\n",
    "    \n",
    "    return result[tickers], dict(zip(tickers, _stats))"
   ]
  },
  {
   "cell_type": "code",
   "execution_count": 328,
   "metadata": {
    "ExecuteTime": {
     "end_time": "2023-05-15T08:16:52.853139Z",
     "start_time": "2023-05-15T08:16:48.670791Z"
    }
   },
   "outputs": [],
   "source": [
    "## 원천데이터 불러옴\n",
    "## df_ori = get_merged_df('^IXIC', '^GSPC')\n",
    "df_ori = get_merged_df('QQQ', 'QLD', 'TQQQ', 'SHY', 'IEF', 'TLT', 'TMF')"
   ]
  },
  {
   "cell_type": "code",
   "execution_count": 346,
   "metadata": {
    "ExecuteTime": {
     "end_time": "2023-05-15T08:21:05.243260Z",
     "start_time": "2023-05-15T08:21:05.238261Z"
    }
   },
   "outputs": [],
   "source": [
    "df_ori['strategy'] = result_df['strategy'].copy()"
   ]
  },
  {
   "cell_type": "code",
   "execution_count": 347,
   "metadata": {
    "ExecuteTime": {
     "end_time": "2023-05-15T08:21:06.998705Z",
     "start_time": "2023-05-15T08:21:05.637171Z"
    }
   },
   "outputs": [],
   "source": [
    "df_indi, stats = get_INDI(df_ori[:], 285, int(12*5+2), 35000)\n",
    "## df_indi, stats = get_INDI(df_ori[:], 120*1250, int(12*15), 0)"
   ]
  },
  {
   "cell_type": "code",
   "execution_count": 348,
   "metadata": {
    "ExecuteTime": {
     "end_time": "2023-05-15T08:21:07.463704Z",
     "start_time": "2023-05-15T08:21:07.452712Z"
    }
   },
   "outputs": [
    {
     "data": {
      "text/plain": [
       "dict_keys(['QQQ', 'QLD', 'TQQQ', 'SHY', 'IEF', 'TLT', 'TMF', 'strategy'])"
      ]
     },
     "execution_count": 348,
     "metadata": {},
     "output_type": "execute_result"
    }
   ],
   "source": [
    "stats.keys()"
   ]
  },
  {
   "cell_type": "code",
   "execution_count": 351,
   "metadata": {
    "ExecuteTime": {
     "end_time": "2023-05-15T08:21:40.105918Z",
     "start_time": "2023-05-15T08:21:40.054921Z"
    }
   },
   "outputs": [
    {
     "data": {
      "application/vnd.plotly.v1+json": {
       "config": {
        "linkText": "Export to plot.ly",
        "plotlyServerURL": "https://plot.ly",
        "showLink": true
       },
       "data": [
        {
         "line": {
          "color": "rgba(0, 128, 240, 1.0)",
          "dash": "solid",
          "shape": "linear",
          "width": 1.3
         },
         "mode": "lines",
         "name": "mean",
         "text": "",
         "type": "scatter",
         "x": [
          0,
          1,
          2,
          3,
          4,
          5,
          6,
          7,
          8,
          9,
          10,
          11,
          12,
          13,
          14,
          15,
          16,
          17,
          18,
          19,
          20,
          21,
          22,
          23,
          24,
          25,
          26,
          27,
          28,
          29,
          30,
          31,
          32,
          33,
          34,
          35,
          36,
          37,
          38,
          39,
          40,
          41,
          42,
          43,
          44,
          45,
          46,
          47,
          48,
          49,
          50,
          51,
          52,
          53,
          54,
          55,
          56,
          57,
          58,
          59,
          60,
          61
         ],
         "y": [
          3.5284997457304197,
          3.709375059293182,
          3.88086856949184,
          4.053019108581294,
          4.253137324158956,
          4.456463526674544,
          4.650209273945267,
          4.855982549823204,
          5.040589665365273,
          5.23206718869212,
          5.437147831869432,
          5.646780810291585,
          5.853302553224558,
          6.046132047329639,
          6.2632048305798955,
          6.478053017249978,
          6.712309328589696,
          6.96551062034348,
          7.231875457206259,
          7.53629441378163,
          7.854154886588122,
          8.148018553405315,
          8.43915104053856,
          8.713453227396377,
          9.0105471549374,
          9.323228128927733,
          9.628094932196971,
          9.95699361597069,
          10.350121514095582,
          10.701795804015854,
          11.037318603655628,
          11.422084289625186,
          11.842674167242228,
          12.308887616025494,
          12.77660947279925,
          13.299530388688106,
          13.854720419728329,
          14.388865588755477,
          14.979573251184087,
          15.577733972329673,
          16.242051548309963,
          16.944504518262814,
          17.665774026103712,
          18.427078461219118,
          19.19389347461819,
          19.874083194107286,
          20.58947734555864,
          21.307403258828842,
          22.021319486547007,
          22.709813622576274,
          23.4548868053173,
          24.26788649782021,
          25.027029779014804,
          25.730469419744082,
          26.473800791407733,
          27.18245447524148,
          27.934072927191842,
          28.70494701031808,
          29.468418678859102,
          30.30498057356718,
          31.088197511616414,
          31.74214302962095
         ]
        },
        {
         "line": {
          "color": "rgba(238, 118, 0, 1.0)",
          "dash": "solid",
          "shape": "linear",
          "width": 1.3
         },
         "mode": "lines",
         "name": "min",
         "text": "",
         "type": "scatter",
         "x": [
          0,
          1,
          2,
          3,
          4,
          5,
          6,
          7,
          8,
          9,
          10,
          11,
          12,
          13,
          14,
          15,
          16,
          17,
          18,
          19,
          20,
          21,
          22,
          23,
          24,
          25,
          26,
          27,
          28,
          29,
          30,
          31,
          32,
          33,
          34,
          35,
          36,
          37,
          38,
          39,
          40,
          41,
          42,
          43,
          44,
          45,
          46,
          47,
          48,
          49,
          50,
          51,
          52,
          53,
          54,
          55,
          56,
          57,
          58,
          59,
          60,
          61
         ],
         "y": [
          3.528498586666694,
          2.750664187606009,
          2.2598476824431284,
          2.4122752544537325,
          2.389024922523384,
          2.372607020345743,
          2.58474393219769,
          2.5468425259093137,
          2.7852731683594447,
          2.805464079617739,
          2.5597557937361644,
          2.4332395075911744,
          2.962780698364496,
          3.121430628177936,
          3.295659208430694,
          3.1870792355444433,
          3.4341568377964315,
          3.5410495303215983,
          3.7865958453342916,
          3.737674209654148,
          4.196941341765954,
          4.4971849032380025,
          4.41984129298973,
          4.051675895712706,
          4.065211828690969,
          3.6223236769802387,
          3.459484717829631,
          4.272786964782054,
          4.345254678264691,
          4.577826617618487,
          5.143613755398897,
          5.132606861712529,
          5.388503774342096,
          6.003186275859759,
          5.627536498415067,
          6.209872487713887,
          6.680559230394437,
          7.049976570630368,
          7.909179385598183,
          9.04601833987126,
          9.316443409780282,
          8.125214303676898,
          9.047235901439374,
          8.542210591670917,
          9.030372554628299,
          9.46275938345799,
          8.955787463497382,
          10.61722102254464,
          10.085526097116471,
          9.545456171744053,
          8.623563387996528,
          8.65083982632549,
          7.758370029366127,
          7.006769459258447,
          7.028726991795466,
          6.310288815641257,
          6.046136965186193,
          6.399696677321214,
          5.753035785427974,
          5.51527465735861,
          6.702777087399997,
          6.808587179752057
         ]
        },
        {
         "line": {
          "color": "rgba(48, 144, 84, 1.0)",
          "dash": "solid",
          "shape": "linear",
          "width": 1.3
         },
         "mode": "lines",
         "name": "max",
         "text": "",
         "type": "scatter",
         "x": [
          0,
          1,
          2,
          3,
          4,
          5,
          6,
          7,
          8,
          9,
          10,
          11,
          12,
          13,
          14,
          15,
          16,
          17,
          18,
          19,
          20,
          21,
          22,
          23,
          24,
          25,
          26,
          27,
          28,
          29,
          30,
          31,
          32,
          33,
          34,
          35,
          36,
          37,
          38,
          39,
          40,
          41,
          42,
          43,
          44,
          45,
          46,
          47,
          48,
          49,
          50,
          51,
          52,
          53,
          54,
          55,
          56,
          57,
          58,
          59,
          60,
          61
         ],
         "y": [
          3.528499994571392,
          5.079122545479445,
          6.100674828138846,
          6.309939455878331,
          6.965387168560029,
          7.551575168940086,
          8.270365842375567,
          8.1043485169377,
          8.827962402920503,
          8.488025193534424,
          9.244547215023921,
          8.874897395581671,
          9.032531540234933,
          10.43873997396513,
          10.773241191194534,
          10.965616715320147,
          10.57792904685842,
          12.03082448708857,
          12.127057315702237,
          14.082238294555811,
          13.292979899305012,
          14.803647070450562,
          14.643725992795945,
          16.28066391837091,
          15.610858538638775,
          16.173576840813713,
          17.500357637619604,
          17.24807490972519,
          18.383640497129587,
          18.117186089486633,
          20.19207935810324,
          19.8966097645472,
          20.74333112215165,
          20.36976614296539,
          21.552865621942374,
          24.66234751887868,
          24.219930369254183,
          24.83505114312979,
          28.413721433896942,
          26.308496987982753,
          26.420493062301638,
          30.111045531254547,
          28.0002550962673,
          29.36081044435582,
          31.254535812487674,
          31.791023721285303,
          32.77792984604945,
          33.27329673913222,
          37.37477147531022,
          36.365785993231185,
          40.85189123607577,
          44.35914685810551,
          42.827290167597845,
          46.25967876738827,
          47.285284632638785,
          51.26645077273325,
          57.76407911079407,
          59.46121773177044,
          60.437261808465806,
          63.26971779737091,
          65.12579654636383,
          67.68095939876615
         ]
        },
        {
         "line": {
          "color": "rgba(98, 98, 222, 1.0)",
          "dash": "solid",
          "shape": "linear",
          "width": 1.3
         },
         "mode": "lines",
         "name": "s2+",
         "text": "",
         "type": "scatter",
         "x": [
          0,
          1,
          2,
          3,
          4,
          5,
          6,
          7,
          8,
          9,
          10,
          11,
          12,
          13,
          14,
          15,
          16,
          17,
          18,
          19,
          20,
          21,
          22,
          23,
          24,
          25,
          26,
          27,
          28,
          29,
          30,
          31,
          32,
          33,
          34,
          35,
          36,
          37,
          38,
          39,
          40,
          41,
          42,
          43,
          44,
          45,
          46,
          47,
          48,
          49,
          50,
          51,
          52,
          53,
          54,
          55,
          56,
          57,
          58,
          59,
          60,
          61
         ],
         "y": [
          3.528500245265061,
          4.637095328120359,
          5.111315899745321,
          5.514395415149978,
          5.987652438113731,
          6.330650129245807,
          6.726765213879536,
          7.0870685222925065,
          7.480521789854055,
          7.834318699224408,
          8.251750921036324,
          8.684431976044879,
          9.037869235581242,
          9.403685950457302,
          9.824989384359055,
          10.18376308523426,
          10.658081798535322,
          11.222947591903884,
          11.827563975892092,
          12.522160090577112,
          13.128304235228258,
          13.589385334985243,
          13.986013794043444,
          14.441232218388663,
          14.934026019339829,
          15.45694250807979,
          15.885146086997977,
          16.35555297893509,
          16.845665628902132,
          17.159898274907057,
          17.292798561468874,
          17.579820111018122,
          17.948657970004124,
          18.488286316709594,
          18.90698731791114,
          19.790091601209433,
          20.55838437010135,
          20.927316663266378,
          21.80900112174509,
          22.420733864243743,
          23.40204630548722,
          24.627041260963523,
          25.77125415956161,
          26.93106123229135,
          28.210838980237373,
          28.96566816290088,
          30.343035408077178,
          31.70956344442893,
          33.50675230712136,
          35.297619475782604,
          37.651214017175995,
          39.6500360052188,
          41.66483445210572,
          43.75736472312091,
          46.18949933902782,
          48.08722539958634,
          50.41659039572752,
          52.68278830896813,
          55.10887922059067,
          57.660177410945224,
          59.64664577715514,
          60.95091816374237
         ]
        },
        {
         "line": {
          "color": "rgba(217, 66, 85, 1.0)",
          "dash": "solid",
          "shape": "linear",
          "width": 1.3
         },
         "mode": "lines",
         "name": "s2-",
         "text": "",
         "type": "scatter",
         "x": [
          0,
          1,
          2,
          3,
          4,
          5,
          6,
          7,
          8,
          9,
          10,
          11,
          12,
          13,
          14,
          15,
          16,
          17,
          18,
          19,
          20,
          21,
          22,
          23,
          24,
          25,
          26,
          27,
          28,
          29,
          30,
          31,
          32,
          33,
          34,
          35,
          36,
          37,
          38,
          39,
          40,
          41,
          42,
          43,
          44,
          45,
          46,
          47,
          48,
          49,
          50,
          51,
          52,
          53,
          54,
          55,
          56,
          57,
          58,
          59,
          60,
          61
         ],
         "y": [
          3.528499246195778,
          2.781654790466006,
          2.6504212392383586,
          2.5916428020126103,
          2.518622210204182,
          2.5822769241032804,
          2.573653334010999,
          2.624896577353903,
          2.600657540876492,
          2.6298156781598334,
          2.6225447427025412,
          2.6091296445382897,
          2.6687358708678737,
          2.688578144201975,
          2.7014202768007367,
          2.7723429492656977,
          2.76653685864407,
          2.7080736487830777,
          2.6361869385204275,
          2.550428736986149,
          2.580005537947986,
          2.706651771825388,
          2.8922882870336775,
          2.9856742364040922,
          3.087068290534972,
          3.1895137497756747,
          3.371043777395966,
          3.558434253006291,
          3.8545773992890315,
          4.24369333312465,
          4.78183864584238,
          5.26434846823225,
          5.736690364480335,
          6.129488915341396,
          6.646231627687361,
          6.808969176166784,
          7.151056469355307,
          7.850414514244573,
          8.150145380623082,
          8.734734080415599,
          9.0820567911327,
          9.261967775562107,
          9.560293892645808,
          9.923095690146885,
          10.176947968999006,
          10.782498225313688,
          10.835919283040106,
          10.90524307322875,
          10.53588666597265,
          10.12200776936994,
          9.258559593458605,
          8.88573699042162,
          8.389225105923888,
          7.703574116367256,
          6.758102243787644,
          6.277683550896627,
          5.451555458656173,
          4.727105711668037,
          3.827958137127532,
          2.9497837361891177,
          2.52974924607768,
          2.533367895499532
         ]
        },
        {
         "line": {
          "color": "rgba(173, 252, 252, 1.0)",
          "dash": "solid",
          "shape": "linear",
          "width": 1.3
         },
         "mode": "lines",
         "name": "s3+",
         "text": "",
         "type": "scatter",
         "x": [
          0,
          1,
          2,
          3,
          4,
          5,
          6,
          7,
          8,
          9,
          10,
          11,
          12,
          13,
          14,
          15,
          16,
          17,
          18,
          19,
          20,
          21,
          22,
          23,
          24,
          25,
          26,
          27,
          28,
          29,
          30,
          31,
          32,
          33,
          34,
          35,
          36,
          37,
          38,
          39,
          40,
          41,
          42,
          43,
          44,
          45,
          46,
          47,
          48,
          49,
          50,
          51,
          52,
          53,
          54,
          55,
          56,
          57,
          58,
          59,
          60,
          61
         ],
         "y": [
          3.528500495032382,
          5.100955462533947,
          5.726539564872061,
          6.245083568434319,
          6.854909995091117,
          7.267743430531439,
          7.765043183846668,
          8.202611508527157,
          8.700487852098446,
          9.13544445449055,
          9.659052465619771,
          10.203257558921528,
          10.630152576759585,
          11.082462902021136,
          11.605881661248633,
          12.0366181192264,
          12.630968033508136,
          13.351666077684085,
          14.125408235235009,
          15.015092928974854,
          15.765378909548328,
          16.310068725775206,
          16.759445170795885,
          17.3051217138848,
          17.895765451541042,
          18.52379969765582,
          19.01367166439848,
          19.55483266041729,
          20.093437686305407,
          20.38894951035266,
          20.420538540375496,
          20.658688021714593,
          21.001649871385073,
          21.57798566705164,
          21.97217624046708,
          23.035372207470097,
          23.910216345287864,
          24.19654220052183,
          25.223715057025597,
          25.842233810200785,
          26.982043684075848,
          28.468309632313876,
          29.823994226290566,
          31.18305261782746,
          32.71931173304696,
          33.51146064729768,
          35.219814439336446,
          36.91064353722898,
          39.24946871740854,
          41.59152240238577,
          44.74937762310534,
          47.341110758918106,
          49.98373678865117,
          52.77081237480932,
          56.047348612837865,
          58.53961086175876,
          61.65784912999534,
          64.67170895829314,
          67.92910949145646,
          71.33777582963427,
          73.92586990992451,
          75.55530573080308
         ]
        },
        {
         "line": {
          "color": "rgba(70, 160, 240, 1.0)",
          "dash": "solid",
          "shape": "linear",
          "width": 1.3
         },
         "mode": "lines",
         "name": "s3-",
         "text": "",
         "type": "scatter",
         "x": [
          0,
          1,
          2,
          3,
          4,
          5,
          6,
          7,
          8,
          9,
          10,
          11,
          12,
          13,
          14,
          15,
          16,
          17,
          18,
          19,
          20,
          21,
          22,
          23,
          24,
          25,
          26,
          27,
          28,
          29,
          30,
          31,
          32,
          33,
          34,
          35,
          36,
          37,
          38,
          39,
          40,
          41,
          42,
          43,
          44,
          45,
          46,
          47,
          48,
          49,
          50,
          51,
          52,
          53,
          54,
          55,
          56,
          57,
          58,
          59,
          60,
          61
         ],
         "y": [
          3.528498996428457,
          2.3177946560524183,
          2.035197574111618,
          1.8609546487282684,
          1.6513646532267952,
          1.6451836228176486,
          1.5353753640438657,
          1.5093535911192522,
          1.3806914786321005,
          1.3286899228936904,
          1.2152431981190948,
          1.0903040616616424,
          1.0764525296895315,
          1.0098011926381427,
          0.920527999911157,
          0.9194879152735576,
          0.7936506236712566,
          0.5793551630028762,
          0.3383426791775112,
          0.057495898588408645,
          -0.0570691363720825,
          -0.014031618964575804,
          0.11885691028123521,
          0.12178474090794988,
          0.1253288583337573,
          0.12265656019964585,
          0.2425181999954627,
          0.35915457152409164,
          0.6068053418857571,
          1.014642097679049,
          1.6540986669357567,
          2.185480557535781,
          2.683698463099388,
          3.0397895649993463,
          3.581042705131416,
          3.5636885699061227,
          3.7992244941687954,
          4.5811889769891225,
          4.735431445342579,
          5.313234134458563,
          5.502059412544069,
          5.420699404211753,
          5.507553825916856,
          5.671104304610773,
          5.668475216189414,
          6.236705740916889,
          5.959140251780839,
          5.704162980428703,
          4.793170255685472,
          3.828104842766775,
          2.1603959875292547,
          1.1946622367223225,
          0.07032276937842828,
          -1.3098735353211577,
          -3.099747030022401,
          -4.174701911275804,
          -5.789703275611662,
          -7.26181493765698,
          -8.992272133738252,
          -10.72781468249991,
          -11.74947488669169,
          -12.071019671561178
         ]
        }
       ],
       "layout": {
        "legend": {
         "bgcolor": "#F2F3F7",
         "font": {
          "color": "#505050"
         }
        },
        "paper_bgcolor": "#F2F3F7",
        "plot_bgcolor": "#F2F3F7",
        "template": {
         "data": {
          "bar": [
           {
            "error_x": {
             "color": "#2a3f5f"
            },
            "error_y": {
             "color": "#2a3f5f"
            },
            "marker": {
             "line": {
              "color": "#E5ECF6",
              "width": 0.5
             },
             "pattern": {
              "fillmode": "overlay",
              "size": 10,
              "solidity": 0.2
             }
            },
            "type": "bar"
           }
          ],
          "barpolar": [
           {
            "marker": {
             "line": {
              "color": "#E5ECF6",
              "width": 0.5
             },
             "pattern": {
              "fillmode": "overlay",
              "size": 10,
              "solidity": 0.2
             }
            },
            "type": "barpolar"
           }
          ],
          "carpet": [
           {
            "aaxis": {
             "endlinecolor": "#2a3f5f",
             "gridcolor": "white",
             "linecolor": "white",
             "minorgridcolor": "white",
             "startlinecolor": "#2a3f5f"
            },
            "baxis": {
             "endlinecolor": "#2a3f5f",
             "gridcolor": "white",
             "linecolor": "white",
             "minorgridcolor": "white",
             "startlinecolor": "#2a3f5f"
            },
            "type": "carpet"
           }
          ],
          "choropleth": [
           {
            "colorbar": {
             "outlinewidth": 0,
             "ticks": ""
            },
            "type": "choropleth"
           }
          ],
          "contour": [
           {
            "colorbar": {
             "outlinewidth": 0,
             "ticks": ""
            },
            "colorscale": [
             [
              0,
              "#0d0887"
             ],
             [
              0.1111111111111111,
              "#46039f"
             ],
             [
              0.2222222222222222,
              "#7201a8"
             ],
             [
              0.3333333333333333,
              "#9c179e"
             ],
             [
              0.4444444444444444,
              "#bd3786"
             ],
             [
              0.5555555555555556,
              "#d8576b"
             ],
             [
              0.6666666666666666,
              "#ed7953"
             ],
             [
              0.7777777777777778,
              "#fb9f3a"
             ],
             [
              0.8888888888888888,
              "#fdca26"
             ],
             [
              1,
              "#f0f921"
             ]
            ],
            "type": "contour"
           }
          ],
          "contourcarpet": [
           {
            "colorbar": {
             "outlinewidth": 0,
             "ticks": ""
            },
            "type": "contourcarpet"
           }
          ],
          "heatmap": [
           {
            "colorbar": {
             "outlinewidth": 0,
             "ticks": ""
            },
            "colorscale": [
             [
              0,
              "#0d0887"
             ],
             [
              0.1111111111111111,
              "#46039f"
             ],
             [
              0.2222222222222222,
              "#7201a8"
             ],
             [
              0.3333333333333333,
              "#9c179e"
             ],
             [
              0.4444444444444444,
              "#bd3786"
             ],
             [
              0.5555555555555556,
              "#d8576b"
             ],
             [
              0.6666666666666666,
              "#ed7953"
             ],
             [
              0.7777777777777778,
              "#fb9f3a"
             ],
             [
              0.8888888888888888,
              "#fdca26"
             ],
             [
              1,
              "#f0f921"
             ]
            ],
            "type": "heatmap"
           }
          ],
          "heatmapgl": [
           {
            "colorbar": {
             "outlinewidth": 0,
             "ticks": ""
            },
            "colorscale": [
             [
              0,
              "#0d0887"
             ],
             [
              0.1111111111111111,
              "#46039f"
             ],
             [
              0.2222222222222222,
              "#7201a8"
             ],
             [
              0.3333333333333333,
              "#9c179e"
             ],
             [
              0.4444444444444444,
              "#bd3786"
             ],
             [
              0.5555555555555556,
              "#d8576b"
             ],
             [
              0.6666666666666666,
              "#ed7953"
             ],
             [
              0.7777777777777778,
              "#fb9f3a"
             ],
             [
              0.8888888888888888,
              "#fdca26"
             ],
             [
              1,
              "#f0f921"
             ]
            ],
            "type": "heatmapgl"
           }
          ],
          "histogram": [
           {
            "marker": {
             "pattern": {
              "fillmode": "overlay",
              "size": 10,
              "solidity": 0.2
             }
            },
            "type": "histogram"
           }
          ],
          "histogram2d": [
           {
            "colorbar": {
             "outlinewidth": 0,
             "ticks": ""
            },
            "colorscale": [
             [
              0,
              "#0d0887"
             ],
             [
              0.1111111111111111,
              "#46039f"
             ],
             [
              0.2222222222222222,
              "#7201a8"
             ],
             [
              0.3333333333333333,
              "#9c179e"
             ],
             [
              0.4444444444444444,
              "#bd3786"
             ],
             [
              0.5555555555555556,
              "#d8576b"
             ],
             [
              0.6666666666666666,
              "#ed7953"
             ],
             [
              0.7777777777777778,
              "#fb9f3a"
             ],
             [
              0.8888888888888888,
              "#fdca26"
             ],
             [
              1,
              "#f0f921"
             ]
            ],
            "type": "histogram2d"
           }
          ],
          "histogram2dcontour": [
           {
            "colorbar": {
             "outlinewidth": 0,
             "ticks": ""
            },
            "colorscale": [
             [
              0,
              "#0d0887"
             ],
             [
              0.1111111111111111,
              "#46039f"
             ],
             [
              0.2222222222222222,
              "#7201a8"
             ],
             [
              0.3333333333333333,
              "#9c179e"
             ],
             [
              0.4444444444444444,
              "#bd3786"
             ],
             [
              0.5555555555555556,
              "#d8576b"
             ],
             [
              0.6666666666666666,
              "#ed7953"
             ],
             [
              0.7777777777777778,
              "#fb9f3a"
             ],
             [
              0.8888888888888888,
              "#fdca26"
             ],
             [
              1,
              "#f0f921"
             ]
            ],
            "type": "histogram2dcontour"
           }
          ],
          "mesh3d": [
           {
            "colorbar": {
             "outlinewidth": 0,
             "ticks": ""
            },
            "type": "mesh3d"
           }
          ],
          "parcoords": [
           {
            "line": {
             "colorbar": {
              "outlinewidth": 0,
              "ticks": ""
             }
            },
            "type": "parcoords"
           }
          ],
          "pie": [
           {
            "automargin": true,
            "type": "pie"
           }
          ],
          "scatter": [
           {
            "fillpattern": {
             "fillmode": "overlay",
             "size": 10,
             "solidity": 0.2
            },
            "type": "scatter"
           }
          ],
          "scatter3d": [
           {
            "line": {
             "colorbar": {
              "outlinewidth": 0,
              "ticks": ""
             }
            },
            "marker": {
             "colorbar": {
              "outlinewidth": 0,
              "ticks": ""
             }
            },
            "type": "scatter3d"
           }
          ],
          "scattercarpet": [
           {
            "marker": {
             "colorbar": {
              "outlinewidth": 0,
              "ticks": ""
             }
            },
            "type": "scattercarpet"
           }
          ],
          "scattergeo": [
           {
            "marker": {
             "colorbar": {
              "outlinewidth": 0,
              "ticks": ""
             }
            },
            "type": "scattergeo"
           }
          ],
          "scattergl": [
           {
            "marker": {
             "colorbar": {
              "outlinewidth": 0,
              "ticks": ""
             }
            },
            "type": "scattergl"
           }
          ],
          "scattermapbox": [
           {
            "marker": {
             "colorbar": {
              "outlinewidth": 0,
              "ticks": ""
             }
            },
            "type": "scattermapbox"
           }
          ],
          "scatterpolar": [
           {
            "marker": {
             "colorbar": {
              "outlinewidth": 0,
              "ticks": ""
             }
            },
            "type": "scatterpolar"
           }
          ],
          "scatterpolargl": [
           {
            "marker": {
             "colorbar": {
              "outlinewidth": 0,
              "ticks": ""
             }
            },
            "type": "scatterpolargl"
           }
          ],
          "scatterternary": [
           {
            "marker": {
             "colorbar": {
              "outlinewidth": 0,
              "ticks": ""
             }
            },
            "type": "scatterternary"
           }
          ],
          "surface": [
           {
            "colorbar": {
             "outlinewidth": 0,
             "ticks": ""
            },
            "colorscale": [
             [
              0,
              "#0d0887"
             ],
             [
              0.1111111111111111,
              "#46039f"
             ],
             [
              0.2222222222222222,
              "#7201a8"
             ],
             [
              0.3333333333333333,
              "#9c179e"
             ],
             [
              0.4444444444444444,
              "#bd3786"
             ],
             [
              0.5555555555555556,
              "#d8576b"
             ],
             [
              0.6666666666666666,
              "#ed7953"
             ],
             [
              0.7777777777777778,
              "#fb9f3a"
             ],
             [
              0.8888888888888888,
              "#fdca26"
             ],
             [
              1,
              "#f0f921"
             ]
            ],
            "type": "surface"
           }
          ],
          "table": [
           {
            "cells": {
             "fill": {
              "color": "#EBF0F8"
             },
             "line": {
              "color": "white"
             }
            },
            "header": {
             "fill": {
              "color": "#C8D4E3"
             },
             "line": {
              "color": "white"
             }
            },
            "type": "table"
           }
          ]
         },
         "layout": {
          "annotationdefaults": {
           "arrowcolor": "#2a3f5f",
           "arrowhead": 0,
           "arrowwidth": 1
          },
          "autotypenumbers": "strict",
          "coloraxis": {
           "colorbar": {
            "outlinewidth": 0,
            "ticks": ""
           }
          },
          "colorscale": {
           "diverging": [
            [
             0,
             "#8e0152"
            ],
            [
             0.1,
             "#c51b7d"
            ],
            [
             0.2,
             "#de77ae"
            ],
            [
             0.3,
             "#f1b6da"
            ],
            [
             0.4,
             "#fde0ef"
            ],
            [
             0.5,
             "#f7f7f7"
            ],
            [
             0.6,
             "#e6f5d0"
            ],
            [
             0.7,
             "#b8e186"
            ],
            [
             0.8,
             "#7fbc41"
            ],
            [
             0.9,
             "#4d9221"
            ],
            [
             1,
             "#276419"
            ]
           ],
           "sequential": [
            [
             0,
             "#0d0887"
            ],
            [
             0.1111111111111111,
             "#46039f"
            ],
            [
             0.2222222222222222,
             "#7201a8"
            ],
            [
             0.3333333333333333,
             "#9c179e"
            ],
            [
             0.4444444444444444,
             "#bd3786"
            ],
            [
             0.5555555555555556,
             "#d8576b"
            ],
            [
             0.6666666666666666,
             "#ed7953"
            ],
            [
             0.7777777777777778,
             "#fb9f3a"
            ],
            [
             0.8888888888888888,
             "#fdca26"
            ],
            [
             1,
             "#f0f921"
            ]
           ],
           "sequentialminus": [
            [
             0,
             "#0d0887"
            ],
            [
             0.1111111111111111,
             "#46039f"
            ],
            [
             0.2222222222222222,
             "#7201a8"
            ],
            [
             0.3333333333333333,
             "#9c179e"
            ],
            [
             0.4444444444444444,
             "#bd3786"
            ],
            [
             0.5555555555555556,
             "#d8576b"
            ],
            [
             0.6666666666666666,
             "#ed7953"
            ],
            [
             0.7777777777777778,
             "#fb9f3a"
            ],
            [
             0.8888888888888888,
             "#fdca26"
            ],
            [
             1,
             "#f0f921"
            ]
           ]
          },
          "colorway": [
           "#636efa",
           "#EF553B",
           "#00cc96",
           "#ab63fa",
           "#FFA15A",
           "#19d3f3",
           "#FF6692",
           "#B6E880",
           "#FF97FF",
           "#FECB52"
          ],
          "font": {
           "color": "#2a3f5f"
          },
          "geo": {
           "bgcolor": "white",
           "lakecolor": "white",
           "landcolor": "#E5ECF6",
           "showlakes": true,
           "showland": true,
           "subunitcolor": "white"
          },
          "hoverlabel": {
           "align": "left"
          },
          "hovermode": "closest",
          "mapbox": {
           "style": "light"
          },
          "paper_bgcolor": "white",
          "plot_bgcolor": "#E5ECF6",
          "polar": {
           "angularaxis": {
            "gridcolor": "white",
            "linecolor": "white",
            "ticks": ""
           },
           "bgcolor": "#E5ECF6",
           "radialaxis": {
            "gridcolor": "white",
            "linecolor": "white",
            "ticks": ""
           }
          },
          "scene": {
           "xaxis": {
            "backgroundcolor": "#E5ECF6",
            "gridcolor": "white",
            "gridwidth": 2,
            "linecolor": "white",
            "showbackground": true,
            "ticks": "",
            "zerolinecolor": "white"
           },
           "yaxis": {
            "backgroundcolor": "#E5ECF6",
            "gridcolor": "white",
            "gridwidth": 2,
            "linecolor": "white",
            "showbackground": true,
            "ticks": "",
            "zerolinecolor": "white"
           },
           "zaxis": {
            "backgroundcolor": "#E5ECF6",
            "gridcolor": "white",
            "gridwidth": 2,
            "linecolor": "white",
            "showbackground": true,
            "ticks": "",
            "zerolinecolor": "white"
           }
          },
          "shapedefaults": {
           "line": {
            "color": "#2a3f5f"
           }
          },
          "ternary": {
           "aaxis": {
            "gridcolor": "white",
            "linecolor": "white",
            "ticks": ""
           },
           "baxis": {
            "gridcolor": "white",
            "linecolor": "white",
            "ticks": ""
           },
           "bgcolor": "#E5ECF6",
           "caxis": {
            "gridcolor": "white",
            "linecolor": "white",
            "ticks": ""
           }
          },
          "title": {
           "x": 0.05
          },
          "xaxis": {
           "automargin": true,
           "gridcolor": "white",
           "linecolor": "white",
           "ticks": "",
           "title": {
            "standoff": 15
           },
           "zerolinecolor": "white",
           "zerolinewidth": 2
          },
          "yaxis": {
           "automargin": true,
           "gridcolor": "white",
           "linecolor": "white",
           "ticks": "",
           "title": {
            "standoff": 15
           },
           "zerolinecolor": "white",
           "zerolinewidth": 2
          }
         }
        },
        "title": {
         "font": {
          "color": "#484848"
         }
        },
        "xaxis": {
         "gridcolor": "#E1E5ED",
         "showgrid": true,
         "tickfont": {
          "color": "#505050"
         },
         "title": {
          "font": {
           "color": "#505050"
          },
          "text": ""
         },
         "zerolinecolor": "#E1E5ED"
        },
        "yaxis": {
         "gridcolor": "#E1E5ED",
         "showgrid": true,
         "tickfont": {
          "color": "#505050"
         },
         "title": {
          "font": {
           "color": "#505050"
          },
          "text": ""
         },
         "zerolinecolor": "#E1E5ED"
        }
       }
      },
      "text/html": [
       "<div>                            <div id=\"53d54241-7836-44f8-9e3c-7b2a2a556825\" class=\"plotly-graph-div\" style=\"height:525px; width:100%;\"></div>            <script type=\"text/javascript\">                require([\"plotly\"], function(Plotly) {                    window.PLOTLYENV=window.PLOTLYENV || {};\n",
       "                    window.PLOTLYENV.BASE_URL='https://plot.ly';                                    if (document.getElementById(\"53d54241-7836-44f8-9e3c-7b2a2a556825\")) {                    Plotly.newPlot(                        \"53d54241-7836-44f8-9e3c-7b2a2a556825\",                        [{\"line\":{\"color\":\"rgba(0, 128, 240, 1.0)\",\"dash\":\"solid\",\"shape\":\"linear\",\"width\":1.3},\"mode\":\"lines\",\"name\":\"mean\",\"text\":\"\",\"x\":[0,1,2,3,4,5,6,7,8,9,10,11,12,13,14,15,16,17,18,19,20,21,22,23,24,25,26,27,28,29,30,31,32,33,34,35,36,37,38,39,40,41,42,43,44,45,46,47,48,49,50,51,52,53,54,55,56,57,58,59,60,61],\"y\":[3.5284997457304197,3.709375059293182,3.88086856949184,4.053019108581294,4.253137324158956,4.456463526674544,4.650209273945267,4.855982549823204,5.040589665365273,5.23206718869212,5.437147831869432,5.646780810291585,5.853302553224558,6.046132047329639,6.2632048305798955,6.478053017249978,6.712309328589696,6.96551062034348,7.231875457206259,7.53629441378163,7.854154886588122,8.148018553405315,8.43915104053856,8.713453227396377,9.0105471549374,9.323228128927733,9.628094932196971,9.95699361597069,10.350121514095582,10.701795804015854,11.037318603655628,11.422084289625186,11.842674167242228,12.308887616025494,12.77660947279925,13.299530388688106,13.854720419728329,14.388865588755477,14.979573251184087,15.577733972329673,16.242051548309963,16.944504518262814,17.665774026103712,18.427078461219118,19.19389347461819,19.874083194107286,20.58947734555864,21.307403258828842,22.021319486547007,22.709813622576274,23.4548868053173,24.26788649782021,25.027029779014804,25.730469419744082,26.473800791407733,27.18245447524148,27.934072927191842,28.70494701031808,29.468418678859102,30.30498057356718,31.088197511616414,31.74214302962095],\"type\":\"scatter\"},{\"line\":{\"color\":\"rgba(238, 118, 0, 1.0)\",\"dash\":\"solid\",\"shape\":\"linear\",\"width\":1.3},\"mode\":\"lines\",\"name\":\"min\",\"text\":\"\",\"x\":[0,1,2,3,4,5,6,7,8,9,10,11,12,13,14,15,16,17,18,19,20,21,22,23,24,25,26,27,28,29,30,31,32,33,34,35,36,37,38,39,40,41,42,43,44,45,46,47,48,49,50,51,52,53,54,55,56,57,58,59,60,61],\"y\":[3.528498586666694,2.750664187606009,2.2598476824431284,2.4122752544537325,2.389024922523384,2.372607020345743,2.58474393219769,2.5468425259093137,2.7852731683594447,2.805464079617739,2.5597557937361644,2.4332395075911744,2.962780698364496,3.121430628177936,3.295659208430694,3.1870792355444433,3.4341568377964315,3.5410495303215983,3.7865958453342916,3.737674209654148,4.196941341765954,4.4971849032380025,4.41984129298973,4.051675895712706,4.065211828690969,3.6223236769802387,3.459484717829631,4.272786964782054,4.345254678264691,4.577826617618487,5.143613755398897,5.132606861712529,5.388503774342096,6.003186275859759,5.627536498415067,6.209872487713887,6.680559230394437,7.049976570630368,7.909179385598183,9.04601833987126,9.316443409780282,8.125214303676898,9.047235901439374,8.542210591670917,9.030372554628299,9.46275938345799,8.955787463497382,10.61722102254464,10.085526097116471,9.545456171744053,8.623563387996528,8.65083982632549,7.758370029366127,7.006769459258447,7.028726991795466,6.310288815641257,6.046136965186193,6.399696677321214,5.753035785427974,5.51527465735861,6.702777087399997,6.808587179752057],\"type\":\"scatter\"},{\"line\":{\"color\":\"rgba(48, 144, 84, 1.0)\",\"dash\":\"solid\",\"shape\":\"linear\",\"width\":1.3},\"mode\":\"lines\",\"name\":\"max\",\"text\":\"\",\"x\":[0,1,2,3,4,5,6,7,8,9,10,11,12,13,14,15,16,17,18,19,20,21,22,23,24,25,26,27,28,29,30,31,32,33,34,35,36,37,38,39,40,41,42,43,44,45,46,47,48,49,50,51,52,53,54,55,56,57,58,59,60,61],\"y\":[3.528499994571392,5.079122545479445,6.100674828138846,6.309939455878331,6.965387168560029,7.551575168940086,8.270365842375567,8.1043485169377,8.827962402920503,8.488025193534424,9.244547215023921,8.874897395581671,9.032531540234933,10.43873997396513,10.773241191194534,10.965616715320147,10.57792904685842,12.03082448708857,12.127057315702237,14.082238294555811,13.292979899305012,14.803647070450562,14.643725992795945,16.28066391837091,15.610858538638775,16.173576840813713,17.500357637619604,17.24807490972519,18.383640497129587,18.117186089486633,20.19207935810324,19.8966097645472,20.74333112215165,20.36976614296539,21.552865621942374,24.66234751887868,24.219930369254183,24.83505114312979,28.413721433896942,26.308496987982753,26.420493062301638,30.111045531254547,28.0002550962673,29.36081044435582,31.254535812487674,31.791023721285303,32.77792984604945,33.27329673913222,37.37477147531022,36.365785993231185,40.85189123607577,44.35914685810551,42.827290167597845,46.25967876738827,47.285284632638785,51.26645077273325,57.76407911079407,59.46121773177044,60.437261808465806,63.26971779737091,65.12579654636383,67.68095939876615],\"type\":\"scatter\"},{\"line\":{\"color\":\"rgba(98, 98, 222, 1.0)\",\"dash\":\"solid\",\"shape\":\"linear\",\"width\":1.3},\"mode\":\"lines\",\"name\":\"s2+\",\"text\":\"\",\"x\":[0,1,2,3,4,5,6,7,8,9,10,11,12,13,14,15,16,17,18,19,20,21,22,23,24,25,26,27,28,29,30,31,32,33,34,35,36,37,38,39,40,41,42,43,44,45,46,47,48,49,50,51,52,53,54,55,56,57,58,59,60,61],\"y\":[3.528500245265061,4.637095328120359,5.111315899745321,5.514395415149978,5.987652438113731,6.330650129245807,6.726765213879536,7.0870685222925065,7.480521789854055,7.834318699224408,8.251750921036324,8.684431976044879,9.037869235581242,9.403685950457302,9.824989384359055,10.18376308523426,10.658081798535322,11.222947591903884,11.827563975892092,12.522160090577112,13.128304235228258,13.589385334985243,13.986013794043444,14.441232218388663,14.934026019339829,15.45694250807979,15.885146086997977,16.35555297893509,16.845665628902132,17.159898274907057,17.292798561468874,17.579820111018122,17.948657970004124,18.488286316709594,18.90698731791114,19.790091601209433,20.55838437010135,20.927316663266378,21.80900112174509,22.420733864243743,23.40204630548722,24.627041260963523,25.77125415956161,26.93106123229135,28.210838980237373,28.96566816290088,30.343035408077178,31.70956344442893,33.50675230712136,35.297619475782604,37.651214017175995,39.6500360052188,41.66483445210572,43.75736472312091,46.18949933902782,48.08722539958634,50.41659039572752,52.68278830896813,55.10887922059067,57.660177410945224,59.64664577715514,60.95091816374237],\"type\":\"scatter\"},{\"line\":{\"color\":\"rgba(217, 66, 85, 1.0)\",\"dash\":\"solid\",\"shape\":\"linear\",\"width\":1.3},\"mode\":\"lines\",\"name\":\"s2-\",\"text\":\"\",\"x\":[0,1,2,3,4,5,6,7,8,9,10,11,12,13,14,15,16,17,18,19,20,21,22,23,24,25,26,27,28,29,30,31,32,33,34,35,36,37,38,39,40,41,42,43,44,45,46,47,48,49,50,51,52,53,54,55,56,57,58,59,60,61],\"y\":[3.528499246195778,2.781654790466006,2.6504212392383586,2.5916428020126103,2.518622210204182,2.5822769241032804,2.573653334010999,2.624896577353903,2.600657540876492,2.6298156781598334,2.6225447427025412,2.6091296445382897,2.6687358708678737,2.688578144201975,2.7014202768007367,2.7723429492656977,2.76653685864407,2.7080736487830777,2.6361869385204275,2.550428736986149,2.580005537947986,2.706651771825388,2.8922882870336775,2.9856742364040922,3.087068290534972,3.1895137497756747,3.371043777395966,3.558434253006291,3.8545773992890315,4.24369333312465,4.78183864584238,5.26434846823225,5.736690364480335,6.129488915341396,6.646231627687361,6.808969176166784,7.151056469355307,7.850414514244573,8.150145380623082,8.734734080415599,9.0820567911327,9.261967775562107,9.560293892645808,9.923095690146885,10.176947968999006,10.782498225313688,10.835919283040106,10.90524307322875,10.53588666597265,10.12200776936994,9.258559593458605,8.88573699042162,8.389225105923888,7.703574116367256,6.758102243787644,6.277683550896627,5.451555458656173,4.727105711668037,3.827958137127532,2.9497837361891177,2.52974924607768,2.533367895499532],\"type\":\"scatter\"},{\"line\":{\"color\":\"rgba(173, 252, 252, 1.0)\",\"dash\":\"solid\",\"shape\":\"linear\",\"width\":1.3},\"mode\":\"lines\",\"name\":\"s3+\",\"text\":\"\",\"x\":[0,1,2,3,4,5,6,7,8,9,10,11,12,13,14,15,16,17,18,19,20,21,22,23,24,25,26,27,28,29,30,31,32,33,34,35,36,37,38,39,40,41,42,43,44,45,46,47,48,49,50,51,52,53,54,55,56,57,58,59,60,61],\"y\":[3.528500495032382,5.100955462533947,5.726539564872061,6.245083568434319,6.854909995091117,7.267743430531439,7.765043183846668,8.202611508527157,8.700487852098446,9.13544445449055,9.659052465619771,10.203257558921528,10.630152576759585,11.082462902021136,11.605881661248633,12.0366181192264,12.630968033508136,13.351666077684085,14.125408235235009,15.015092928974854,15.765378909548328,16.310068725775206,16.759445170795885,17.3051217138848,17.895765451541042,18.52379969765582,19.01367166439848,19.55483266041729,20.093437686305407,20.38894951035266,20.420538540375496,20.658688021714593,21.001649871385073,21.57798566705164,21.97217624046708,23.035372207470097,23.910216345287864,24.19654220052183,25.223715057025597,25.842233810200785,26.982043684075848,28.468309632313876,29.823994226290566,31.18305261782746,32.71931173304696,33.51146064729768,35.219814439336446,36.91064353722898,39.24946871740854,41.59152240238577,44.74937762310534,47.341110758918106,49.98373678865117,52.77081237480932,56.047348612837865,58.53961086175876,61.65784912999534,64.67170895829314,67.92910949145646,71.33777582963427,73.92586990992451,75.55530573080308],\"type\":\"scatter\"},{\"line\":{\"color\":\"rgba(70, 160, 240, 1.0)\",\"dash\":\"solid\",\"shape\":\"linear\",\"width\":1.3},\"mode\":\"lines\",\"name\":\"s3-\",\"text\":\"\",\"x\":[0,1,2,3,4,5,6,7,8,9,10,11,12,13,14,15,16,17,18,19,20,21,22,23,24,25,26,27,28,29,30,31,32,33,34,35,36,37,38,39,40,41,42,43,44,45,46,47,48,49,50,51,52,53,54,55,56,57,58,59,60,61],\"y\":[3.528498996428457,2.3177946560524183,2.035197574111618,1.8609546487282684,1.6513646532267952,1.6451836228176486,1.5353753640438657,1.5093535911192522,1.3806914786321005,1.3286899228936904,1.2152431981190948,1.0903040616616424,1.0764525296895315,1.0098011926381427,0.920527999911157,0.9194879152735576,0.7936506236712566,0.5793551630028762,0.3383426791775112,0.057495898588408645,-0.0570691363720825,-0.014031618964575804,0.11885691028123521,0.12178474090794988,0.1253288583337573,0.12265656019964585,0.2425181999954627,0.35915457152409164,0.6068053418857571,1.014642097679049,1.6540986669357567,2.185480557535781,2.683698463099388,3.0397895649993463,3.581042705131416,3.5636885699061227,3.7992244941687954,4.5811889769891225,4.735431445342579,5.313234134458563,5.502059412544069,5.420699404211753,5.507553825916856,5.671104304610773,5.668475216189414,6.236705740916889,5.959140251780839,5.704162980428703,4.793170255685472,3.828104842766775,2.1603959875292547,1.1946622367223225,0.07032276937842828,-1.3098735353211577,-3.099747030022401,-4.174701911275804,-5.789703275611662,-7.26181493765698,-8.992272133738252,-10.72781468249991,-11.74947488669169,-12.071019671561178],\"type\":\"scatter\"}],                        {\"legend\":{\"bgcolor\":\"#F2F3F7\",\"font\":{\"color\":\"#505050\"}},\"paper_bgcolor\":\"#F2F3F7\",\"plot_bgcolor\":\"#F2F3F7\",\"template\":{\"data\":{\"barpolar\":[{\"marker\":{\"line\":{\"color\":\"#E5ECF6\",\"width\":0.5},\"pattern\":{\"fillmode\":\"overlay\",\"size\":10,\"solidity\":0.2}},\"type\":\"barpolar\"}],\"bar\":[{\"error_x\":{\"color\":\"#2a3f5f\"},\"error_y\":{\"color\":\"#2a3f5f\"},\"marker\":{\"line\":{\"color\":\"#E5ECF6\",\"width\":0.5},\"pattern\":{\"fillmode\":\"overlay\",\"size\":10,\"solidity\":0.2}},\"type\":\"bar\"}],\"carpet\":[{\"aaxis\":{\"endlinecolor\":\"#2a3f5f\",\"gridcolor\":\"white\",\"linecolor\":\"white\",\"minorgridcolor\":\"white\",\"startlinecolor\":\"#2a3f5f\"},\"baxis\":{\"endlinecolor\":\"#2a3f5f\",\"gridcolor\":\"white\",\"linecolor\":\"white\",\"minorgridcolor\":\"white\",\"startlinecolor\":\"#2a3f5f\"},\"type\":\"carpet\"}],\"choropleth\":[{\"colorbar\":{\"outlinewidth\":0,\"ticks\":\"\"},\"type\":\"choropleth\"}],\"contourcarpet\":[{\"colorbar\":{\"outlinewidth\":0,\"ticks\":\"\"},\"type\":\"contourcarpet\"}],\"contour\":[{\"colorbar\":{\"outlinewidth\":0,\"ticks\":\"\"},\"colorscale\":[[0.0,\"#0d0887\"],[0.1111111111111111,\"#46039f\"],[0.2222222222222222,\"#7201a8\"],[0.3333333333333333,\"#9c179e\"],[0.4444444444444444,\"#bd3786\"],[0.5555555555555556,\"#d8576b\"],[0.6666666666666666,\"#ed7953\"],[0.7777777777777778,\"#fb9f3a\"],[0.8888888888888888,\"#fdca26\"],[1.0,\"#f0f921\"]],\"type\":\"contour\"}],\"heatmapgl\":[{\"colorbar\":{\"outlinewidth\":0,\"ticks\":\"\"},\"colorscale\":[[0.0,\"#0d0887\"],[0.1111111111111111,\"#46039f\"],[0.2222222222222222,\"#7201a8\"],[0.3333333333333333,\"#9c179e\"],[0.4444444444444444,\"#bd3786\"],[0.5555555555555556,\"#d8576b\"],[0.6666666666666666,\"#ed7953\"],[0.7777777777777778,\"#fb9f3a\"],[0.8888888888888888,\"#fdca26\"],[1.0,\"#f0f921\"]],\"type\":\"heatmapgl\"}],\"heatmap\":[{\"colorbar\":{\"outlinewidth\":0,\"ticks\":\"\"},\"colorscale\":[[0.0,\"#0d0887\"],[0.1111111111111111,\"#46039f\"],[0.2222222222222222,\"#7201a8\"],[0.3333333333333333,\"#9c179e\"],[0.4444444444444444,\"#bd3786\"],[0.5555555555555556,\"#d8576b\"],[0.6666666666666666,\"#ed7953\"],[0.7777777777777778,\"#fb9f3a\"],[0.8888888888888888,\"#fdca26\"],[1.0,\"#f0f921\"]],\"type\":\"heatmap\"}],\"histogram2dcontour\":[{\"colorbar\":{\"outlinewidth\":0,\"ticks\":\"\"},\"colorscale\":[[0.0,\"#0d0887\"],[0.1111111111111111,\"#46039f\"],[0.2222222222222222,\"#7201a8\"],[0.3333333333333333,\"#9c179e\"],[0.4444444444444444,\"#bd3786\"],[0.5555555555555556,\"#d8576b\"],[0.6666666666666666,\"#ed7953\"],[0.7777777777777778,\"#fb9f3a\"],[0.8888888888888888,\"#fdca26\"],[1.0,\"#f0f921\"]],\"type\":\"histogram2dcontour\"}],\"histogram2d\":[{\"colorbar\":{\"outlinewidth\":0,\"ticks\":\"\"},\"colorscale\":[[0.0,\"#0d0887\"],[0.1111111111111111,\"#46039f\"],[0.2222222222222222,\"#7201a8\"],[0.3333333333333333,\"#9c179e\"],[0.4444444444444444,\"#bd3786\"],[0.5555555555555556,\"#d8576b\"],[0.6666666666666666,\"#ed7953\"],[0.7777777777777778,\"#fb9f3a\"],[0.8888888888888888,\"#fdca26\"],[1.0,\"#f0f921\"]],\"type\":\"histogram2d\"}],\"histogram\":[{\"marker\":{\"pattern\":{\"fillmode\":\"overlay\",\"size\":10,\"solidity\":0.2}},\"type\":\"histogram\"}],\"mesh3d\":[{\"colorbar\":{\"outlinewidth\":0,\"ticks\":\"\"},\"type\":\"mesh3d\"}],\"parcoords\":[{\"line\":{\"colorbar\":{\"outlinewidth\":0,\"ticks\":\"\"}},\"type\":\"parcoords\"}],\"pie\":[{\"automargin\":true,\"type\":\"pie\"}],\"scatter3d\":[{\"line\":{\"colorbar\":{\"outlinewidth\":0,\"ticks\":\"\"}},\"marker\":{\"colorbar\":{\"outlinewidth\":0,\"ticks\":\"\"}},\"type\":\"scatter3d\"}],\"scattercarpet\":[{\"marker\":{\"colorbar\":{\"outlinewidth\":0,\"ticks\":\"\"}},\"type\":\"scattercarpet\"}],\"scattergeo\":[{\"marker\":{\"colorbar\":{\"outlinewidth\":0,\"ticks\":\"\"}},\"type\":\"scattergeo\"}],\"scattergl\":[{\"marker\":{\"colorbar\":{\"outlinewidth\":0,\"ticks\":\"\"}},\"type\":\"scattergl\"}],\"scattermapbox\":[{\"marker\":{\"colorbar\":{\"outlinewidth\":0,\"ticks\":\"\"}},\"type\":\"scattermapbox\"}],\"scatterpolargl\":[{\"marker\":{\"colorbar\":{\"outlinewidth\":0,\"ticks\":\"\"}},\"type\":\"scatterpolargl\"}],\"scatterpolar\":[{\"marker\":{\"colorbar\":{\"outlinewidth\":0,\"ticks\":\"\"}},\"type\":\"scatterpolar\"}],\"scatter\":[{\"fillpattern\":{\"fillmode\":\"overlay\",\"size\":10,\"solidity\":0.2},\"type\":\"scatter\"}],\"scatterternary\":[{\"marker\":{\"colorbar\":{\"outlinewidth\":0,\"ticks\":\"\"}},\"type\":\"scatterternary\"}],\"surface\":[{\"colorbar\":{\"outlinewidth\":0,\"ticks\":\"\"},\"colorscale\":[[0.0,\"#0d0887\"],[0.1111111111111111,\"#46039f\"],[0.2222222222222222,\"#7201a8\"],[0.3333333333333333,\"#9c179e\"],[0.4444444444444444,\"#bd3786\"],[0.5555555555555556,\"#d8576b\"],[0.6666666666666666,\"#ed7953\"],[0.7777777777777778,\"#fb9f3a\"],[0.8888888888888888,\"#fdca26\"],[1.0,\"#f0f921\"]],\"type\":\"surface\"}],\"table\":[{\"cells\":{\"fill\":{\"color\":\"#EBF0F8\"},\"line\":{\"color\":\"white\"}},\"header\":{\"fill\":{\"color\":\"#C8D4E3\"},\"line\":{\"color\":\"white\"}},\"type\":\"table\"}]},\"layout\":{\"annotationdefaults\":{\"arrowcolor\":\"#2a3f5f\",\"arrowhead\":0,\"arrowwidth\":1},\"autotypenumbers\":\"strict\",\"coloraxis\":{\"colorbar\":{\"outlinewidth\":0,\"ticks\":\"\"}},\"colorscale\":{\"diverging\":[[0,\"#8e0152\"],[0.1,\"#c51b7d\"],[0.2,\"#de77ae\"],[0.3,\"#f1b6da\"],[0.4,\"#fde0ef\"],[0.5,\"#f7f7f7\"],[0.6,\"#e6f5d0\"],[0.7,\"#b8e186\"],[0.8,\"#7fbc41\"],[0.9,\"#4d9221\"],[1,\"#276419\"]],\"sequential\":[[0.0,\"#0d0887\"],[0.1111111111111111,\"#46039f\"],[0.2222222222222222,\"#7201a8\"],[0.3333333333333333,\"#9c179e\"],[0.4444444444444444,\"#bd3786\"],[0.5555555555555556,\"#d8576b\"],[0.6666666666666666,\"#ed7953\"],[0.7777777777777778,\"#fb9f3a\"],[0.8888888888888888,\"#fdca26\"],[1.0,\"#f0f921\"]],\"sequentialminus\":[[0.0,\"#0d0887\"],[0.1111111111111111,\"#46039f\"],[0.2222222222222222,\"#7201a8\"],[0.3333333333333333,\"#9c179e\"],[0.4444444444444444,\"#bd3786\"],[0.5555555555555556,\"#d8576b\"],[0.6666666666666666,\"#ed7953\"],[0.7777777777777778,\"#fb9f3a\"],[0.8888888888888888,\"#fdca26\"],[1.0,\"#f0f921\"]]},\"colorway\":[\"#636efa\",\"#EF553B\",\"#00cc96\",\"#ab63fa\",\"#FFA15A\",\"#19d3f3\",\"#FF6692\",\"#B6E880\",\"#FF97FF\",\"#FECB52\"],\"font\":{\"color\":\"#2a3f5f\"},\"geo\":{\"bgcolor\":\"white\",\"lakecolor\":\"white\",\"landcolor\":\"#E5ECF6\",\"showlakes\":true,\"showland\":true,\"subunitcolor\":\"white\"},\"hoverlabel\":{\"align\":\"left\"},\"hovermode\":\"closest\",\"mapbox\":{\"style\":\"light\"},\"paper_bgcolor\":\"white\",\"plot_bgcolor\":\"#E5ECF6\",\"polar\":{\"angularaxis\":{\"gridcolor\":\"white\",\"linecolor\":\"white\",\"ticks\":\"\"},\"bgcolor\":\"#E5ECF6\",\"radialaxis\":{\"gridcolor\":\"white\",\"linecolor\":\"white\",\"ticks\":\"\"}},\"scene\":{\"xaxis\":{\"backgroundcolor\":\"#E5ECF6\",\"gridcolor\":\"white\",\"gridwidth\":2,\"linecolor\":\"white\",\"showbackground\":true,\"ticks\":\"\",\"zerolinecolor\":\"white\"},\"yaxis\":{\"backgroundcolor\":\"#E5ECF6\",\"gridcolor\":\"white\",\"gridwidth\":2,\"linecolor\":\"white\",\"showbackground\":true,\"ticks\":\"\",\"zerolinecolor\":\"white\"},\"zaxis\":{\"backgroundcolor\":\"#E5ECF6\",\"gridcolor\":\"white\",\"gridwidth\":2,\"linecolor\":\"white\",\"showbackground\":true,\"ticks\":\"\",\"zerolinecolor\":\"white\"}},\"shapedefaults\":{\"line\":{\"color\":\"#2a3f5f\"}},\"ternary\":{\"aaxis\":{\"gridcolor\":\"white\",\"linecolor\":\"white\",\"ticks\":\"\"},\"baxis\":{\"gridcolor\":\"white\",\"linecolor\":\"white\",\"ticks\":\"\"},\"bgcolor\":\"#E5ECF6\",\"caxis\":{\"gridcolor\":\"white\",\"linecolor\":\"white\",\"ticks\":\"\"}},\"title\":{\"x\":0.05},\"xaxis\":{\"automargin\":true,\"gridcolor\":\"white\",\"linecolor\":\"white\",\"ticks\":\"\",\"title\":{\"standoff\":15},\"zerolinecolor\":\"white\",\"zerolinewidth\":2},\"yaxis\":{\"automargin\":true,\"gridcolor\":\"white\",\"linecolor\":\"white\",\"ticks\":\"\",\"title\":{\"standoff\":15},\"zerolinecolor\":\"white\",\"zerolinewidth\":2}}},\"title\":{\"font\":{\"color\":\"#484848\"}},\"xaxis\":{\"gridcolor\":\"#E1E5ED\",\"showgrid\":true,\"tickfont\":{\"color\":\"#505050\"},\"title\":{\"font\":{\"color\":\"#505050\"},\"text\":\"\"},\"zerolinecolor\":\"#E1E5ED\"},\"yaxis\":{\"gridcolor\":\"#E1E5ED\",\"showgrid\":true,\"tickfont\":{\"color\":\"#505050\"},\"title\":{\"font\":{\"color\":\"#505050\"},\"text\":\"\"},\"zerolinecolor\":\"#E1E5ED\"}},                        {\"showLink\": true, \"linkText\": \"Export to plot.ly\", \"plotlyServerURL\": \"https://plot.ly\", \"responsive\": true}                    ).then(function(){\n",
       "                            \n",
       "var gd = document.getElementById('53d54241-7836-44f8-9e3c-7b2a2a556825');\n",
       "var x = new MutationObserver(function (mutations, observer) {{\n",
       "        var display = window.getComputedStyle(gd).display;\n",
       "        if (!display || display === 'none') {{\n",
       "            console.log([gd, 'removed!']);\n",
       "            Plotly.purge(gd);\n",
       "            observer.disconnect();\n",
       "        }}\n",
       "}});\n",
       "\n",
       "// Listen for the removal of the full notebook cells\n",
       "var notebookContainer = gd.closest('#notebook-container');\n",
       "if (notebookContainer) {{\n",
       "    x.observe(notebookContainer, {childList: true});\n",
       "}}\n",
       "\n",
       "// Listen for the clearing of the current output cell\n",
       "var outputEl = gd.closest('.output');\n",
       "if (outputEl) {{\n",
       "    x.observe(outputEl, {childList: true});\n",
       "}}\n",
       "\n",
       "                        })                };                });            </script>        </div>"
      ]
     },
     "metadata": {},
     "output_type": "display_data"
    }
   ],
   "source": [
    "(stats['TQQQ']/1300/1e4).iplot()"
   ]
  },
  {
   "cell_type": "code",
   "execution_count": 335,
   "metadata": {
    "ExecuteTime": {
     "end_time": "2023-05-15T08:17:33.174464Z",
     "start_time": "2023-05-15T08:17:32.838142Z"
    }
   },
   "outputs": [
    {
     "data": {
      "image/png": "[encoded data removed]",
      "text/plain": [
       "<Figure size 720x432 with 1 Axes>"
      ]
     },
     "metadata": {},
     "output_type": "display_data"
    }
   ],
   "source": [
    "(df_indi['TQQQ']/1300/1e4).plot()\n",
    "plt.legend().set_visible(False)"
   ]
  },
  {
   "cell_type": "code",
   "execution_count": null,
   "metadata": {},
   "outputs": [],
   "source": []
  },
  {
   "cell_type": "code",
   "execution_count": null,
   "metadata": {},
   "outputs": [],
   "source": []
  },
  {
   "cell_type": "code",
   "execution_count": null,
   "metadata": {},
   "outputs": [],
   "source": []
  },
  {
   "cell_type": "code",
   "execution_count": null,
   "metadata": {},
   "outputs": [],
   "source": []
  },
  {
   "cell_type": "code",
   "execution_count": null,
   "metadata": {},
   "outputs": [],
   "source": []
  }
 ],
 "metadata": {
  "hide_input": false,
  "kernelspec": {
   "display_name": "Python 3 (ipykernel)",
   "language": "python",
   "name": "python3"
  },
  "language_info": {
   "codemirror_mode": {
    "name": "ipython",
    "version": 3
   },
   "file_extension": ".py",
   "mimetype": "text/x-python",
   "name": "python",
   "nbconvert_exporter": "python",
   "pygments_lexer": "ipython3",
   "version": "3.9.7"
  },
  "toc": {
   "base_numbering": 1,
   "nav_menu": {},
   "number_sections": true,
   "sideBar": true,
   "skip_h1_title": false,
   "title_cell": "Table of Contents",
   "title_sidebar": "Contents",
   "toc_cell": false,
   "toc_position": {},
   "toc_section_display": true,
   "toc_window_display": false
  },
  "varInspector": {
   "cols": {
    "lenName": 16,
    "lenType": 16,
    "lenVar": 40
   },
   "kernels_config": {
    "python": {
     "delete_cmd_postfix": "",
     "delete_cmd_prefix": "del ",
     "library": "var_list.py",
     "varRefreshCmd": "print(var_dic_list())"
    },
    "r": {
     "delete_cmd_postfix": ") ",
     "delete_cmd_prefix": "rm(",
     "library": "var_list.r",
     "varRefreshCmd": "cat(var_dic_list()) "
    }
   },
   "types_to_exclude": [
    "module",
    "function",
    "builtin_function_or_method",
    "instance",
    "_Feature"
   ],
   "window_display": false
  }
 },
 "nbformat": 4,
 "nbformat_minor": 4
}
