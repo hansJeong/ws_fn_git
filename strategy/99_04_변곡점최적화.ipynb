{
 "cells": [
  {
   "cell_type": "code",
   "execution_count": 1,
   "id": "1b91d327",
   "metadata": {
    "ExecuteTime": {
     "end_time": "2022-08-29T05:07:07.530010Z",
     "start_time": "2022-08-29T05:07:07.017656Z"
    }
   },
   "outputs": [],
   "source": [
    "import pandas as pd\n",
    "import warnings\n",
    "warnings.filterwarnings('ignore')\n",
    "\n",
    "import yfinance as yf\n",
    "import numpy as np\n",
    "\n",
    "import datetime as dt"
   ]
  },
  {
   "cell_type": "code",
   "execution_count": 2,
   "id": "ebd93866",
   "metadata": {
    "ExecuteTime": {
     "end_time": "2022-08-29T05:07:07.742880Z",
     "start_time": "2022-08-29T05:07:07.531043Z"
    }
   },
   "outputs": [],
   "source": [
    "from scipy.optimize import minimize"
   ]
  },
  {
   "cell_type": "code",
   "execution_count": 3,
   "id": "e0ffec94",
   "metadata": {
    "ExecuteTime": {
     "end_time": "2022-08-29T05:07:07.758335Z",
     "start_time": "2022-08-29T05:07:07.744387Z"
    }
   },
   "outputs": [],
   "source": [
    "from scipy.optimize import basinhopping\n",
    "from itertools import product"
   ]
  },
  {
   "cell_type": "code",
   "execution_count": 4,
   "id": "c223b425",
   "metadata": {
    "ExecuteTime": {
     "end_time": "2022-08-29T05:07:08.867378Z",
     "start_time": "2022-08-29T05:07:07.825534Z"
    }
   },
   "outputs": [
    {
     "data": {
      "text/html": [
       "        <script type=\"text/javascript\">\n",
       "        window.PlotlyConfig = {MathJaxConfig: 'local'};\n",
       "        if (window.MathJax && window.MathJax.Hub && window.MathJax.Hub.Config) {window.MathJax.Hub.Config({SVG: {font: \"STIX-Web\"}});}\n",
       "        if (typeof require !== 'undefined') {\n",
       "        require.undef(\"plotly\");\n",
       "        requirejs.config({\n",
       "            paths: {\n",
       "                'plotly': ['https://cdn.plot.ly/plotly-2.12.1.min']\n",
       "            }\n",
       "        });\n",
       "        require(['plotly'], function(Plotly) {\n",
       "            window._Plotly = Plotly;\n",
       "        });\n",
       "        }\n",
       "        </script>\n",
       "        "
      ]
     },
     "metadata": {},
     "output_type": "display_data"
    }
   ],
   "source": [
    "# 시각화 관련\n",
    "import plotly_express as px\n",
    "import plotly.figure_factory as ff\n",
    "# px를 쉽고 빠르게 붙여주는 모듈 cufflinksget_rsi\n",
    "import cufflinks as cf\n",
    "cf.go_offline(connected=True)\n",
    "## cf.getThemes()\n",
    "cf.set_config_file(theme='polar')\n",
    "\n",
    "import plotly.graph_objects as go\n",
    "\n",
    "import matplotlib.pyplot as plt\n",
    "import seaborn as sns\n",
    "\n",
    "import math"
   ]
  },
  {
   "cell_type": "code",
   "execution_count": 5,
   "id": "bea28330",
   "metadata": {
    "ExecuteTime": {
     "end_time": "2022-08-29T05:07:09.777004Z",
     "start_time": "2022-08-29T05:07:08.868861Z"
    }
   },
   "outputs": [],
   "source": [
    "%run ../library/QUANT_FUNCTIONS.ipynb\n",
    "Q = QUANT()\n",
    "D = DATA()"
   ]
  },
  {
   "cell_type": "code",
   "execution_count": 6,
   "id": "bf3803fa",
   "metadata": {
    "ExecuteTime": {
     "end_time": "2022-08-29T05:07:09.792025Z",
     "start_time": "2022-08-29T05:07:09.778009Z"
    }
   },
   "outputs": [],
   "source": [
    "## 날짜 도출\n",
    "def getTEvents(gRaw, ph, nh):\n",
    "    '''\n",
    "    gRaw: 원계열\n",
    "    ph: 양의 임계점\n",
    "    nh: 음의 임계점\n",
    "    ** 누적 변화량이 임계점을 초과한 지점을 표시함\n",
    "    '''\n",
    "    pEvents, nEvents, sPos, sNeg = [], [], 0, 0\n",
    "    diff = np.log(gRaw).diff()\n",
    "    for i in diff.index[1:]:\n",
    "        sPos, sNeg = max(0, sPos + diff.loc[i]), min(0, sNeg + diff.loc[i])\n",
    "\n",
    "        if sPos > ph:\n",
    "            sPos = 0\n",
    "            pEvents.append(i)\n",
    "\n",
    "        elif sNeg < -nh:\n",
    "            sNeg = 0\n",
    "            nEvents.append(i)\n",
    "            \n",
    "    long = pd.DatetimeIndex(nEvents)\n",
    "    short = pd.DatetimeIndex(pEvents)\n",
    "    \n",
    "    ## 중복되는 의사결정을 제거함\n",
    "    short_ = []\n",
    "    for i in range(len(long)):\n",
    "        if len(short[short > long[i]]) > 0:\n",
    "            short_.append(short[short > long[i]][0])\n",
    "\n",
    "    long_ = []\n",
    "    for i in range(len(short_)):\n",
    "        if i == 0:\n",
    "            long_.append(long[(long < short_[i])][0])\n",
    "        else:\n",
    "            if len(long[(long > short_[i-1])&(long < short_[i])]) > 0:\n",
    "                long_.append(long[(long > short_[i-1])&(long < short_[i])][0])\n",
    "    \n",
    "    return sorted(pd.DatetimeIndex(set(long_))), sorted(pd.DatetimeIndex(set(short_)))\n",
    "\n",
    "\n",
    "## score 도출\n",
    "def get_score(df, col, hs):\n",
    "    \n",
    "    ph = hs[0]\n",
    "    nh = hs[1]\n",
    "    long, short  = getTEvents(df[col], ph/100, nh/100)\n",
    "    long_, short_ = getTEvents_all(df[col], ph/100, nh/100)\n",
    "    if len(long_[long_ > short[-1]]) > 0:\n",
    "        long.append(long_[long_ > short[-1]][0])\n",
    "\n",
    "    taget_df = df[[col]].copy()\n",
    "    ## 롱숏 신호부여\n",
    "    taget_df['long'] = 0\n",
    "    taget_df['long'][long] = 1\n",
    "    taget_df['short'] = 0\n",
    "    taget_df['short'][short] = 1\n",
    "    taget_df['signal'] = (taget_df['long'] - taget_df['short'].shift(1)).fillna(0)\n",
    "    taget_df['position'] = taget_df['signal'].cumsum()\n",
    "    ## 포지션에 따른 가치(환산전)\n",
    "    taget_df['strategy'] = taget_df['position'] * taget_df[col]\n",
    "    taget_df['strategy'][taget_df['strategy'] == 0] = np.nan\n",
    "    ## 매수시점 가격\n",
    "    taget_df['last_price'] = np.nan\n",
    "    taget_df['last_price'][taget_df['long'] == 1] = taget_df[col]\n",
    "    taget_df['last_price'] = taget_df['last_price'].fillna(method='pad')\n",
    "    taget_df['last_price'] = taget_df['last_price'].fillna(1)\n",
    "    ## 포지션에 따른 가치(매수시점 가격 환원)\n",
    "    taget_df['strategy'] = (taget_df['strategy']/taget_df['last_price'])\n",
    "\n",
    "    ## 매수시점 자산가치\n",
    "    taget_df['last_value'] = np.nan\n",
    "    temp = [1]\n",
    "    for i in list(taget_df['strategy'][taget_df['short'] == 1].cumprod()):\n",
    "        temp.append(i)\n",
    "    taget_df['last_value'][taget_df['long'] == 1] = temp\n",
    "    taget_df['last_value'] = taget_df['last_value'].fillna(method='pad')\n",
    "    taget_df['last_value'] = taget_df['last_value'].fillna(method='bfill')\n",
    "\n",
    "    ## 포지션에 따른 가치(매수시점 자산가지 환원)\n",
    "    taget_df['strategy'] = taget_df['strategy'] * taget_df['last_value']\n",
    "    taget_df['strategy'] = taget_df['strategy'].fillna(method='pad')\n",
    "    taget_df['strategy'] = taget_df['strategy'].fillna(method='bfill')\n",
    "\n",
    "    score = taget_df['strategy'][-1]\n",
    "    \n",
    "    MR = taget_df['strategy'].pct_change().mean()*250\n",
    "    MV = taget_df['strategy'].pct_change().std()*250\n",
    "    \n",
    "    return score, taget_df, MR, MV\n",
    "\n",
    "def getTEvents_all(gRaw, ph, nh):\n",
    "    '''\n",
    "    gRaw: 원계열\n",
    "    ph: 양의 임계점\n",
    "    nh: 음의 임계점\n",
    "    ** 누적 변화량이 임계점을 초과한 지점을 표시함\n",
    "    '''\n",
    "    pEvents, nEvents, sPos, sNeg = [], [], 0, 0\n",
    "    diff = np.log(gRaw).diff()\n",
    "    for i in diff.index[1:]:\n",
    "        sPos, sNeg = max(0, sPos + diff.loc[i]), min(0, sNeg + diff.loc[i])\n",
    "\n",
    "        if sPos > ph:\n",
    "            sPos = 0\n",
    "            pEvents.append(i)\n",
    "\n",
    "        elif sNeg < -nh:\n",
    "            sNeg = 0\n",
    "            nEvents.append(i)\n",
    "            \n",
    "    long = pd.DatetimeIndex(nEvents)\n",
    "    short = pd.DatetimeIndex(pEvents)\n",
    "    \n",
    "    return long, short"
   ]
  },
  {
   "cell_type": "markdown",
   "id": "c082fa5d",
   "metadata": {},
   "source": [
    "## Data"
   ]
  },
  {
   "cell_type": "code",
   "execution_count": 7,
   "id": "3148ce9d",
   "metadata": {
    "ExecuteTime": {
     "end_time": "2022-08-29T05:07:09.807520Z",
     "start_time": "2022-08-29T05:07:09.793481Z"
    }
   },
   "outputs": [
    {
     "data": {
      "text/plain": [
       "\"df = D.get_merged_df('AAPL', 'MSFT', 'V', 'JPM', 'JNJ', 'WMT', 'UNH', 'PG',\\n                     'HD', 'DIS', 'NKE', 'CSCO', 'CRM', 'KO', 'VZ', 'INTC',\\n                     'MRK', 'CVX', 'MCD', 'HON', 'GS', 'AXP', 'BA', 'AMGN',\\n                     'IBM', 'CAT', 'MMM', 'DOW', 'WBA', 'TRV')\""
      ]
     },
     "execution_count": 7,
     "metadata": {},
     "output_type": "execute_result"
    }
   ],
   "source": [
    "## 다우 30\n",
    "'''df = D.get_merged_df('AAPL', 'MSFT', 'V', 'JPM', 'JNJ', 'WMT', 'UNH', 'PG',\n",
    "                     'HD', 'DIS', 'NKE', 'CSCO', 'CRM', 'KO', 'VZ', 'INTC',\n",
    "                     'MRK', 'CVX', 'MCD', 'HON', 'GS', 'AXP', 'BA', 'AMGN',\n",
    "                     'IBM', 'CAT', 'MMM', 'DOW', 'WBA', 'TRV')'''"
   ]
  },
  {
   "cell_type": "code",
   "execution_count": 8,
   "id": "e83efa27",
   "metadata": {
    "ExecuteTime": {
     "end_time": "2022-08-29T05:07:09.822448Z",
     "start_time": "2022-08-29T05:07:09.809032Z"
    }
   },
   "outputs": [],
   "source": [
    "## etfs\n",
    "## df = D.get_merged_df('TQQQ', 'UPRO', 'EURL', 'EDC')"
   ]
  },
  {
   "cell_type": "code",
   "execution_count": 9,
   "id": "2dbc6929",
   "metadata": {
    "ExecuteTime": {
     "end_time": "2022-08-29T05:07:12.638236Z",
     "start_time": "2022-08-29T05:07:09.937068Z"
    }
   },
   "outputs": [],
   "source": [
    "df = D.get_merged_df('QQQ', 'QLD', 'TQQQ', '^KS11')"
   ]
  },
  {
   "cell_type": "markdown",
   "id": "b927858c",
   "metadata": {},
   "source": [
    "## Back test"
   ]
  },
  {
   "cell_type": "code",
   "execution_count": 10,
   "id": "e74ea603",
   "metadata": {
    "ExecuteTime": {
     "end_time": "2022-08-29T05:07:13.710474Z",
     "start_time": "2022-08-29T05:07:13.703545Z"
    }
   },
   "outputs": [],
   "source": [
    "## dataset = df['2000':].dropna(axis=1)\n",
    "dataset = df.dropna()\n",
    "dataset = dataset/np.array(dataset)[0]"
   ]
  },
  {
   "cell_type": "code",
   "execution_count": 11,
   "id": "b83d36a2",
   "metadata": {
    "ExecuteTime": {
     "end_time": "2022-08-29T05:12:10.799169Z",
     "start_time": "2022-08-29T05:07:14.023284Z"
    },
    "scrolled": true
   },
   "outputs": [
    {
     "name": "stdout",
     "output_type": "stream",
     "text": [
      "QQQ 진행중\n",
      "QLD 진행중\n",
      "TQQQ 진행중\n",
      "^KS11 진행중\n"
     ]
    }
   ],
   "source": [
    "res_ls = []\n",
    "for col in dataset.columns:\n",
    "    print(f\"{col} 진행중\")\n",
    "\n",
    "    ph_ls = range(50, 201, 5)\n",
    "    nh_ls = range(5, 51, 5)\n",
    "    h_ls = list(product(*[ph_ls, nh_ls]))\n",
    "\n",
    "    for hs in h_ls:\n",
    "        ## print(hs)\n",
    "        try:\n",
    "            score, _, MR, MV = get_score(dataset, col, hs)\n",
    "            res_ls.append([col, hs[0], hs[1], score, MR, MV])\n",
    "        except Exception as e:\n",
    "            None\n",
    "            ## print('값없음')"
   ]
  },
  {
   "cell_type": "code",
   "execution_count": 12,
   "id": "a78e83ed",
   "metadata": {
    "ExecuteTime": {
     "end_time": "2022-08-29T06:54:24.299058Z",
     "start_time": "2022-08-29T06:54:24.290088Z"
    }
   },
   "outputs": [],
   "source": [
    "result = pd.DataFrame(res_ls, columns=['ticker', 'short_point', 'long_point', 'value', 'return', 'volatility'])\n",
    "result['sharp'] = result['return']/result['volatility']"
   ]
  },
  {
   "cell_type": "code",
   "execution_count": 13,
   "id": "02134e7e",
   "metadata": {
    "ExecuteTime": {
     "end_time": "2022-08-29T06:54:24.798970Z",
     "start_time": "2022-08-29T06:54:24.778041Z"
    }
   },
   "outputs": [
    {
     "data": {
      "text/html": [
       "<div>\n",
       "<style scoped>\n",
       "    .dataframe tbody tr th:only-of-type {\n",
       "        vertical-align: middle;\n",
       "    }\n",
       "\n",
       "    .dataframe tbody tr th {\n",
       "        vertical-align: top;\n",
       "    }\n",
       "\n",
       "    .dataframe thead th {\n",
       "        text-align: right;\n",
       "    }\n",
       "</style>\n",
       "<table border=\"1\" class=\"dataframe\">\n",
       "  <thead>\n",
       "    <tr style=\"text-align: right;\">\n",
       "      <th></th>\n",
       "      <th>ticker</th>\n",
       "      <th>short_point</th>\n",
       "      <th>long_point</th>\n",
       "      <th>value</th>\n",
       "      <th>return</th>\n",
       "      <th>volatility</th>\n",
       "      <th>sharp</th>\n",
       "    </tr>\n",
       "  </thead>\n",
       "  <tbody>\n",
       "    <tr>\n",
       "      <th>600</th>\n",
       "      <td>TQQQ</td>\n",
       "      <td>120</td>\n",
       "      <td>35</td>\n",
       "      <td>138.856345</td>\n",
       "      <td>0.570130</td>\n",
       "      <td>8.818798</td>\n",
       "      <td>0.064649</td>\n",
       "    </tr>\n",
       "    <tr>\n",
       "      <th>763</th>\n",
       "      <td>TQQQ</td>\n",
       "      <td>200</td>\n",
       "      <td>50</td>\n",
       "      <td>121.034117</td>\n",
       "      <td>0.551223</td>\n",
       "      <td>8.600172</td>\n",
       "      <td>0.064094</td>\n",
       "    </tr>\n",
       "    <tr>\n",
       "      <th>520</th>\n",
       "      <td>TQQQ</td>\n",
       "      <td>80</td>\n",
       "      <td>35</td>\n",
       "      <td>102.199778</td>\n",
       "      <td>0.522482</td>\n",
       "      <td>8.189934</td>\n",
       "      <td>0.063796</td>\n",
       "    </tr>\n",
       "    <tr>\n",
       "      <th>610</th>\n",
       "      <td>TQQQ</td>\n",
       "      <td>125</td>\n",
       "      <td>35</td>\n",
       "      <td>128.178612</td>\n",
       "      <td>0.569053</td>\n",
       "      <td>8.976245</td>\n",
       "      <td>0.063395</td>\n",
       "    </tr>\n",
       "    <tr>\n",
       "      <th>753</th>\n",
       "      <td>TQQQ</td>\n",
       "      <td>195</td>\n",
       "      <td>50</td>\n",
       "      <td>103.059699</td>\n",
       "      <td>0.531481</td>\n",
       "      <td>8.417168</td>\n",
       "      <td>0.063143</td>\n",
       "    </tr>\n",
       "    <tr>\n",
       "      <th>...</th>\n",
       "      <td>...</td>\n",
       "      <td>...</td>\n",
       "      <td>...</td>\n",
       "      <td>...</td>\n",
       "      <td>...</td>\n",
       "      <td>...</td>\n",
       "      <td>...</td>\n",
       "    </tr>\n",
       "    <tr>\n",
       "      <th>491</th>\n",
       "      <td>TQQQ</td>\n",
       "      <td>65</td>\n",
       "      <td>40</td>\n",
       "      <td>5.677668</td>\n",
       "      <td>0.248616</td>\n",
       "      <td>7.141065</td>\n",
       "      <td>0.034815</td>\n",
       "    </tr>\n",
       "    <tr>\n",
       "      <th>483</th>\n",
       "      <td>TQQQ</td>\n",
       "      <td>60</td>\n",
       "      <td>50</td>\n",
       "      <td>4.328479</td>\n",
       "      <td>0.197820</td>\n",
       "      <td>6.084906</td>\n",
       "      <td>0.032510</td>\n",
       "    </tr>\n",
       "    <tr>\n",
       "      <th>492</th>\n",
       "      <td>TQQQ</td>\n",
       "      <td>65</td>\n",
       "      <td>45</td>\n",
       "      <td>4.444560</td>\n",
       "      <td>0.213338</td>\n",
       "      <td>6.607503</td>\n",
       "      <td>0.032287</td>\n",
       "    </tr>\n",
       "    <tr>\n",
       "      <th>481</th>\n",
       "      <td>TQQQ</td>\n",
       "      <td>60</td>\n",
       "      <td>40</td>\n",
       "      <td>4.027244</td>\n",
       "      <td>0.215737</td>\n",
       "      <td>6.993168</td>\n",
       "      <td>0.030850</td>\n",
       "    </tr>\n",
       "    <tr>\n",
       "      <th>482</th>\n",
       "      <td>TQQQ</td>\n",
       "      <td>60</td>\n",
       "      <td>45</td>\n",
       "      <td>3.477780</td>\n",
       "      <td>0.189596</td>\n",
       "      <td>6.483042</td>\n",
       "      <td>0.029245</td>\n",
       "    </tr>\n",
       "  </tbody>\n",
       "</table>\n",
       "<p>298 rows × 7 columns</p>\n",
       "</div>"
      ],
      "text/plain": [
       "    ticker  short_point  long_point       value    return  volatility  \\\n",
       "600   TQQQ          120          35  138.856345  0.570130    8.818798   \n",
       "763   TQQQ          200          50  121.034117  0.551223    8.600172   \n",
       "520   TQQQ           80          35  102.199778  0.522482    8.189934   \n",
       "610   TQQQ          125          35  128.178612  0.569053    8.976245   \n",
       "753   TQQQ          195          50  103.059699  0.531481    8.417168   \n",
       "..     ...          ...         ...         ...       ...         ...   \n",
       "491   TQQQ           65          40    5.677668  0.248616    7.141065   \n",
       "483   TQQQ           60          50    4.328479  0.197820    6.084906   \n",
       "492   TQQQ           65          45    4.444560  0.213338    6.607503   \n",
       "481   TQQQ           60          40    4.027244  0.215737    6.993168   \n",
       "482   TQQQ           60          45    3.477780  0.189596    6.483042   \n",
       "\n",
       "        sharp  \n",
       "600  0.064649  \n",
       "763  0.064094  \n",
       "520  0.063796  \n",
       "610  0.063395  \n",
       "753  0.063143  \n",
       "..        ...  \n",
       "491  0.034815  \n",
       "483  0.032510  \n",
       "492  0.032287  \n",
       "481  0.030850  \n",
       "482  0.029245  \n",
       "\n",
       "[298 rows x 7 columns]"
      ]
     },
     "execution_count": 13,
     "metadata": {},
     "output_type": "execute_result"
    }
   ],
   "source": [
    "col = 'TQQQ'\n",
    "result[result['ticker'] == col].sort_values('sharp', ascending=False)"
   ]
  },
  {
   "cell_type": "code",
   "execution_count": 14,
   "id": "865492a4",
   "metadata": {
    "ExecuteTime": {
     "end_time": "2022-08-29T06:54:39.273298Z",
     "start_time": "2022-08-29T06:54:39.265272Z"
    }
   },
   "outputs": [],
   "source": [
    "hs = [120, 35]\n",
    "df = dataset.copy()"
   ]
  },
  {
   "cell_type": "code",
   "execution_count": 15,
   "id": "1827c1db",
   "metadata": {
    "ExecuteTime": {
     "end_time": "2022-08-29T06:54:39.743223Z",
     "start_time": "2022-08-29T06:54:39.561605Z"
    }
   },
   "outputs": [],
   "source": [
    "_, res, _, _ = get_score(df, col, hs)"
   ]
  },
  {
   "cell_type": "code",
   "execution_count": 16,
   "id": "5312d3c8",
   "metadata": {
    "ExecuteTime": {
     "end_time": "2022-08-29T06:54:39.986544Z",
     "start_time": "2022-08-29T06:54:39.968487Z"
    }
   },
   "outputs": [],
   "source": [
    "import matplotlib\n",
    "import matplotlib.pyplot as plt\n",
    "import seaborn as sns\n",
    "sns.set_style('whitegrid')\n",
    "## plt.style.use(\"fivethirtyeight\")\n",
    "plt.rcParams['font.family'] = 'Malgun Gothic'\n",
    "plt.rcParams['axes.unicode_minus'] = False\n",
    "plt.rcParams[\"figure.figsize\"] = (10,6)"
   ]
  },
  {
   "cell_type": "code",
   "execution_count": 17,
   "id": "0db2d068",
   "metadata": {
    "ExecuteTime": {
     "end_time": "2022-08-29T06:54:40.609203Z",
     "start_time": "2022-08-29T06:54:40.593072Z"
    }
   },
   "outputs": [
    {
     "data": {
      "text/plain": [
       "0.0022805195115988405"
      ]
     },
     "execution_count": 17,
     "metadata": {},
     "output_type": "execute_result"
    }
   ],
   "source": [
    "res['strategy'].pct_change().mean()"
   ]
  },
  {
   "cell_type": "code",
   "execution_count": 18,
   "id": "eafd7b61",
   "metadata": {
    "ExecuteTime": {
     "end_time": "2022-08-29T06:54:42.531270Z",
     "start_time": "2022-08-29T06:54:42.520197Z"
    }
   },
   "outputs": [
    {
     "data": {
      "text/plain": [
       "0.0021844061625642913"
      ]
     },
     "execution_count": 18,
     "metadata": {},
     "output_type": "execute_result"
    }
   ],
   "source": [
    "res[col].pct_change().mean()"
   ]
  },
  {
   "cell_type": "code",
   "execution_count": 19,
   "id": "c99bf8d1",
   "metadata": {
    "ExecuteTime": {
     "end_time": "2022-08-29T06:54:42.968899Z",
     "start_time": "2022-08-29T06:54:42.960865Z"
    }
   },
   "outputs": [
    {
     "data": {
      "text/plain": [
       "1.001415140335302"
      ]
     },
     "execution_count": 19,
     "metadata": {},
     "output_type": "execute_result"
    }
   ],
   "source": [
    "((res[col][-1]/res[col][0])-1)**(1/len(res))"
   ]
  },
  {
   "cell_type": "code",
   "execution_count": 20,
   "id": "2a31d062",
   "metadata": {
    "ExecuteTime": {
     "end_time": "2022-08-29T06:54:43.470364Z",
     "start_time": "2022-08-29T06:54:43.464245Z"
    }
   },
   "outputs": [
    {
     "data": {
      "text/plain": [
       "1.4240928178926835"
      ]
     },
     "execution_count": 20,
     "metadata": {},
     "output_type": "execute_result"
    }
   ],
   "source": [
    "(((res[col][-1]/res[col][0])-1)**(1/len(res)))**250"
   ]
  },
  {
   "cell_type": "code",
   "execution_count": 21,
   "id": "f095a5de",
   "metadata": {
    "ExecuteTime": {
     "end_time": "2022-08-29T06:54:43.937131Z",
     "start_time": "2022-08-29T06:54:43.928095Z"
    }
   },
   "outputs": [
    {
     "data": {
      "text/plain": [
       "1.5086316058562002"
      ]
     },
     "execution_count": 21,
     "metadata": {},
     "output_type": "execute_result"
    }
   ],
   "source": [
    "(((res['strategy'][-1]/res['strategy'][0])-1)**(1/len(res)))**250"
   ]
  },
  {
   "cell_type": "code",
   "execution_count": 22,
   "id": "bbc2e73d",
   "metadata": {
    "ExecuteTime": {
     "end_time": "2022-08-29T06:54:44.692848Z",
     "start_time": "2022-08-29T06:54:44.680860Z"
    }
   },
   "outputs": [
    {
     "data": {
      "text/plain": [
       "DatetimeIndex(['2010-05-20', '2012-05-18', '2015-08-24', '2018-04-02',\n",
       "               '2020-02-27', '2020-09-08', '2022-01-20'],\n",
       "              dtype='datetime64[ns]', name='Date', freq=None)"
      ]
     },
     "execution_count": 22,
     "metadata": {},
     "output_type": "execute_result"
    }
   ],
   "source": [
    "res[res['long'] == 1].index"
   ]
  },
  {
   "cell_type": "code",
   "execution_count": 24,
   "id": "88ff77cf",
   "metadata": {
    "ExecuteTime": {
     "end_time": "2022-08-29T06:54:57.307000Z",
     "start_time": "2022-08-29T06:54:57.288858Z"
    }
   },
   "outputs": [
    {
     "data": {
      "text/html": [
       "<div>\n",
       "<style scoped>\n",
       "    .dataframe tbody tr th:only-of-type {\n",
       "        vertical-align: middle;\n",
       "    }\n",
       "\n",
       "    .dataframe tbody tr th {\n",
       "        vertical-align: top;\n",
       "    }\n",
       "\n",
       "    .dataframe thead th {\n",
       "        text-align: right;\n",
       "    }\n",
       "</style>\n",
       "<table border=\"1\" class=\"dataframe\">\n",
       "  <thead>\n",
       "    <tr style=\"text-align: right;\">\n",
       "      <th></th>\n",
       "      <th>TQQQ</th>\n",
       "      <th>long</th>\n",
       "      <th>short</th>\n",
       "      <th>signal</th>\n",
       "      <th>position</th>\n",
       "      <th>strategy</th>\n",
       "      <th>last_price</th>\n",
       "      <th>last_value</th>\n",
       "    </tr>\n",
       "    <tr>\n",
       "      <th>Date</th>\n",
       "      <th></th>\n",
       "      <th></th>\n",
       "      <th></th>\n",
       "      <th></th>\n",
       "      <th></th>\n",
       "      <th></th>\n",
       "      <th></th>\n",
       "      <th></th>\n",
       "    </tr>\n",
       "  </thead>\n",
       "  <tbody>\n",
       "    <tr>\n",
       "      <th>2010-02-11</th>\n",
       "      <td>1.000000</td>\n",
       "      <td>0</td>\n",
       "      <td>0</td>\n",
       "      <td>0.0</td>\n",
       "      <td>0.0</td>\n",
       "      <td>1.000000</td>\n",
       "      <td>1.000000</td>\n",
       "      <td>1.000000</td>\n",
       "    </tr>\n",
       "    <tr>\n",
       "      <th>2010-02-12</th>\n",
       "      <td>1.004094</td>\n",
       "      <td>0</td>\n",
       "      <td>0</td>\n",
       "      <td>0.0</td>\n",
       "      <td>0.0</td>\n",
       "      <td>1.000000</td>\n",
       "      <td>1.000000</td>\n",
       "      <td>1.000000</td>\n",
       "    </tr>\n",
       "    <tr>\n",
       "      <th>2010-02-16</th>\n",
       "      <td>1.042987</td>\n",
       "      <td>0</td>\n",
       "      <td>0</td>\n",
       "      <td>0.0</td>\n",
       "      <td>0.0</td>\n",
       "      <td>1.000000</td>\n",
       "      <td>1.000000</td>\n",
       "      <td>1.000000</td>\n",
       "    </tr>\n",
       "    <tr>\n",
       "      <th>2010-02-17</th>\n",
       "      <td>1.060686</td>\n",
       "      <td>0</td>\n",
       "      <td>0</td>\n",
       "      <td>0.0</td>\n",
       "      <td>0.0</td>\n",
       "      <td>1.000000</td>\n",
       "      <td>1.000000</td>\n",
       "      <td>1.000000</td>\n",
       "    </tr>\n",
       "    <tr>\n",
       "      <th>2010-02-18</th>\n",
       "      <td>1.080795</td>\n",
       "      <td>0</td>\n",
       "      <td>0</td>\n",
       "      <td>0.0</td>\n",
       "      <td>0.0</td>\n",
       "      <td>1.000000</td>\n",
       "      <td>1.000000</td>\n",
       "      <td>1.000000</td>\n",
       "    </tr>\n",
       "    <tr>\n",
       "      <th>...</th>\n",
       "      <td>...</td>\n",
       "      <td>...</td>\n",
       "      <td>...</td>\n",
       "      <td>...</td>\n",
       "      <td>...</td>\n",
       "      <td>...</td>\n",
       "      <td>...</td>\n",
       "      <td>...</td>\n",
       "    </tr>\n",
       "    <tr>\n",
       "      <th>2022-08-22</th>\n",
       "      <td>75.485929</td>\n",
       "      <td>0</td>\n",
       "      <td>0</td>\n",
       "      <td>0.0</td>\n",
       "      <td>1.0</td>\n",
       "      <td>149.555263</td>\n",
       "      <td>143.416316</td>\n",
       "      <td>284.141231</td>\n",
       "    </tr>\n",
       "    <tr>\n",
       "      <th>2022-08-23</th>\n",
       "      <td>75.230986</td>\n",
       "      <td>0</td>\n",
       "      <td>0</td>\n",
       "      <td>0.0</td>\n",
       "      <td>1.0</td>\n",
       "      <td>149.050161</td>\n",
       "      <td>143.416316</td>\n",
       "      <td>284.141231</td>\n",
       "    </tr>\n",
       "    <tr>\n",
       "      <th>2022-08-24</th>\n",
       "      <td>75.810399</td>\n",
       "      <td>0</td>\n",
       "      <td>0</td>\n",
       "      <td>0.0</td>\n",
       "      <td>1.0</td>\n",
       "      <td>150.198113</td>\n",
       "      <td>143.416316</td>\n",
       "      <td>284.141231</td>\n",
       "    </tr>\n",
       "    <tr>\n",
       "      <th>2022-08-25</th>\n",
       "      <td>79.796763</td>\n",
       "      <td>0</td>\n",
       "      <td>0</td>\n",
       "      <td>0.0</td>\n",
       "      <td>1.0</td>\n",
       "      <td>158.096033</td>\n",
       "      <td>143.416316</td>\n",
       "      <td>284.141231</td>\n",
       "    </tr>\n",
       "    <tr>\n",
       "      <th>2022-08-26</th>\n",
       "      <td>70.085800</td>\n",
       "      <td>0</td>\n",
       "      <td>0</td>\n",
       "      <td>0.0</td>\n",
       "      <td>1.0</td>\n",
       "      <td>138.856345</td>\n",
       "      <td>143.416316</td>\n",
       "      <td>284.141231</td>\n",
       "    </tr>\n",
       "  </tbody>\n",
       "</table>\n",
       "<p>2995 rows × 8 columns</p>\n",
       "</div>"
      ],
      "text/plain": [
       "                 TQQQ  long  short  signal  position    strategy  last_price  \\\n",
       "Date                                                                           \n",
       "2010-02-11   1.000000     0      0     0.0       0.0    1.000000    1.000000   \n",
       "2010-02-12   1.004094     0      0     0.0       0.0    1.000000    1.000000   \n",
       "2010-02-16   1.042987     0      0     0.0       0.0    1.000000    1.000000   \n",
       "2010-02-17   1.060686     0      0     0.0       0.0    1.000000    1.000000   \n",
       "2010-02-18   1.080795     0      0     0.0       0.0    1.000000    1.000000   \n",
       "...               ...   ...    ...     ...       ...         ...         ...   \n",
       "2022-08-22  75.485929     0      0     0.0       1.0  149.555263  143.416316   \n",
       "2022-08-23  75.230986     0      0     0.0       1.0  149.050161  143.416316   \n",
       "2022-08-24  75.810399     0      0     0.0       1.0  150.198113  143.416316   \n",
       "2022-08-25  79.796763     0      0     0.0       1.0  158.096033  143.416316   \n",
       "2022-08-26  70.085800     0      0     0.0       1.0  138.856345  143.416316   \n",
       "\n",
       "            last_value  \n",
       "Date                    \n",
       "2010-02-11    1.000000  \n",
       "2010-02-12    1.000000  \n",
       "2010-02-16    1.000000  \n",
       "2010-02-17    1.000000  \n",
       "2010-02-18    1.000000  \n",
       "...                ...  \n",
       "2022-08-22  284.141231  \n",
       "2022-08-23  284.141231  \n",
       "2022-08-24  284.141231  \n",
       "2022-08-25  284.141231  \n",
       "2022-08-26  284.141231  \n",
       "\n",
       "[2995 rows x 8 columns]"
      ]
     },
     "execution_count": 24,
     "metadata": {},
     "output_type": "execute_result"
    }
   ],
   "source": [
    "res"
   ]
  },
  {
   "cell_type": "code",
   "execution_count": 23,
   "id": "d5d72788",
   "metadata": {
    "ExecuteTime": {
     "end_time": "2022-08-29T06:54:48.116172Z",
     "start_time": "2022-08-29T06:54:45.584454Z"
    }
   },
   "outputs": [
    {
     "data": {
      "image/png": "[encoded data removed]",
      "text/plain": [
       "<Figure size 720x432 with 1 Axes>"
      ]
     },
     "metadata": {},
     "output_type": "display_data"
    }
   ],
   "source": [
    "res[[col, 'strategy']].plot()\n",
    "plt.scatter(res[res['long'] == 1].index,res[res['long'] == 1]['strategy'], color = 'r',s=100)\n",
    "plt.scatter(res[res['short'] == 1].index,res[res['short'] == 1]['strategy'], color = 'b',s=100)\n",
    "plt.yscale(\"log\")"
   ]
  },
  {
   "cell_type": "code",
   "execution_count": null,
   "id": "42983a58",
   "metadata": {},
   "outputs": [],
   "source": []
  },
  {
   "cell_type": "code",
   "execution_count": null,
   "id": "a64942fe",
   "metadata": {},
   "outputs": [],
   "source": []
  },
  {
   "cell_type": "code",
   "execution_count": null,
   "id": "00e569a6",
   "metadata": {},
   "outputs": [],
   "source": []
  },
  {
   "cell_type": "code",
   "execution_count": null,
   "id": "0992e202",
   "metadata": {},
   "outputs": [],
   "source": []
  }
 ],
 "metadata": {
  "kernelspec": {
   "display_name": "Python 3 (ipykernel)",
   "language": "python",
   "name": "python3"
  },
  "language_info": {
   "codemirror_mode": {
    "name": "ipython",
    "version": 3
   },
   "file_extension": ".py",
   "mimetype": "text/x-python",
   "name": "python",
   "nbconvert_exporter": "python",
   "pygments_lexer": "ipython3",
   "version": "3.9.7"
  },
  "toc": {
   "base_numbering": 1,
   "nav_menu": {},
   "number_sections": true,
   "sideBar": true,
   "skip_h1_title": false,
   "title_cell": "Table of Contents",
   "title_sidebar": "Contents",
   "toc_cell": false,
   "toc_position": {},
   "toc_section_display": true,
   "toc_window_display": false
  }
 },
 "nbformat": 4,
 "nbformat_minor": 5
}
