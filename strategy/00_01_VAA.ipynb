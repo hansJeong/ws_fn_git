{
 "cells": [
  {
   "cell_type": "code",
   "execution_count": 1,
   "metadata": {},
   "outputs": [],
   "source": [
    "## Vigilant Asset Allocation"
   ]
  },
  {
   "cell_type": "code",
   "execution_count": 2,
   "metadata": {
    "ExecuteTime": {
     "end_time": "2023-05-15T06:49:19.825174Z",
     "start_time": "2023-05-15T06:49:19.815185Z"
    }
   },
   "outputs": [],
   "source": [
    "import pandas as pd\n",
    "import warnings\n",
    "warnings.filterwarnings('ignore')\n",
    "import numpy as np"
   ]
  },
  {
   "cell_type": "code",
   "execution_count": 3,
   "metadata": {
    "ExecuteTime": {
     "end_time": "2023-05-15T06:48:27.322796Z",
     "start_time": "2023-05-15T06:48:26.047728Z"
    }
   },
   "outputs": [
    {
     "data": {
      "text/html": [
       "        <script type=\"text/javascript\">\n",
       "        window.PlotlyConfig = {MathJaxConfig: 'local'};\n",
       "        if (window.MathJax && window.MathJax.Hub && window.MathJax.Hub.Config) {window.MathJax.Hub.Config({SVG: {font: \"STIX-Web\"}});}\n",
       "        if (typeof require !== 'undefined') {\n",
       "        require.undef(\"plotly\");\n",
       "        requirejs.config({\n",
       "            paths: {\n",
       "                'plotly': ['https://cdn.plot.ly/plotly-2.12.1.min']\n",
       "            }\n",
       "        });\n",
       "        require(['plotly'], function(Plotly) {\n",
       "            window._Plotly = Plotly;\n",
       "        });\n",
       "        }\n",
       "        </script>\n",
       "        "
      ]
     },
     "metadata": {},
     "output_type": "display_data"
    }
   ],
   "source": [
    "# 시각화 관련 ##\n",
    "import plotly_express as px\n",
    "import plotly.figure_factory as ff\n",
    "import cufflinks as cf\n",
    "cf.go_offline(connected=True)\n",
    "## cf.getThemes()\n",
    "cf.set_config_file(theme='polar')\n",
    "import plotly.graph_objects as go\n",
    "\n",
    "import matplotlib\n",
    "%matplotlib inline\n",
    "\n",
    "import matplotlib.pyplot as plt\n",
    "import seaborn as sns\n",
    "sns.set_style('whitegrid')\n",
    "## plt.style.use(\"fivethirtyeight\")\n",
    "plt.rcParams['font.family'] = 'Malgun Gothic'\n",
    "plt.rcParams['axes.unicode_minus'] = False\n",
    "plt.rcParams[\"figure.figsize\"] = (10,6)"
   ]
  },
  {
   "cell_type": "code",
   "execution_count": 4,
   "metadata": {
    "ExecuteTime": {
     "end_time": "2023-05-15T06:48:27.908369Z",
     "start_time": "2023-05-15T06:48:27.323805Z"
    }
   },
   "outputs": [],
   "source": [
    "##절대경로 참조\n",
    "import sys, os\n",
    "sys.path.append(os.path.dirname(os.path.abspath(os.path.dirname('__file__'))))\n",
    "\n",
    "from library.quant_functions import anal_funcs, data_funcs"
   ]
  },
  {
   "cell_type": "code",
   "execution_count": 5,
   "metadata": {
    "ExecuteTime": {
     "end_time": "2023-05-15T06:48:27.923372Z",
     "start_time": "2023-05-15T06:48:27.909373Z"
    }
   },
   "outputs": [],
   "source": [
    "## 조건1. 판단기준 -> 1개월*12, 3개월*4, 6개월*2 평균, 12개월*1\n",
    "## 조건2. 공격자산 중 하나라도 (-)진입시 수비자산 전환\n",
    "## 조건3. 모든 포지션에서 판단기준값이 가장 높은 자산 투자\n",
    "## 조건4. 월단위 리벨런싱"
   ]
  },
  {
   "attachments": {},
   "cell_type": "markdown",
   "metadata": {},
   "source": [
    "## Func"
   ]
  },
  {
   "cell_type": "code",
   "execution_count": 6,
   "metadata": {
    "ExecuteTime": {
     "end_time": "2023-05-15T06:48:29.874269Z",
     "start_time": "2023-05-15T06:48:29.854262Z"
    }
   },
   "outputs": [],
   "source": [
    "### 1개월 수익률, 3개월 수익률, 6개월 수익률의 가중평균 산출함수\n",
    "def get_wapr(close):\n",
    "    ## 월단위 데이터를 기준으로함\n",
    "    ## get_signal()로 이어짐\n",
    "    df_cls = close.copy()\n",
    "    pr1 = np.log(df_cls/df_cls.shift(1))\n",
    "    pr3 = np.log(df_cls/df_cls.shift(3))\n",
    "    pr6 = np.log(df_cls/df_cls.shift(6))\n",
    "    pr12 = np.log(df_cls/df_cls.shift(12))\n",
    "    df_pr = pd.concat([pr1, pr3*(4/12), pr6*(2/12), pr12*(1/12)], axis = 1)\n",
    "    mpr = df_pr.mean(axis=1)\n",
    "    return mpr\n",
    "\n",
    "def get_signal(df):\n",
    "    ## 금리2% 1개월 무위험수익률 ## 향후 기준금리 데이터 반영 가능\n",
    "    nrr = (1.02**(1/12))-1\n",
    "    ## get_strategy_value()로 이어짐\n",
    "\n",
    "    signal_df = df.copy()\n",
    "    for cols in signal_df.columns:\n",
    "        signal_df[cols] = get_wapr(signal_df[cols])\n",
    "    signal_df = signal_df.dropna()\n",
    "\n",
    "    atks= signal_df[signal_df.columns[:4]].T\n",
    "    dfcs= signal_df[signal_df.columns[4:]].T\n",
    "    \n",
    "    ## 판단로직\n",
    "    signal_df['diretion'] = 'bear'\n",
    "    signal_df['diretion'][(signal_df[signal_df.columns[0]] > nrr)&(signal_df[signal_df.columns[1]] > nrr)&\n",
    "                       (signal_df[signal_df.columns[2]] > nrr)&(signal_df[signal_df.columns[3]] > nrr)] = 'bull'\n",
    "\n",
    "    optimal_ticker = []\n",
    "    for i in range(len(signal_df)):\n",
    "        if signal_df['diretion'][i] == 'bull':\n",
    "            optimal_ticker.append(atks[atks[atks.columns[i]] == atks[atks.columns[i]].max()].index.values[0])\n",
    "        elif signal_df['diretion'][i] == 'bear':\n",
    "            optimal_ticker.append(dfcs[dfcs[dfcs.columns[i]] == dfcs[dfcs.columns[i]].max()].index.values[0])\n",
    "\n",
    "    signal_df['signal'] = optimal_ticker\n",
    "    \n",
    "    new_df = df.copy()\n",
    "    new_df['signal'] = signal_df['signal']\n",
    "    new_df['prev'] = new_df['signal'].shift(1)\n",
    "    \n",
    "    new_df['change'] = 0\n",
    "    new_df['change'][new_df['signal'] != new_df['prev']] = 1\n",
    "    new_df = new_df.dropna()\n",
    "    \n",
    "    return new_df, signal_df\n",
    "\n",
    "\n",
    "\n",
    "def get_strategy_value(df):\n",
    "    new_df, _ = get_signal(df)\n",
    "    ## 시그널발생시 자산 교환 비율 산출\n",
    "    new_df['exchange_rate'] = 1.0\n",
    "    for i in range(len(new_df)):\n",
    "        if (new_df['change'][i] == 1)&(type(new_df['prev'][i]) == str):\n",
    "            new_df['exchange_rate'][i] = new_df[new_df['prev'][i]][i]/new_df[new_df['signal'][i]][i]         \n",
    "    ## 누적 교환비 산출\n",
    "    new_df['cum_exchange_rate'] = new_df['exchange_rate']\n",
    "    for i in range(len(new_df)):\n",
    "        new_df['cum_exchange_rate'][i] = new_df['exchange_rate'][:i+1].product()\n",
    "    ## 자산추이\n",
    "    new_df['strategy'] = 1.0\n",
    "    for i in range(len(new_df)):\n",
    "        new_df['strategy'][i] = new_df[new_df['signal'][i]][i]*new_df['cum_exchange_rate'][i]\n",
    "        \n",
    "    result = new_df.drop(columns=['change', 'exchange_rate', 'cum_exchange_rate'])\n",
    "        \n",
    "    return result"
   ]
  },
  {
   "attachments": {},
   "cell_type": "markdown",
   "metadata": {},
   "source": [
    "## Proc"
   ]
  },
  {
   "cell_type": "code",
   "execution_count": 15,
   "metadata": {
    "ExecuteTime": {
     "end_time": "2023-05-15T06:48:39.072309Z",
     "start_time": "2023-05-15T06:48:30.582274Z"
    }
   },
   "outputs": [
    {
     "name": "stdout",
     "output_type": "stream",
     "text": [
      "[*********************100%***********************]  7 of 7 completed\n"
     ]
    }
   ],
   "source": [
    "## X3 VAA전략 ## 확정전\n",
    "## df = get_merged_df('TQQQ', 'UPRO', 'EURL', 'EDC', 'TMF', 'TYD', 'BNKU')\n",
    "## df['CASH'] = 1 ## SHY 대용 CASH\n",
    "df = data_funcs.get_merged_df('SPY', 'QQQ', 'VEA', 'VWO', 'TLT', 'IEF', 'SHY')\n",
    "df = df[['SPY', 'QQQ', 'VEA', 'VWO', 'TLT', 'IEF', 'SHY']]\n",
    "df = df[['SPY', 'QQQ', 'VEA', 'VWO', 'SHY']]\n",
    "\n",
    "dataset = df.dropna()\n",
    "## dataset = dataset[dataset.index >= '2010-10-01']"
   ]
  },
  {
   "cell_type": "code",
   "execution_count": 21,
   "metadata": {
    "ExecuteTime": {
     "end_time": "2023-05-15T06:48:39.102317Z",
     "start_time": "2023-05-15T06:48:39.088320Z"
    }
   },
   "outputs": [],
   "source": [
    "df = dataset.resample('M').last()\n",
    "df = df[:].copy()\n",
    "df['SHY'] = 1"
   ]
  },
  {
   "cell_type": "code",
   "execution_count": 27,
   "metadata": {},
   "outputs": [],
   "source": [
    "strategy_df_result = get_strategy_value(df)\n",
    "\n",
    "result_df = strategy_df_result.copy()\n",
    "temp = result_df[['SPY', 'QQQ', 'VEA', 'VWO', 'SHY', 'strategy']]\n",
    "result_df[['SPY', 'QQQ', 'VEA', 'VWO', 'SHY', 'strategy']] = temp/np.array(temp)[0]\n",
    "\n",
    "_, signal_df = get_signal(df)"
   ]
  },
  {
   "attachments": {},
   "cell_type": "markdown",
   "metadata": {},
   "source": [
    "## Report"
   ]
  },
  {
   "cell_type": "code",
   "execution_count": 39,
   "metadata": {
    "ExecuteTime": {
     "end_time": "2023-05-15T06:48:39.447318Z",
     "start_time": "2023-05-15T06:48:39.418311Z"
    }
   },
   "outputs": [
    {
     "data": {
      "text/html": [
       "<div>\n",
       "<style scoped>\n",
       "    .dataframe tbody tr th:only-of-type {\n",
       "        vertical-align: middle;\n",
       "    }\n",
       "\n",
       "    .dataframe tbody tr th {\n",
       "        vertical-align: top;\n",
       "    }\n",
       "\n",
       "    .dataframe thead th {\n",
       "        text-align: right;\n",
       "    }\n",
       "</style>\n",
       "<table border=\"1\" class=\"dataframe\">\n",
       "  <thead>\n",
       "    <tr style=\"text-align: right;\">\n",
       "      <th></th>\n",
       "      <th>SPY</th>\n",
       "      <th>QQQ</th>\n",
       "      <th>VEA</th>\n",
       "      <th>VWO</th>\n",
       "      <th>SHY</th>\n",
       "    </tr>\n",
       "    <tr>\n",
       "      <th>Date</th>\n",
       "      <th></th>\n",
       "      <th></th>\n",
       "      <th></th>\n",
       "      <th></th>\n",
       "      <th></th>\n",
       "    </tr>\n",
       "  </thead>\n",
       "  <tbody>\n",
       "    <tr>\n",
       "      <th>2023-01-31</th>\n",
       "      <td>0.060989</td>\n",
       "      <td>0.101138</td>\n",
       "      <td>0.086455</td>\n",
       "      <td>0.080082</td>\n",
       "      <td>0.0</td>\n",
       "    </tr>\n",
       "    <tr>\n",
       "      <th>2023-02-28</th>\n",
       "      <td>-0.025464</td>\n",
       "      <td>-0.003604</td>\n",
       "      <td>-0.035365</td>\n",
       "      <td>-0.068858</td>\n",
       "      <td>0.0</td>\n",
       "    </tr>\n",
       "    <tr>\n",
       "      <th>2023-03-31</th>\n",
       "      <td>0.036407</td>\n",
       "      <td>0.090688</td>\n",
       "      <td>0.026141</td>\n",
       "      <td>0.025280</td>\n",
       "      <td>0.0</td>\n",
       "    </tr>\n",
       "    <tr>\n",
       "      <th>2023-04-30</th>\n",
       "      <td>0.015849</td>\n",
       "      <td>0.005066</td>\n",
       "      <td>0.026004</td>\n",
       "      <td>-0.003968</td>\n",
       "      <td>0.0</td>\n",
       "    </tr>\n",
       "    <tr>\n",
       "      <th>2023-05-31</th>\n",
       "      <td>0.004606</td>\n",
       "      <td>0.075885</td>\n",
       "      <td>-0.038031</td>\n",
       "      <td>-0.030019</td>\n",
       "      <td>0.0</td>\n",
       "    </tr>\n",
       "    <tr>\n",
       "      <th>2023-06-30</th>\n",
       "      <td>0.054132</td>\n",
       "      <td>0.055719</td>\n",
       "      <td>0.055776</td>\n",
       "      <td>0.071397</td>\n",
       "      <td>0.0</td>\n",
       "    </tr>\n",
       "  </tbody>\n",
       "</table>\n",
       "</div>"
      ],
      "text/plain": [
       "                 SPY       QQQ       VEA       VWO  SHY\n",
       "Date                                                   \n",
       "2023-01-31  0.060989  0.101138  0.086455  0.080082  0.0\n",
       "2023-02-28 -0.025464 -0.003604 -0.035365 -0.068858  0.0\n",
       "2023-03-31  0.036407  0.090688  0.026141  0.025280  0.0\n",
       "2023-04-30  0.015849  0.005066  0.026004 -0.003968  0.0\n",
       "2023-05-31  0.004606  0.075885 -0.038031 -0.030019  0.0\n",
       "2023-06-30  0.054132  0.055719  0.055776  0.071397  0.0"
      ]
     },
     "execution_count": 39,
     "metadata": {},
     "output_type": "execute_result"
    }
   ],
   "source": [
    "## 기하수익률\n",
    "np.log(strategy_df_result[strategy_df_result.columns[:-3]]/strategy_df_result[strategy_df_result.columns[:-3]].shift(1)).tail(6)"
   ]
  },
  {
   "cell_type": "code",
   "execution_count": 40,
   "metadata": {
    "ExecuteTime": {
     "end_time": "2023-05-15T06:48:39.462321Z",
     "start_time": "2023-05-15T06:48:39.449309Z"
    }
   },
   "outputs": [
    {
     "data": {
      "text/html": [
       "<div>\n",
       "<style scoped>\n",
       "    .dataframe tbody tr th:only-of-type {\n",
       "        vertical-align: middle;\n",
       "    }\n",
       "\n",
       "    .dataframe tbody tr th {\n",
       "        vertical-align: top;\n",
       "    }\n",
       "\n",
       "    .dataframe thead th {\n",
       "        text-align: right;\n",
       "    }\n",
       "</style>\n",
       "<table border=\"1\" class=\"dataframe\">\n",
       "  <thead>\n",
       "    <tr style=\"text-align: right;\">\n",
       "      <th></th>\n",
       "      <th>SPY</th>\n",
       "      <th>QQQ</th>\n",
       "      <th>VEA</th>\n",
       "      <th>VWO</th>\n",
       "      <th>SHY</th>\n",
       "      <th>signal</th>\n",
       "      <th>prev</th>\n",
       "      <th>strategy</th>\n",
       "    </tr>\n",
       "    <tr>\n",
       "      <th>Date</th>\n",
       "      <th></th>\n",
       "      <th></th>\n",
       "      <th></th>\n",
       "      <th></th>\n",
       "      <th></th>\n",
       "      <th></th>\n",
       "      <th></th>\n",
       "      <th></th>\n",
       "    </tr>\n",
       "  </thead>\n",
       "  <tbody>\n",
       "    <tr>\n",
       "      <th>2023-01-31</th>\n",
       "      <td>403.435974</td>\n",
       "      <td>294.164581</td>\n",
       "      <td>45.588573</td>\n",
       "      <td>42.199478</td>\n",
       "      <td>1</td>\n",
       "      <td>VEA</td>\n",
       "      <td>SHY</td>\n",
       "      <td>2.396229</td>\n",
       "    </tr>\n",
       "    <tr>\n",
       "      <th>2023-02-28</th>\n",
       "      <td>393.292511</td>\n",
       "      <td>293.106232</td>\n",
       "      <td>44.004528</td>\n",
       "      <td>39.391506</td>\n",
       "      <td>1</td>\n",
       "      <td>SHY</td>\n",
       "      <td>VEA</td>\n",
       "      <td>2.312969</td>\n",
       "    </tr>\n",
       "    <tr>\n",
       "      <th>2023-03-31</th>\n",
       "      <td>407.874908</td>\n",
       "      <td>320.929993</td>\n",
       "      <td>45.169998</td>\n",
       "      <td>40.400002</td>\n",
       "      <td>1</td>\n",
       "      <td>QQQ</td>\n",
       "      <td>SHY</td>\n",
       "      <td>2.312969</td>\n",
       "    </tr>\n",
       "    <tr>\n",
       "      <th>2023-04-30</th>\n",
       "      <td>414.390686</td>\n",
       "      <td>322.559998</td>\n",
       "      <td>46.360001</td>\n",
       "      <td>40.240002</td>\n",
       "      <td>1</td>\n",
       "      <td>SHY</td>\n",
       "      <td>QQQ</td>\n",
       "      <td>2.324716</td>\n",
       "    </tr>\n",
       "    <tr>\n",
       "      <th>2023-05-31</th>\n",
       "      <td>416.303619</td>\n",
       "      <td>347.989990</td>\n",
       "      <td>44.630001</td>\n",
       "      <td>39.049999</td>\n",
       "      <td>1</td>\n",
       "      <td>SHY</td>\n",
       "      <td>SHY</td>\n",
       "      <td>2.324716</td>\n",
       "    </tr>\n",
       "    <tr>\n",
       "      <th>2023-06-30</th>\n",
       "      <td>439.459991</td>\n",
       "      <td>367.929993</td>\n",
       "      <td>47.189999</td>\n",
       "      <td>41.939999</td>\n",
       "      <td>1</td>\n",
       "      <td>QQQ</td>\n",
       "      <td>SHY</td>\n",
       "      <td>2.324716</td>\n",
       "    </tr>\n",
       "  </tbody>\n",
       "</table>\n",
       "</div>"
      ],
      "text/plain": [
       "                   SPY         QQQ        VEA        VWO  SHY signal prev  \\\n",
       "Date                                                                        \n",
       "2023-01-31  403.435974  294.164581  45.588573  42.199478    1    VEA  SHY   \n",
       "2023-02-28  393.292511  293.106232  44.004528  39.391506    1    SHY  VEA   \n",
       "2023-03-31  407.874908  320.929993  45.169998  40.400002    1    QQQ  SHY   \n",
       "2023-04-30  414.390686  322.559998  46.360001  40.240002    1    SHY  QQQ   \n",
       "2023-05-31  416.303619  347.989990  44.630001  39.049999    1    SHY  SHY   \n",
       "2023-06-30  439.459991  367.929993  47.189999  41.939999    1    QQQ  SHY   \n",
       "\n",
       "            strategy  \n",
       "Date                  \n",
       "2023-01-31  2.396229  \n",
       "2023-02-28  2.312969  \n",
       "2023-03-31  2.312969  \n",
       "2023-04-30  2.324716  \n",
       "2023-05-31  2.324716  \n",
       "2023-06-30  2.324716  "
      ]
     },
     "execution_count": 40,
     "metadata": {},
     "output_type": "execute_result"
    }
   ],
   "source": [
    "## 최근 상대 수준\n",
    "strategy_df_result.tail(6)"
   ]
  },
  {
   "cell_type": "code",
   "execution_count": 41,
   "metadata": {
    "ExecuteTime": {
     "end_time": "2023-05-15T06:48:39.477317Z",
     "start_time": "2023-05-15T06:48:39.463311Z"
    },
    "scrolled": true
   },
   "outputs": [
    {
     "data": {
      "text/html": [
       "<div>\n",
       "<style scoped>\n",
       "    .dataframe tbody tr th:only-of-type {\n",
       "        vertical-align: middle;\n",
       "    }\n",
       "\n",
       "    .dataframe tbody tr th {\n",
       "        vertical-align: top;\n",
       "    }\n",
       "\n",
       "    .dataframe thead th {\n",
       "        text-align: right;\n",
       "    }\n",
       "</style>\n",
       "<table border=\"1\" class=\"dataframe\">\n",
       "  <thead>\n",
       "    <tr style=\"text-align: right;\">\n",
       "      <th></th>\n",
       "      <th>SPY</th>\n",
       "      <th>QQQ</th>\n",
       "      <th>VEA</th>\n",
       "      <th>VWO</th>\n",
       "      <th>SHY</th>\n",
       "      <th>diretion</th>\n",
       "      <th>signal</th>\n",
       "    </tr>\n",
       "    <tr>\n",
       "      <th>Date</th>\n",
       "      <th></th>\n",
       "      <th></th>\n",
       "      <th></th>\n",
       "      <th></th>\n",
       "      <th></th>\n",
       "      <th></th>\n",
       "      <th></th>\n",
       "    </tr>\n",
       "  </thead>\n",
       "  <tbody>\n",
       "    <tr>\n",
       "      <th>2023-01-31</th>\n",
       "      <td>0.017913</td>\n",
       "      <td>0.023466</td>\n",
       "      <td>0.039226</td>\n",
       "      <td>0.035548</td>\n",
       "      <td>0.0</td>\n",
       "      <td>bull</td>\n",
       "      <td>VEA</td>\n",
       "    </tr>\n",
       "    <tr>\n",
       "      <th>2023-02-28</th>\n",
       "      <td>-0.009562</td>\n",
       "      <td>-0.004592</td>\n",
       "      <td>-0.003181</td>\n",
       "      <td>-0.021885</td>\n",
       "      <td>0.0</td>\n",
       "      <td>bear</td>\n",
       "      <td>SHY</td>\n",
       "    </tr>\n",
       "    <tr>\n",
       "      <th>2023-03-31</th>\n",
       "      <td>0.019434</td>\n",
       "      <td>0.043766</td>\n",
       "      <td>0.022032</td>\n",
       "      <td>0.012332</td>\n",
       "      <td>0.0</td>\n",
       "      <td>bull</td>\n",
       "      <td>QQQ</td>\n",
       "    </tr>\n",
       "    <tr>\n",
       "      <th>2023-04-30</th>\n",
       "      <td>0.010181</td>\n",
       "      <td>0.016081</td>\n",
       "      <td>0.017591</td>\n",
       "      <td>0.000224</td>\n",
       "      <td>0.0</td>\n",
       "      <td>bear</td>\n",
       "      <td>SHY</td>\n",
       "    </tr>\n",
       "    <tr>\n",
       "      <th>2023-05-31</th>\n",
       "      <td>0.007863</td>\n",
       "      <td>0.043238</td>\n",
       "      <td>-0.006284</td>\n",
       "      <td>-0.010593</td>\n",
       "      <td>0.0</td>\n",
       "      <td>bear</td>\n",
       "      <td>SHY</td>\n",
       "    </tr>\n",
       "    <tr>\n",
       "      <th>2023-06-30</th>\n",
       "      <td>0.029371</td>\n",
       "      <td>0.044644</td>\n",
       "      <td>0.026046</td>\n",
       "      <td>0.024823</td>\n",
       "      <td>0.0</td>\n",
       "      <td>bull</td>\n",
       "      <td>QQQ</td>\n",
       "    </tr>\n",
       "  </tbody>\n",
       "</table>\n",
       "</div>"
      ],
      "text/plain": [
       "                 SPY       QQQ       VEA       VWO  SHY diretion signal\n",
       "Date                                                                   \n",
       "2023-01-31  0.017913  0.023466  0.039226  0.035548  0.0     bull    VEA\n",
       "2023-02-28 -0.009562 -0.004592 -0.003181 -0.021885  0.0     bear    SHY\n",
       "2023-03-31  0.019434  0.043766  0.022032  0.012332  0.0     bull    QQQ\n",
       "2023-04-30  0.010181  0.016081  0.017591  0.000224  0.0     bear    SHY\n",
       "2023-05-31  0.007863  0.043238 -0.006284 -0.010593  0.0     bear    SHY\n",
       "2023-06-30  0.029371  0.044644  0.026046  0.024823  0.0     bull    QQQ"
      ]
     },
     "execution_count": 41,
     "metadata": {},
     "output_type": "execute_result"
    }
   ],
   "source": [
    "## 시그널 근거\n",
    "signal_df.tail(6)"
   ]
  },
  {
   "cell_type": "code",
   "execution_count": 42,
   "metadata": {
    "ExecuteTime": {
     "end_time": "2023-05-15T06:48:39.507350Z",
     "start_time": "2023-05-15T06:48:39.479309Z"
    }
   },
   "outputs": [],
   "source": [
    "test_dfs = [result_df.reset_index().shift(i).set_index('Date')[-(len(result_df)+1 - int(len(result_df)/10)):]\n",
    "            for i in range(int(len(result_df)/10))]"
   ]
  },
  {
   "cell_type": "code",
   "execution_count": 43,
   "metadata": {
    "ExecuteTime": {
     "end_time": "2023-05-15T06:48:39.522309Z",
     "start_time": "2023-05-15T06:48:39.508357Z"
    }
   },
   "outputs": [
    {
     "name": "stdout",
     "output_type": "stream",
     "text": [
      "적립식 수행시, 누적 시뮬레이션 수익률: 60.05%\n"
     ]
    }
   ],
   "source": [
    "CAGR = np.mean([anal_funcs.get_ACI_CAGR(test_dfs[i]['strategy']) for i in range(len(test_dfs))])\n",
    "print(f'적립식 수행시, 누적 시뮬레이션 수익률: {CAGR.round(2)}%')"
   ]
  },
  {
   "cell_type": "code",
   "execution_count": 44,
   "metadata": {
    "ExecuteTime": {
     "end_time": "2023-05-15T06:48:39.537317Z",
     "start_time": "2023-05-15T06:48:39.523321Z"
    }
   },
   "outputs": [
    {
     "name": "stdout",
     "output_type": "stream",
     "text": [
      "적립식 수행시, 월평균 시뮬레이션 수익률: 0.55%\n"
     ]
    }
   ],
   "source": [
    "RPP = np.mean([anal_funcs.get_ACI_RPP(test_dfs[i]['strategy']) for i in range(len(test_dfs))])\n",
    "print(f'적립식 수행시, 월평균 시뮬레이션 수익률: {RPP.round(2)}%')"
   ]
  },
  {
   "cell_type": "code",
   "execution_count": 45,
   "metadata": {
    "ExecuteTime": {
     "end_time": "2023-05-15T06:48:39.612308Z",
     "start_time": "2023-05-15T06:48:39.538312Z"
    },
    "scrolled": false
   },
   "outputs": [
    {
     "data": {
      "text/html": [
       "<div>\n",
       "<style scoped>\n",
       "    .dataframe tbody tr th:only-of-type {\n",
       "        vertical-align: middle;\n",
       "    }\n",
       "\n",
       "    .dataframe tbody tr th {\n",
       "        vertical-align: top;\n",
       "    }\n",
       "\n",
       "    .dataframe thead th {\n",
       "        text-align: right;\n",
       "    }\n",
       "</style>\n",
       "<table border=\"1\" class=\"dataframe\">\n",
       "  <thead>\n",
       "    <tr style=\"text-align: right;\">\n",
       "      <th></th>\n",
       "      <th>SPY</th>\n",
       "      <th>QQQ</th>\n",
       "      <th>VEA</th>\n",
       "      <th>VWO</th>\n",
       "      <th>SHY</th>\n",
       "      <th>strategy</th>\n",
       "    </tr>\n",
       "    <tr>\n",
       "      <th>Date</th>\n",
       "      <th></th>\n",
       "      <th></th>\n",
       "      <th></th>\n",
       "      <th></th>\n",
       "      <th></th>\n",
       "      <th></th>\n",
       "    </tr>\n",
       "  </thead>\n",
       "  <tbody>\n",
       "    <tr>\n",
       "      <th>2008</th>\n",
       "      <td>-36.80</td>\n",
       "      <td>-41.73</td>\n",
       "      <td>-40.62</td>\n",
       "      <td>-52.46</td>\n",
       "      <td>0.0</td>\n",
       "      <td>-8.00</td>\n",
       "    </tr>\n",
       "    <tr>\n",
       "      <th>2009</th>\n",
       "      <td>26.35</td>\n",
       "      <td>54.68</td>\n",
       "      <td>27.51</td>\n",
       "      <td>76.31</td>\n",
       "      <td>0.0</td>\n",
       "      <td>38.81</td>\n",
       "    </tr>\n",
       "    <tr>\n",
       "      <th>2010</th>\n",
       "      <td>15.06</td>\n",
       "      <td>20.14</td>\n",
       "      <td>8.35</td>\n",
       "      <td>19.48</td>\n",
       "      <td>0.0</td>\n",
       "      <td>-6.63</td>\n",
       "    </tr>\n",
       "    <tr>\n",
       "      <th>2011</th>\n",
       "      <td>1.89</td>\n",
       "      <td>3.48</td>\n",
       "      <td>-12.31</td>\n",
       "      <td>-18.75</td>\n",
       "      <td>0.0</td>\n",
       "      <td>-9.72</td>\n",
       "    </tr>\n",
       "    <tr>\n",
       "      <th>2012</th>\n",
       "      <td>15.99</td>\n",
       "      <td>18.11</td>\n",
       "      <td>18.56</td>\n",
       "      <td>19.21</td>\n",
       "      <td>0.0</td>\n",
       "      <td>15.68</td>\n",
       "    </tr>\n",
       "    <tr>\n",
       "      <th>2013</th>\n",
       "      <td>32.31</td>\n",
       "      <td>36.63</td>\n",
       "      <td>21.81</td>\n",
       "      <td>-4.94</td>\n",
       "      <td>0.0</td>\n",
       "      <td>9.51</td>\n",
       "    </tr>\n",
       "    <tr>\n",
       "      <th>2014</th>\n",
       "      <td>13.46</td>\n",
       "      <td>19.18</td>\n",
       "      <td>-5.97</td>\n",
       "      <td>-0.04</td>\n",
       "      <td>0.0</td>\n",
       "      <td>1.23</td>\n",
       "    </tr>\n",
       "    <tr>\n",
       "      <th>2015</th>\n",
       "      <td>1.23</td>\n",
       "      <td>9.44</td>\n",
       "      <td>-0.37</td>\n",
       "      <td>-15.82</td>\n",
       "      <td>0.0</td>\n",
       "      <td>-5.83</td>\n",
       "    </tr>\n",
       "    <tr>\n",
       "      <th>2016</th>\n",
       "      <td>12.00</td>\n",
       "      <td>7.10</td>\n",
       "      <td>2.63</td>\n",
       "      <td>12.17</td>\n",
       "      <td>0.0</td>\n",
       "      <td>2.62</td>\n",
       "    </tr>\n",
       "    <tr>\n",
       "      <th>2017</th>\n",
       "      <td>21.71</td>\n",
       "      <td>32.66</td>\n",
       "      <td>26.42</td>\n",
       "      <td>31.49</td>\n",
       "      <td>0.0</td>\n",
       "      <td>22.96</td>\n",
       "    </tr>\n",
       "    <tr>\n",
       "      <th>2018</th>\n",
       "      <td>-4.57</td>\n",
       "      <td>-0.13</td>\n",
       "      <td>-14.75</td>\n",
       "      <td>-14.76</td>\n",
       "      <td>0.0</td>\n",
       "      <td>13.35</td>\n",
       "    </tr>\n",
       "    <tr>\n",
       "      <th>2019</th>\n",
       "      <td>31.22</td>\n",
       "      <td>38.96</td>\n",
       "      <td>22.62</td>\n",
       "      <td>20.75</td>\n",
       "      <td>0.0</td>\n",
       "      <td>8.64</td>\n",
       "    </tr>\n",
       "    <tr>\n",
       "      <th>2020</th>\n",
       "      <td>18.33</td>\n",
       "      <td>48.41</td>\n",
       "      <td>9.71</td>\n",
       "      <td>15.18</td>\n",
       "      <td>0.0</td>\n",
       "      <td>8.56</td>\n",
       "    </tr>\n",
       "    <tr>\n",
       "      <th>2021</th>\n",
       "      <td>28.73</td>\n",
       "      <td>27.42</td>\n",
       "      <td>11.66</td>\n",
       "      <td>1.26</td>\n",
       "      <td>0.0</td>\n",
       "      <td>8.07</td>\n",
       "    </tr>\n",
       "    <tr>\n",
       "      <th>2022</th>\n",
       "      <td>-18.18</td>\n",
       "      <td>-32.58</td>\n",
       "      <td>-15.34</td>\n",
       "      <td>-17.98</td>\n",
       "      <td>0.0</td>\n",
       "      <td>-2.18</td>\n",
       "    </tr>\n",
       "    <tr>\n",
       "      <th>MEAN</th>\n",
       "      <td>8.73</td>\n",
       "      <td>12.60</td>\n",
       "      <td>2.12</td>\n",
       "      <td>0.80</td>\n",
       "      <td>0.0</td>\n",
       "      <td>5.76</td>\n",
       "    </tr>\n",
       "  </tbody>\n",
       "</table>\n",
       "</div>"
      ],
      "text/plain": [
       "        SPY    QQQ    VEA    VWO  SHY  strategy\n",
       "Date                                           \n",
       "2008 -36.80 -41.73 -40.62 -52.46  0.0     -8.00\n",
       "2009  26.35  54.68  27.51  76.31  0.0     38.81\n",
       "2010  15.06  20.14   8.35  19.48  0.0     -6.63\n",
       "2011   1.89   3.48 -12.31 -18.75  0.0     -9.72\n",
       "2012  15.99  18.11  18.56  19.21  0.0     15.68\n",
       "2013  32.31  36.63  21.81  -4.94  0.0      9.51\n",
       "2014  13.46  19.18  -5.97  -0.04  0.0      1.23\n",
       "2015   1.23   9.44  -0.37 -15.82  0.0     -5.83\n",
       "2016  12.00   7.10   2.63  12.17  0.0      2.62\n",
       "2017  21.71  32.66  26.42  31.49  0.0     22.96\n",
       "2018  -4.57  -0.13 -14.75 -14.76  0.0     13.35\n",
       "2019  31.22  38.96  22.62  20.75  0.0      8.64\n",
       "2020  18.33  48.41   9.71  15.18  0.0      8.56\n",
       "2021  28.73  27.42  11.66   1.26  0.0      8.07\n",
       "2022 -18.18 -32.58 -15.34 -17.98  0.0     -2.18\n",
       "MEAN   8.73  12.60   2.12   0.80  0.0      5.76"
      ]
     },
     "execution_count": 45,
     "metadata": {},
     "output_type": "execute_result"
    }
   ],
   "source": [
    "## 연수익률\n",
    "anal_funcs.get_YTD_report(result_df, 'a')"
   ]
  },
  {
   "cell_type": "code",
   "execution_count": 46,
   "metadata": {
    "ExecuteTime": {
     "end_time": "2023-05-15T06:48:39.792334Z",
     "start_time": "2023-05-15T06:48:39.613310Z"
    }
   },
   "outputs": [
    {
     "data": {
      "text/html": [
       "<div>\n",
       "<style scoped>\n",
       "    .dataframe tbody tr th:only-of-type {\n",
       "        vertical-align: middle;\n",
       "    }\n",
       "\n",
       "    .dataframe tbody tr th {\n",
       "        vertical-align: top;\n",
       "    }\n",
       "\n",
       "    .dataframe thead th {\n",
       "        text-align: right;\n",
       "    }\n",
       "</style>\n",
       "<table border=\"1\" class=\"dataframe\">\n",
       "  <thead>\n",
       "    <tr style=\"text-align: right;\">\n",
       "      <th></th>\n",
       "      <th>MDD(%)</th>\n",
       "      <th>Date</th>\n",
       "    </tr>\n",
       "    <tr>\n",
       "      <th>Ticker</th>\n",
       "      <th></th>\n",
       "      <th></th>\n",
       "    </tr>\n",
       "  </thead>\n",
       "  <tbody>\n",
       "    <tr>\n",
       "      <th>SPY</th>\n",
       "      <td>-50.78</td>\n",
       "      <td>2009-02-28</td>\n",
       "    </tr>\n",
       "    <tr>\n",
       "      <th>QQQ</th>\n",
       "      <td>-49.74</td>\n",
       "      <td>2009-02-28</td>\n",
       "    </tr>\n",
       "    <tr>\n",
       "      <th>VEA</th>\n",
       "      <td>-57.05</td>\n",
       "      <td>2009-02-28</td>\n",
       "    </tr>\n",
       "    <tr>\n",
       "      <th>VWO</th>\n",
       "      <td>-61.69</td>\n",
       "      <td>2009-02-28</td>\n",
       "    </tr>\n",
       "    <tr>\n",
       "      <th>SHY</th>\n",
       "      <td>0.00</td>\n",
       "      <td>2007-09-30</td>\n",
       "    </tr>\n",
       "    <tr>\n",
       "      <th>strategy</th>\n",
       "      <td>-16.33</td>\n",
       "      <td>2011-11-30</td>\n",
       "    </tr>\n",
       "  </tbody>\n",
       "</table>\n",
       "</div>"
      ],
      "text/plain": [
       "          MDD(%)       Date\n",
       "Ticker                     \n",
       "SPY       -50.78 2009-02-28\n",
       "QQQ       -49.74 2009-02-28\n",
       "VEA       -57.05 2009-02-28\n",
       "VWO       -61.69 2009-02-28\n",
       "SHY         0.00 2007-09-30\n",
       "strategy  -16.33 2011-11-30"
      ]
     },
     "execution_count": 46,
     "metadata": {},
     "output_type": "execute_result"
    }
   ],
   "source": [
    "## 전고점대비 최대낙폭(MDD)\n",
    "MDD, HRR = anal_funcs.get_MDD_report(result_df, 'a')\n",
    "MDD"
   ]
  },
  {
   "cell_type": "code",
   "execution_count": 47,
   "metadata": {
    "ExecuteTime": {
     "end_time": "2023-05-15T06:48:54.314855Z",
     "start_time": "2023-05-15T06:48:53.670860Z"
    }
   },
   "outputs": [],
   "source": [
    "## sortino ratio\n",
    "sort_df = anal_funcs.get_Vol_report(test_dfs[0], 'g', unit='monthly', rf=3)\n",
    "## 모든 가능한 시작 시점에 대한 평가\n",
    "temp = ([anal_funcs.get_Vol_report(test_dfs[i], 'g', unit='monthly', rf=3) for i in range(len(test_dfs))])\n",
    "sort_df_simulation = (sum(temp)/len(temp)).round(2)"
   ]
  },
  {
   "cell_type": "code",
   "execution_count": 48,
   "metadata": {},
   "outputs": [
    {
     "data": {
      "text/html": [
       "<div>\n",
       "<style scoped>\n",
       "    .dataframe tbody tr th:only-of-type {\n",
       "        vertical-align: middle;\n",
       "    }\n",
       "\n",
       "    .dataframe tbody tr th {\n",
       "        vertical-align: top;\n",
       "    }\n",
       "\n",
       "    .dataframe thead th {\n",
       "        text-align: right;\n",
       "    }\n",
       "</style>\n",
       "<table border=\"1\" class=\"dataframe\">\n",
       "  <thead>\n",
       "    <tr style=\"text-align: right;\">\n",
       "      <th></th>\n",
       "      <th>Return</th>\n",
       "      <th>Volatility</th>\n",
       "      <th>Volatility(Down)</th>\n",
       "      <th>Residual</th>\n",
       "      <th>Beta</th>\n",
       "      <th>Sharpe_Ratio</th>\n",
       "      <th>Sortino_Ratio</th>\n",
       "      <th>Trainer_Ratio</th>\n",
       "      <th>Jensen_Alpha</th>\n",
       "      <th>Info_Ratio</th>\n",
       "    </tr>\n",
       "    <tr>\n",
       "      <th>Ticker</th>\n",
       "      <th></th>\n",
       "      <th></th>\n",
       "      <th></th>\n",
       "      <th></th>\n",
       "      <th></th>\n",
       "      <th></th>\n",
       "      <th></th>\n",
       "      <th></th>\n",
       "      <th></th>\n",
       "      <th></th>\n",
       "    </tr>\n",
       "  </thead>\n",
       "  <tbody>\n",
       "    <tr>\n",
       "      <th>SPY</th>\n",
       "      <td>6.67</td>\n",
       "      <td>4.54</td>\n",
       "      <td>3.55</td>\n",
       "      <td>0.00</td>\n",
       "      <td>1.00</td>\n",
       "      <td>0.81</td>\n",
       "      <td>1.06</td>\n",
       "      <td>3.67</td>\n",
       "      <td>0.00</td>\n",
       "      <td>NaN</td>\n",
       "    </tr>\n",
       "    <tr>\n",
       "      <th>QQQ</th>\n",
       "      <td>8.38</td>\n",
       "      <td>5.28</td>\n",
       "      <td>3.73</td>\n",
       "      <td>2.11</td>\n",
       "      <td>0.79</td>\n",
       "      <td>1.02</td>\n",
       "      <td>1.46</td>\n",
       "      <td>6.81</td>\n",
       "      <td>2.48</td>\n",
       "      <td>0.81</td>\n",
       "    </tr>\n",
       "    <tr>\n",
       "      <th>VEA</th>\n",
       "      <td>3.24</td>\n",
       "      <td>5.28</td>\n",
       "      <td>4.03</td>\n",
       "      <td>2.36</td>\n",
       "      <td>0.77</td>\n",
       "      <td>0.05</td>\n",
       "      <td>0.09</td>\n",
       "      <td>0.31</td>\n",
       "      <td>-2.59</td>\n",
       "      <td>-1.45</td>\n",
       "    </tr>\n",
       "    <tr>\n",
       "      <th>VWO</th>\n",
       "      <td>2.62</td>\n",
       "      <td>6.11</td>\n",
       "      <td>4.62</td>\n",
       "      <td>3.95</td>\n",
       "      <td>0.57</td>\n",
       "      <td>-0.05</td>\n",
       "      <td>-0.04</td>\n",
       "      <td>-0.67</td>\n",
       "      <td>-2.46</td>\n",
       "      <td>-1.03</td>\n",
       "    </tr>\n",
       "    <tr>\n",
       "      <th>SHY</th>\n",
       "      <td>0.00</td>\n",
       "      <td>0.00</td>\n",
       "      <td>NaN</td>\n",
       "      <td>4.54</td>\n",
       "      <td>NaN</td>\n",
       "      <td>-inf</td>\n",
       "      <td>NaN</td>\n",
       "      <td>NaN</td>\n",
       "      <td>NaN</td>\n",
       "      <td>-1.47</td>\n",
       "    </tr>\n",
       "    <tr>\n",
       "      <th>strategy</th>\n",
       "      <td>4.53</td>\n",
       "      <td>3.00</td>\n",
       "      <td>2.36</td>\n",
       "      <td>4.37</td>\n",
       "      <td>0.58</td>\n",
       "      <td>0.51</td>\n",
       "      <td>0.65</td>\n",
       "      <td>2.61</td>\n",
       "      <td>-0.61</td>\n",
       "      <td>-0.49</td>\n",
       "    </tr>\n",
       "  </tbody>\n",
       "</table>\n",
       "</div>"
      ],
      "text/plain": [
       "          Return  Volatility  Volatility(Down)  Residual  Beta  Sharpe_Ratio  \\\n",
       "Ticker                                                                         \n",
       "SPY         6.67        4.54              3.55      0.00  1.00          0.81   \n",
       "QQQ         8.38        5.28              3.73      2.11  0.79          1.02   \n",
       "VEA         3.24        5.28              4.03      2.36  0.77          0.05   \n",
       "VWO         2.62        6.11              4.62      3.95  0.57         -0.05   \n",
       "SHY         0.00        0.00               NaN      4.54   NaN          -inf   \n",
       "strategy    4.53        3.00              2.36      4.37  0.58          0.51   \n",
       "\n",
       "          Sortino_Ratio  Trainer_Ratio  Jensen_Alpha  Info_Ratio  \n",
       "Ticker                                                            \n",
       "SPY                1.06           3.67          0.00         NaN  \n",
       "QQQ                1.46           6.81          2.48        0.81  \n",
       "VEA                0.09           0.31         -2.59       -1.45  \n",
       "VWO               -0.04          -0.67         -2.46       -1.03  \n",
       "SHY                 NaN            NaN           NaN       -1.47  \n",
       "strategy           0.65           2.61         -0.61       -0.49  "
      ]
     },
     "execution_count": 48,
     "metadata": {},
     "output_type": "execute_result"
    }
   ],
   "source": [
    "sort_df_simulation"
   ]
  },
  {
   "cell_type": "code",
   "execution_count": 49,
   "metadata": {},
   "outputs": [
    {
     "data": {
      "image/png": "[encoded data removed]",
      "text/plain": [
       "<Figure size 720x432 with 1 Axes>"
      ]
     },
     "metadata": {},
     "output_type": "display_data"
    }
   ],
   "source": [
    "result_df[['SPY', 'QQQ', 'strategy']].plot()\n",
    "plt.yscale('log')"
   ]
  },
  {
   "cell_type": "code",
   "execution_count": 50,
   "metadata": {},
   "outputs": [
    {
     "data": {
      "text/plain": [
       "<AxesSubplot:xlabel='Date'>"
      ]
     },
     "execution_count": 50,
     "metadata": {},
     "output_type": "execute_result"
    },
    {
     "data": {
      "image/png": "[encoded data removed]",
      "text/plain": [
       "<Figure size 720x432 with 1 Axes>"
      ]
     },
     "metadata": {},
     "output_type": "display_data"
    }
   ],
   "source": [
    "HRR[['SPY', 'QQQ', 'strategy']].plot()"
   ]
  },
  {
   "cell_type": "code",
   "execution_count": null,
   "metadata": {},
   "outputs": [],
   "source": []
  },
  {
   "cell_type": "code",
   "execution_count": null,
   "metadata": {},
   "outputs": [],
   "source": []
  },
  {
   "cell_type": "code",
   "execution_count": null,
   "metadata": {},
   "outputs": [],
   "source": []
  }
 ],
 "metadata": {
  "hide_input": false,
  "kernelspec": {
   "display_name": "Python 3 (ipykernel)",
   "language": "python",
   "name": "python3"
  },
  "language_info": {
   "codemirror_mode": {
    "name": "ipython",
    "version": 3
   },
   "file_extension": ".py",
   "mimetype": "text/x-python",
   "name": "python",
   "nbconvert_exporter": "python",
   "pygments_lexer": "ipython3",
   "version": "3.9.7"
  },
  "toc": {
   "base_numbering": 1,
   "nav_menu": {},
   "number_sections": true,
   "sideBar": true,
   "skip_h1_title": false,
   "title_cell": "Table of Contents",
   "title_sidebar": "Contents",
   "toc_cell": false,
   "toc_position": {},
   "toc_section_display": true,
   "toc_window_display": false
  },
  "varInspector": {
   "cols": {
    "lenName": 16,
    "lenType": 16,
    "lenVar": 40
   },
   "kernels_config": {
    "python": {
     "delete_cmd_postfix": "",
     "delete_cmd_prefix": "del ",
     "library": "var_list.py",
     "varRefreshCmd": "print(var_dic_list())"
    },
    "r": {
     "delete_cmd_postfix": ") ",
     "delete_cmd_prefix": "rm(",
     "library": "var_list.r",
     "varRefreshCmd": "cat(var_dic_list()) "
    }
   },
   "types_to_exclude": [
    "module",
    "function",
    "builtin_function_or_method",
    "instance",
    "_Feature"
   ],
   "window_display": false
  }
 },
 "nbformat": 4,
 "nbformat_minor": 4
}
