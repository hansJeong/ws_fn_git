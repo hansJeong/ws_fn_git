{
 "cells": [
  {
   "cell_type": "code",
   "execution_count": 1,
   "id": "8f5240d3",
   "metadata": {
    "ExecuteTime": {
     "end_time": "2023-03-31T10:04:28.241745Z",
     "start_time": "2023-03-31T10:04:27.218022Z"
    }
   },
   "outputs": [],
   "source": [
    "import pandas as pd\n",
    "import warnings\n",
    "warnings.filterwarnings('ignore')\n",
    "import numpy as np\n",
    "import datetime as dt\n",
    "import math\n",
    "\n",
    "import ruptures as rpt"
   ]
  },
  {
   "cell_type": "code",
   "execution_count": 2,
   "id": "e916d0e4",
   "metadata": {
    "ExecuteTime": {
     "end_time": "2023-03-31T10:04:28.256998Z",
     "start_time": "2023-03-31T10:04:28.245991Z"
    }
   },
   "outputs": [],
   "source": [
    "from scipy.optimize import minimize\n",
    "from scipy.optimize import basinhopping\n",
    "from scipy.signal import find_peaks\n",
    "import scipy.fft\n",
    "from itertools import product"
   ]
  },
  {
   "cell_type": "code",
   "execution_count": 3,
   "id": "e5fe98c8",
   "metadata": {
    "ExecuteTime": {
     "end_time": "2023-03-31T10:04:28.515732Z",
     "start_time": "2023-03-31T10:04:28.257992Z"
    }
   },
   "outputs": [],
   "source": [
    "import yfinance as yf\n",
    "## FRED 정보 수집\n",
    "from fredapi import Fred\n",
    "fred = Fred(api_key='cfb4f49f5c1a9396f671b8049d992e56')"
   ]
  },
  {
   "cell_type": "code",
   "execution_count": 4,
   "id": "7ced4a9d",
   "metadata": {
    "ExecuteTime": {
     "end_time": "2023-03-31T10:04:29.404165Z",
     "start_time": "2023-03-31T10:04:28.516900Z"
    }
   },
   "outputs": [
    {
     "data": {
      "text/html": [
       "        <script type=\"text/javascript\">\n",
       "        window.PlotlyConfig = {MathJaxConfig: 'local'};\n",
       "        if (window.MathJax && window.MathJax.Hub && window.MathJax.Hub.Config) {window.MathJax.Hub.Config({SVG: {font: \"STIX-Web\"}});}\n",
       "        if (typeof require !== 'undefined') {\n",
       "        require.undef(\"plotly\");\n",
       "        requirejs.config({\n",
       "            paths: {\n",
       "                'plotly': ['https://cdn.plot.ly/plotly-2.12.1.min']\n",
       "            }\n",
       "        });\n",
       "        require(['plotly'], function(Plotly) {\n",
       "            window._Plotly = Plotly;\n",
       "        });\n",
       "        }\n",
       "        </script>\n",
       "        "
      ]
     },
     "metadata": {},
     "output_type": "display_data"
    }
   ],
   "source": [
    "# 시각화 관련\n",
    "import plotly_express as px\n",
    "import plotly.figure_factory as ff\n",
    "# px를 쉽고 빠르게 붙여주는 모듈 cufflinksget_rsi\n",
    "import cufflinks as cf\n",
    "cf.go_offline(connected=True)\n",
    "## cf.getThemes()\n",
    "cf.set_config_file(theme='polar')\n",
    "import plotly.graph_objects as go\n",
    "\n",
    "import matplotlib\n",
    "%matplotlib inline\n",
    "\n",
    "import matplotlib.pyplot as plt\n",
    "import seaborn as sns\n",
    "sns.set_style('whitegrid')\n",
    "## plt.style.use(\"fivethirtyeight\")\n",
    "plt.rcParams['font.family'] = 'Malgun Gothic'\n",
    "plt.rcParams['axes.unicode_minus'] = False\n",
    "plt.rcParams[\"figure.figsize\"] = (10,6)"
   ]
  },
  {
   "cell_type": "code",
   "execution_count": 5,
   "id": "e9b11183",
   "metadata": {
    "ExecuteTime": {
     "end_time": "2023-03-31T10:04:30.698039Z",
     "start_time": "2023-03-31T10:04:30.062271Z"
    }
   },
   "outputs": [],
   "source": [
    "%run ../library/QUANT_FUNCTIONS.ipynb\n",
    "Q = QUANT()\n",
    "D = DATA()"
   ]
  },
  {
   "cell_type": "code",
   "execution_count": 6,
   "id": "335dd4d8",
   "metadata": {
    "ExecuteTime": {
     "end_time": "2023-03-31T10:04:32.334095Z",
     "start_time": "2023-03-31T10:04:30.699040Z"
    }
   },
   "outputs": [
    {
     "name": "stdout",
     "output_type": "stream",
     "text": [
      "[*********************100%***********************]  2 of 2 completed\n"
     ]
    }
   ],
   "source": [
    "df = D.get_merged_df('^IXIC', '^GSPC')\n",
    "df = df.fillna(method = 'pad')"
   ]
  },
  {
   "cell_type": "code",
   "execution_count": 7,
   "id": "85c68029",
   "metadata": {
    "ExecuteTime": {
     "end_time": "2023-03-31T10:04:32.349112Z",
     "start_time": "2023-03-31T10:04:32.335098Z"
    }
   },
   "outputs": [],
   "source": [
    "dataset = df[['^GSPC']].copy()\n",
    "\n",
    "## 기준지표 생성\n",
    "## MA20\n",
    "dataset['M_st'] = dataset['^GSPC'].rolling(20).mean()\n",
    "## MA120\n",
    "dataset['M_lt'] = dataset['^GSPC'].rolling(120).mean()\n",
    "dataset['S_lt'] = dataset['^GSPC'].rolling(120).std()\n",
    "## MA120 +- 3*STD120\n",
    "dataset['UB'] = dataset['M_lt'] + dataset['S_lt']*3\n",
    "dataset['DB'] = dataset['M_lt'] - dataset['S_lt']*3\n",
    "\n",
    "dataset = dataset[['^GSPC', 'M_st', 'UB', 'DB']].dropna()\n",
    "\n",
    "## 모맨텀 발생\n",
    "dataset['momentum'] = dataset['^GSPC'] > dataset['M_st']\n",
    "\n",
    "## 상하방 밴드 이탈\n",
    "dataset['overbought'] = dataset['^GSPC'] >= dataset['UB']\n",
    "dataset['oversold'] = dataset['^GSPC'] <= dataset['DB']"
   ]
  },
  {
   "cell_type": "code",
   "execution_count": null,
   "id": "6cc86dd2",
   "metadata": {},
   "outputs": [],
   "source": [
    "dataset['signal'] = dataset['momentum'].copy()"
   ]
  },
  {
   "cell_type": "code",
   "execution_count": null,
   "id": "7ceee735",
   "metadata": {},
   "outputs": [],
   "source": [
    "dataset['signal'][dataset['overbought'] == True] = False\n",
    "dataset['signal'][dataset['oversold'] == True] = True"
   ]
  },
  {
   "cell_type": "code",
   "execution_count": 38,
   "id": "90798563",
   "metadata": {
    "ExecuteTime": {
     "end_time": "2023-03-31T06:36:36.629213Z",
     "start_time": "2023-03-31T06:36:36.617116Z"
    }
   },
   "outputs": [],
   "source": []
  },
  {
   "cell_type": "code",
   "execution_count": 41,
   "id": "420930d5",
   "metadata": {
    "ExecuteTime": {
     "end_time": "2023-03-31T06:36:41.234045Z",
     "start_time": "2023-03-31T06:36:41.225315Z"
    }
   },
   "outputs": [],
   "source": []
  },
  {
   "cell_type": "code",
   "execution_count": 43,
   "id": "f816985d",
   "metadata": {
    "ExecuteTime": {
     "end_time": "2023-03-31T06:36:45.173510Z",
     "start_time": "2023-03-31T06:36:45.145404Z"
    }
   },
   "outputs": [],
   "source": [
    "## 신호 변동발생 확인\n",
    "dataset['prev'] = dataset['signal'].shift(1)\n",
    "dataset['change'] = False\n",
    "dataset['change'][dataset['signal'] != dataset['prev']] = True\n",
    "\n",
    "## 포지션 보유 지정\n",
    "dataset['position'] = False\n",
    "dataset['position'][(dataset['signal'] == True)&(dataset['change'] == False)] = True\n",
    "dataset['position'][(dataset['signal'] == False)&(dataset['change'] == True)] = True"
   ]
  },
  {
   "cell_type": "code",
   "execution_count": 44,
   "id": "4dff1e11",
   "metadata": {
    "ExecuteTime": {
     "end_time": "2023-03-31T06:36:45.691989Z",
     "start_time": "2023-03-31T06:36:45.673633Z"
    }
   },
   "outputs": [],
   "source": [
    "new_df = dataset.copy()\n",
    "new_df['rets'] = new_df['^GSPC'].pct_change()\n",
    "new_df = new_df.dropna(subset = ['rets'])"
   ]
  },
  {
   "cell_type": "code",
   "execution_count": 45,
   "id": "132cc8a3",
   "metadata": {
    "ExecuteTime": {
     "end_time": "2023-03-31T06:36:46.072982Z",
     "start_time": "2023-03-31T06:36:46.057253Z"
    }
   },
   "outputs": [],
   "source": [
    "new_df['rets_cum'] = (new_df['rets'] + 1).cumprod()\n",
    "new_df['rets_cum_str'] = (new_df['rets'][new_df['position'] == True] + 1).cumprod()\n",
    "new_df['rets_cum_str'] = new_df['rets_cum_str'].fillna(method='pad').fillna(1)"
   ]
  },
  {
   "cell_type": "code",
   "execution_count": 46,
   "id": "b6db2bb6",
   "metadata": {
    "ExecuteTime": {
     "end_time": "2023-03-31T06:36:47.005445Z",
     "start_time": "2023-03-31T06:36:46.642283Z"
    }
   },
   "outputs": [
    {
     "data": {
      "text/plain": [
       "<AxesSubplot:xlabel='Date'>"
      ]
     },
     "execution_count": 46,
     "metadata": {},
     "output_type": "execute_result"
    },
    {
     "data": {
      "image/png": "[encoded data removed]",
      "text/plain": [
       "<Figure size 720x432 with 1 Axes>"
      ]
     },
     "metadata": {},
     "output_type": "display_data"
    }
   ],
   "source": [
    "new_df[['rets_cum', 'rets_cum_str']].plot()"
   ]
  },
  {
   "cell_type": "code",
   "execution_count": null,
   "id": "a85687b8",
   "metadata": {},
   "outputs": [],
   "source": []
  },
  {
   "cell_type": "code",
   "execution_count": null,
   "id": "246cf132",
   "metadata": {},
   "outputs": [],
   "source": []
  },
  {
   "cell_type": "code",
   "execution_count": null,
   "id": "db5f4296",
   "metadata": {},
   "outputs": [],
   "source": []
  },
  {
   "cell_type": "code",
   "execution_count": null,
   "id": "b9da316d",
   "metadata": {},
   "outputs": [],
   "source": []
  }
 ],
 "metadata": {
  "hide_input": false,
  "kernelspec": {
   "display_name": "Python 3 (ipykernel)",
   "language": "python",
   "name": "python3"
  },
  "language_info": {
   "codemirror_mode": {
    "name": "ipython",
    "version": 3
   },
   "file_extension": ".py",
   "mimetype": "text/x-python",
   "name": "python",
   "nbconvert_exporter": "python",
   "pygments_lexer": "ipython3",
   "version": "3.9.7"
  },
  "toc": {
   "base_numbering": 1,
   "nav_menu": {},
   "number_sections": true,
   "sideBar": true,
   "skip_h1_title": false,
   "title_cell": "Table of Contents",
   "title_sidebar": "Contents",
   "toc_cell": false,
   "toc_position": {},
   "toc_section_display": true,
   "toc_window_display": false
  }
 },
 "nbformat": 4,
 "nbformat_minor": 5
}
